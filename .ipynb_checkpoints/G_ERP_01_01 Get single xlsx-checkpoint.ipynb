{
 "cells": [
  {
   "cell_type": "markdown",
   "metadata": {},
   "source": [
    "# 01-Trim off col and row of None from Original BOM and Save it as csv "
   ]
  },
  {
   "cell_type": "code",
   "execution_count": 184,
   "metadata": {},
   "outputs": [],
   "source": [
    "import pandas as pd\n",
    "import numpy as np\n",
    "from openpyxl import load_workbook"
   ]
  },
  {
   "cell_type": "markdown",
   "metadata": {},
   "source": [
    "### Get the wb to DataFrame\n",
    "#### At this moment, the dataFrame BOM contains the cell of the wb\n",
    "#### We can't read the value of the cell directly, jsut like there is a layer between the value and DataFrame BOM"
   ]
  },
  {
   "cell_type": "code",
   "execution_count": 185,
   "metadata": {},
   "outputs": [],
   "source": [
    "def get_xlsx(xlsx_data):\n",
    "    # get the xlsx file\n",
    "    wb = load_workbook(xlsx_data)\n",
    "    \n",
    "    # import the one of the data of worksheet from the xlsx as a DataFrame\n",
    "    bom = pd.DataFrame(data = wb[wb.sheetnames[0]])\n",
    "    \n",
    "    # Create an empty dataFrame in structure as bom\n",
    "    new_bom = pd.DataFrame(index = bom.index, columns = bom.columns)\n",
    "    \n",
    "    # Fetch the values from bom and insert it to new_bom\n",
    "    # We fetch the value and insert to the new_BOM, so we can directly read the values by dataFrame methods\n",
    "    for col in bom.columns:\n",
    "        for row in bom.index:\n",
    "            new_bom[col][row] = bom[col][row].value\n",
    "            \n",
    "    return new_bom\n"
   ]
  },
  {
   "cell_type": "markdown",
   "metadata": {},
   "source": [
    "### Delete column all with None\n",
    "#### Delete the column that is \n",
    "*  new_BOM[column].count() == 0 "
   ]
  },
  {
   "cell_type": "code",
   "execution_count": 1,
   "metadata": {},
   "outputs": [],
   "source": [
    "def trim_None_col(bom):\n",
    "\n",
    "    for col in bom:\n",
    "        \n",
    "        if bom[col].count() == 0:\n",
    "            bom = bom.drop([col], axis = 1)\n",
    "    \n",
    "    return bom"
   ]
  },
  {
   "cell_type": "markdown",
   "metadata": {},
   "source": [
    "### Delete row all with None\n",
    "#### The steps\n",
    "*  Check all the cell in the frist column, if the cell with None, get the index to the list \"z\"\n",
    "*  Check the rows with index in list \"z\", if the cells in the row are all in value None, then get the index of the row to list \"row_want_delete\"\n",
    "*  Delete the row by index in list \"row_want_delete\"."
   ]
  },
  {
   "cell_type": "code",
   "execution_count": 191,
   "metadata": {},
   "outputs": [],
   "source": [
    "def trim_None_row(bom):\n",
    "    new_bom = bom\n",
    "    z = []\n",
    "    row_want_delete = []\n",
    "    \n",
    "    # Check the first cell with no value in first column\n",
    "    #Get z\n",
    "    z = bom[bom[0].values == None].index\n",
    "   \n",
    "    # Check if the row with first cell None is each of its cell all None\n",
    "    # Get the index of row want to delete\n",
    "    for index in z:\n",
    "        if (bom.loc[index]).count().sum() == 0:\n",
    "            row_want_delete.append(index)\n",
    "\n",
    "    # Delete the rows\n",
    "    new_bom = new_bom.drop(row_want_delete, axis = 0)\n",
    "            \n",
    "    return new_bom"
   ]
  },
  {
   "cell_type": "code",
   "execution_count": null,
   "metadata": {},
   "outputs": [],
   "source": []
  },
  {
   "cell_type": "code",
   "execution_count": null,
   "metadata": {},
   "outputs": [],
   "source": []
  },
  {
   "cell_type": "code",
   "execution_count": null,
   "metadata": {},
   "outputs": [],
   "source": []
  },
  {
   "cell_type": "code",
   "execution_count": null,
   "metadata": {},
   "outputs": [],
   "source": []
  },
  {
   "cell_type": "code",
   "execution_count": null,
   "metadata": {},
   "outputs": [],
   "source": []
  }
 ],
 "metadata": {
  "kernelspec": {
   "display_name": "Python 3",
   "language": "python",
   "name": "python3"
  },
  "language_info": {
   "codemirror_mode": {
    "name": "ipython",
    "version": 3
   },
   "file_extension": ".py",
   "mimetype": "text/x-python",
   "name": "python",
   "nbconvert_exporter": "python",
   "pygments_lexer": "ipython3",
   "version": "3.7.4"
  }
 },
 "nbformat": 4,
 "nbformat_minor": 2
}
