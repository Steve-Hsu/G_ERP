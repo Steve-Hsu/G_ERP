{
 "cells": [
  {
   "cell_type": "markdown",
   "metadata": {},
   "source": [
    "# 01_02_Walk through and turn all BOM(xlsx) to trimed csv in a directory "
   ]
  },
  {
   "cell_type": "code",
   "execution_count": 34,
   "metadata": {},
   "outputs": [],
   "source": [
    "# 3rd pty modules\n",
    "import pandas as pd\n",
    "import numpy as np\n",
    "from openpyxl import load_workbook\n",
    "from os import walk\n",
    "from os.path import join\n",
    "\n",
    "# Custom modules\n",
    "from G_ERP_01_01 import get_xlsx, trim_None_col, trim_None_row\n",
    "\n",
    "DataDir = 'Bom datas/Airblaster/AB BOM'\n",
    "SaveDir = 'Bom datas/Airblaster/AB trimed BOM'"
   ]
  },
  {
   "cell_type": "markdown",
   "metadata": {},
   "source": [
    "## Function_1\n",
    "### csvs_convert()\n",
    "* In a directory, convert all the xlsx file into csv file.\n",
    "* Meanwhile, convert all the string into lowercase."
   ]
  },
  {
   "cell_type": "code",
   "execution_count": 16,
   "metadata": {},
   "outputs": [],
   "source": [
    "def csvs_convert(from_dir_path, to_dir_path):\n",
    "    for root, dirnames, filenames in walk(from_dir_path):\n",
    "        \n",
    "        # walk through each xlsx file\n",
    "        for file_name in filenames:\n",
    "            \n",
    "            \n",
    "            # get the path of the file\n",
    "            # To Avoid the method to work with Mac original useless data.\n",
    "            if file_name == '.DS_Store' or file_name.startswith('~$'):\n",
    "                print('Detect unwanted file format')\n",
    "            else:\n",
    "                filepath = join(root, file_name)\n",
    "                \n",
    "                # custom method 1\n",
    "                bom = get_xlsx(filepath)\n",
    "                \n",
    "                # custom method 2\n",
    "                trim_col_bom = trim_None_col(bom)\n",
    "                \n",
    "                # custom method 3\n",
    "                trim_row_bom = trim_None_row(trim_col_bom)\n",
    "                \n",
    "                # convert all string to lowercase\n",
    "                trim_row_bom = trim_row_bom.apply(lambda x: x.astype(str).str.lower())\n",
    "                \n",
    "                # Change the string variabe, the file_name, replace the .xlsx by .csv\n",
    "                csv_file_name = file_name.replace('.xlsx', '.csv')\n",
    "                \n",
    "                # Save the result as csv with the string variable, the file_name.\n",
    "                trim_row_bom.to_csv(join(to_dir_path, csv_file_name)) \n",
    "     \n",
    "    return"
   ]
  },
  {
   "cell_type": "code",
   "execution_count": 17,
   "metadata": {},
   "outputs": [
    {
     "name": "stdout",
     "output_type": "stream",
     "text": [
      "Detect unwanted file format\n",
      "CPU times: user 2 µs, sys: 0 ns, total: 2 µs\n",
      "Wall time: 5.01 µs\n"
     ]
    }
   ],
   "source": [
    "csvs_convert(DataDir, SaveDir)\n",
    "%time"
   ]
  },
  {
   "cell_type": "code",
   "execution_count": null,
   "metadata": {},
   "outputs": [],
   "source": []
  }
 ],
 "metadata": {
  "kernelspec": {
   "display_name": "Python 3",
   "language": "python",
   "name": "python3"
  },
  "language_info": {
   "codemirror_mode": {
    "name": "ipython",
    "version": 3
   },
   "file_extension": ".py",
   "mimetype": "text/x-python",
   "name": "python",
   "nbconvert_exporter": "python",
   "pygments_lexer": "ipython3",
   "version": "3.7.4"
  }
 },
 "nbformat": 4,
 "nbformat_minor": 2
}
