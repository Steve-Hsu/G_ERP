{
 "cells": [
  {
   "cell_type": "markdown",
   "metadata": {},
   "source": [
    "# 02_01 Delete head and foot of BOM from csv"
   ]
  },
  {
   "cell_type": "code",
   "execution_count": 109,
   "metadata": {},
   "outputs": [],
   "source": [
    "# 3rd pty modules\n",
    "import pandas as pd\n",
    "import numpy as np\n",
    "from openpyxl import load_workbook\n",
    "from os import walk\n",
    "from os.path import join\n",
    "\n",
    "# Custom modules\n",
    "from G_ERP_01_01_L1_Get_xlsx_1_sheet_1_csv import get_xlsx, trim_None_col, trim_None_row\n",
    "\n",
    "FromDir = 'Result_1'\n",
    "ToDir = 'Result_2'\n",
    "\n",
    "# test ='L1-102-18_SUTTON_4_7_17_TRIMS'"
   ]
  },
  {
   "cell_type": "markdown",
   "metadata": {},
   "source": [
    "## Function_1\n",
    "### delete_head_foot_csv\n",
    "* Delete the head and foot of the bom in single csv file"
   ]
  },
  {
   "cell_type": "code",
   "execution_count": 185,
   "metadata": {},
   "outputs": [],
   "source": [
    "def delete_head_foot_csv(csv_file):\n",
    "    # import dataFrame by path of the csv file\n",
    "    bom = pd.read_csv(csv_file)\n",
    "    list_row = []\n",
    "    # delete the old index\n",
    "    bom.drop(columns = 'Unnamed: 0', inplace = True)\n",
    "    \n",
    "    # loop through the rows of the dataFrame\n",
    "    for row in bom.index:\n",
    "        # delete the rows that contain cell with value less than 5 cells\n",
    "        # by Airblaster's BOM it would find out the main area of the bom\n",
    "        # As we've turned all cell lowercase, the None will be turned into a string \"none\"\n",
    "        # Therefore, here we check nubmer of string 'none', to delete unwanted rows.\n",
    "        if bom.iloc[row].str.contains('none').sum() > 5:\n",
    "            list_row.append(row)\n",
    "        elif bom.iloc[row].str.contains('update').sum() > 0: # Especially for BOM of AB\n",
    "            list_row.append(row)\n",
    "        \n",
    "    new_bom = bom.drop(list_row)\n",
    "    \n",
    "    # Especially for BOM of AB\n",
    "    # Add the \"label\" for the cell[0:1][0], \n",
    "    #it will be the first column header in the next step\n",
    "    if new_bom.columns[0] == '0':\n",
    "        new_bom.iloc[0]['0'] = 'label' \n",
    "    \n",
    "    # Especially for BOM of L1\n",
    "    new_bom.iloc[0]['0'] = 'position'\n",
    "    if new_bom.iloc[0]['1'].startswith('item'):\n",
    "        new_bom.iloc[0]['1'] = 'location'\n",
    "    else:\n",
    "        new_bom.iloc[0]['1'] = 'ref num'\n",
    "    \n",
    "    if new_bom.iloc[0]['2'].startswith('supplier'):\n",
    "        new_bom.iloc[0]['2'] = 'ref num'\n",
    "    \n",
    "    \n",
    "    # Especially for BOM of AB\n",
    "    # Double check if there any unwanted row. \n",
    "    # in this moment, this column should be with name \"none\", \n",
    "    # The column named 'none' should be last col if it exists.\n",
    "#     if new_bom.iloc[0].str.contains('none').sum() > 0:\n",
    "#         last_row = new_bom.shape[1]\n",
    "#         new_bom = new_bom.drop(new_bom.columns[last_row - 1], axis = 1)\n",
    "            \n",
    "    return new_bom"
   ]
  },
  {
   "cell_type": "markdown",
   "metadata": {},
   "source": [
    "## Function_2\n",
    "### delete_head_foot_dir\n",
    "* Walk through a directory, the path(from_dir_path).\n",
    "* Delete the head and foot of the bom in a csv that in the diretory\n",
    "* Save all the trimed csv file to a directory, the path(to_dir_path)."
   ]
  },
  {
   "cell_type": "code",
   "execution_count": 186,
   "metadata": {},
   "outputs": [],
   "source": [
    "def delete_head_foot_dir(from_dir_path, to_dir_path):\n",
    "    bom = pd.DataFrame()\n",
    "    for root, dirnames, filenames in walk(from_dir_path):\n",
    "        \n",
    "        # walk through each csv file\n",
    "        for file_name in filenames:\n",
    "            # get the path of the file\n",
    "            # To Avoid the method to work with Mac original useless data.\n",
    "            if file_name == '.DS_Store' or file_name.startswith('~$'):\n",
    "                print('Detect unwanted file format')\n",
    "            else:\n",
    "                filepath = join(root, file_name)\n",
    "                #Call the custom function to cut off the head and foot of the csv\n",
    "                new_bom = delete_head_foot_csv(filepath)\n",
    "                \n",
    "                #Take first row as the Column Header\n",
    "                new_bom.columns = new_bom.iloc[0]\n",
    "                  \n",
    "                #Delete all rows has same value as first row, \n",
    "                #as it still remain in the dataFrame\n",
    "                new_bom = new_bom.iloc[pd.RangeIndex(len(new_bom)).drop(0)]\n",
    "                \n",
    "                #Save to the appointed directory\n",
    "                new_bom.to_csv(join(to_dir_path, file_name))\n",
    "                \n",
    "    return bom"
   ]
  },
  {
   "cell_type": "code",
   "execution_count": 187,
   "metadata": {},
   "outputs": [
    {
     "name": "stdout",
     "output_type": "stream",
     "text": [
      "Detect unwanted file format\n",
      "CPU times: user 5.79 s, sys: 150 ms, total: 5.94 s\n",
      "Wall time: 7.87 s\n"
     ]
    },
    {
     "data": {
      "text/html": [
       "<div>\n",
       "<style scoped>\n",
       "    .dataframe tbody tr th:only-of-type {\n",
       "        vertical-align: middle;\n",
       "    }\n",
       "\n",
       "    .dataframe tbody tr th {\n",
       "        vertical-align: top;\n",
       "    }\n",
       "\n",
       "    .dataframe thead th {\n",
       "        text-align: right;\n",
       "    }\n",
       "</style>\n",
       "<table border=\"1\" class=\"dataframe\">\n",
       "  <thead>\n",
       "    <tr style=\"text-align: right;\">\n",
       "      <th></th>\n",
       "    </tr>\n",
       "  </thead>\n",
       "  <tbody>\n",
       "  </tbody>\n",
       "</table>\n",
       "</div>"
      ],
      "text/plain": [
       "Empty DataFrame\n",
       "Columns: []\n",
       "Index: []"
      ]
     },
     "execution_count": 187,
     "metadata": {},
     "output_type": "execute_result"
    }
   ],
   "source": [
    "%%time\n",
    "delete_head_foot_dir(FromDir, ToDir)\n"
   ]
  },
  {
   "cell_type": "code",
   "execution_count": null,
   "metadata": {},
   "outputs": [],
   "source": []
  }
 ],
 "metadata": {
  "kernelspec": {
   "display_name": "Python 3",
   "language": "python",
   "name": "python3"
  },
  "language_info": {
   "codemirror_mode": {
    "name": "ipython",
    "version": 3
   },
   "file_extension": ".py",
   "mimetype": "text/x-python",
   "name": "python",
   "nbconvert_exporter": "python",
   "pygments_lexer": "ipython3",
   "version": "3.7.4"
  }
 },
 "nbformat": 4,
 "nbformat_minor": 2
}
