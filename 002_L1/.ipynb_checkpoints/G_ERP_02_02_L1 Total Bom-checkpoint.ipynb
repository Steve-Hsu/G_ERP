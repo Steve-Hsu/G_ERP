{
 "cells": [
  {
   "cell_type": "code",
   "execution_count": 1,
   "metadata": {},
   "outputs": [],
   "source": [
    "# 3rd pty modules\n",
    "import pandas as pd\n",
    "import numpy as np\n",
    "from openpyxl import load_workbook\n",
    "from os import walk\n",
    "from os.path import join\n",
    "\n",
    "FromDir = 'Bom datas/Airblaster/AB trimed head foot BOM'\n",
    "ToDir = 'Bom datas/Airblaster/AB trimed total material'\n",
    "\n",
    "path_1 = 'Bom datas/Airblaster/AB trimed head foot BOM/AB18MJ1_084_BOM.csv'\n",
    "path_2 = 'Bom datas/Airblaster/AB trimed head foot BOM/AB18MJ2_105_BOM.csv'\n",
    "path_3 ='Bom datas/Airblaster/AB trimed head foot BOM/AB19MNJP1_068_BOM.csv'"
   ]
  },
  {
   "cell_type": "markdown",
   "metadata": {},
   "source": [
    "## Function_1\n",
    "### filter_col_csv\n",
    "* Delete the Unnamed columns of the bom in single csv file"
   ]
  },
  {
   "cell_type": "code",
   "execution_count": 2,
   "metadata": {},
   "outputs": [],
   "source": [
    "def filter_col_csv(csv_file, file_name):\n",
    "    bom = pd.read_csv(csv_file)\n",
    "    # Walk through each columns in the csv\n",
    "    bom.insert(0, 'Style', file_name, allow_duplicates = False)\n",
    "    for col in bom:\n",
    "        # filter out and delete the Unnamed use less columns\n",
    "        if str(col).startswith('Unnamed'): \n",
    "            bom = bom.drop([col], axis = 1)\n",
    "\n",
    "    return bom\n",
    "            "
   ]
  },
  {
   "cell_type": "markdown",
   "metadata": {},
   "source": [
    "## Function_2\n",
    "### fetch_col_dir\n",
    "* Walk through a dir, and combine all the datas of all bom into 1 single csv"
   ]
  },
  {
   "cell_type": "code",
   "execution_count": 3,
   "metadata": {},
   "outputs": [],
   "source": [
    "def fetch_col_dir(from_dir_path, to_dir_path):\n",
    "    for root, dirnames, filenames in walk(from_dir_path):\n",
    "        new_bom = pd.DataFrame([])\n",
    "        # walk through each csv file\n",
    "        for file_name in filenames:\n",
    "            # get the path of the file\n",
    "            # To Avoid the method to work with Mac original useless data.\n",
    "            if file_name == '.DS_Store' or file_name.startswith('~$'):\n",
    "                print('detect bad file')\n",
    "            else:\n",
    "                filepath = join(root, file_name)\n",
    "                #Access to the csv file\n",
    "                bom = filter_col_csv(filepath, file_name)\n",
    "                new_bom = pd.concat([new_bom, bom], sort = False)\n",
    "                \n",
    "        new_bom.to_csv(to_dir_path + '/AB total Materials.csv')\n",
    "    return new_bom"
   ]
  },
  {
   "cell_type": "code",
   "execution_count": 4,
   "metadata": {},
   "outputs": [
    {
     "name": "stdout",
     "output_type": "stream",
     "text": [
      "detect bad file\n",
      "CPU times: user 9 µs, sys: 1e+03 ns, total: 10 µs\n",
      "Wall time: 18.1 µs\n"
     ]
    }
   ],
   "source": [
    "x = fetch_col_dir(FromDir, ToDir)\n",
    "%time"
   ]
  },
  {
   "cell_type": "code",
   "execution_count": 362,
   "metadata": {},
   "outputs": [
    {
     "data": {
      "text/plain": [
       "(915, 57)"
      ]
     },
     "execution_count": 362,
     "metadata": {},
     "output_type": "execute_result"
    }
   ],
   "source": [
    "x.shape"
   ]
  },
  {
   "cell_type": "code",
   "execution_count": null,
   "metadata": {},
   "outputs": [],
   "source": []
  }
 ],
 "metadata": {
  "kernelspec": {
   "display_name": "Python 3",
   "language": "python",
   "name": "python3"
  },
  "language_info": {
   "codemirror_mode": {
    "name": "ipython",
    "version": 3
   },
   "file_extension": ".py",
   "mimetype": "text/x-python",
   "name": "python",
   "nbconvert_exporter": "python",
   "pygments_lexer": "ipython3",
   "version": "3.7.4"
  }
 },
 "nbformat": 4,
 "nbformat_minor": 2
}
