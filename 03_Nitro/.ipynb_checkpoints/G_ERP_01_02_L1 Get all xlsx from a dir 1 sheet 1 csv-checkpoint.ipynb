{
 "cells": [
  {
   "cell_type": "markdown",
   "metadata": {},
   "source": [
    "# 01_02_Walk through and turn all BOM(xlsx) to trimed csv in a directory "
   ]
  },
  {
   "cell_type": "code",
   "execution_count": 1,
   "metadata": {},
   "outputs": [],
   "source": [
    "# 3rd pty modules\n",
    "import pandas as pd\n",
    "import numpy as np\n",
    "from openpyxl import load_workbook\n",
    "from os import walk\n",
    "from os.path import join\n",
    "\n",
    "# Custom modules\n",
    "from G_ERP_01_01_L1_Get_xlsx_1_sheet_1_csv import get_xlsx, trim_None_col, trim_None_row\n",
    "\n",
    "# DataSource \n",
    "DataDir = 'Original_BOM_Nitro'\n",
    "SaveDir = 'result_1'"
   ]
  },
  {
   "cell_type": "markdown",
   "metadata": {},
   "source": [
    "## Function_1\n",
    "### sheet_num()\n",
    "* Check number of how many sheet in the xlsm are we want\n",
    "* Based on the number of the wanted sheet ,computer will produce as many csv from 1 xlsx file as the nubmer. "
   ]
  },
  {
   "cell_type": "code",
   "execution_count": 31,
   "metadata": {},
   "outputs": [],
   "source": [
    "def sheet_num(filepath, wanted = ['bom', 'trims', 'shell', 'fabric', 'accessories']):\n",
    "    wb = load_workbook(filepath)\n",
    "    name_list = []\n",
    "    \n",
    "    for sheet_name in wb.sheetnames:\n",
    "        if str(sheet_name).lower() in wanted:\n",
    "            name_list.append(sheet_name)\n",
    "            \n",
    "    return name_list\n",
    "        "
   ]
  },
  {
   "cell_type": "markdown",
   "metadata": {},
   "source": [
    "## Function_2\n",
    "### csvs_convert()\n",
    "* In a directory, convert all the xlsx file into csv file.\n",
    "* Meanwhile, convert all the string into lowercase.\n",
    "* With the func, sheet_num(), it's enable of converting numbers of wated sheet in each xlsx file"
   ]
  },
  {
   "cell_type": "code",
   "execution_count": 40,
   "metadata": {},
   "outputs": [],
   "source": [
    "def csvs_convert(from_dir_path, to_dir_path):\n",
    "    converted_xlsm_num = 0\n",
    "    converted_xlsm = []\n",
    "    converted_csv = 0\n",
    "    for root, dirnames, filenames in walk(from_dir_path):\n",
    "        \n",
    "        # walk through each xlsx file\n",
    "        for file_name in filenames:\n",
    "            \n",
    "            # get the path of the file\n",
    "            # Appoint the method only work with .xlsx file.\n",
    "            if file_name.endswith('.xlsx') :\n",
    "                filepath = join(root, file_name)\n",
    "                converted_xlsm_num = converted_xlsm_num + 1\n",
    "                converted_xlsm.append(file_name)\n",
    "                print(file_name)\n",
    "                # How many sheet we want how many csv will be created\n",
    "                for sheet in sheet_num(filepath):\n",
    "                    # Report how many sheet is processed.\n",
    "                    converted_csv = converted_csv + 1\n",
    "                    \n",
    "                    # custom method 1\n",
    "                    bom = get_xlsx(filepath, sheet)\n",
    "                    \n",
    "                    # custom method 2\n",
    "                    trim_col_bom = trim_None_col(bom)\n",
    "                    \n",
    "                    # custom method 3\n",
    "                    trim_row_bom = trim_None_row(trim_col_bom)\n",
    "                    \n",
    "                    # convert all string to lowercase\n",
    "                    trim_row_bom = trim_row_bom.apply(lambda x: x.astype(str).str.lower())\n",
    "                    \n",
    "                    # Change the string variabe, the file_name, replace the .xlsx by .csv\n",
    "                    csv_file_name = file_name.replace('.xlsx', '')\n",
    "                    \n",
    "                    # Save the result as csv with the string variable, the file_name.\n",
    "                    trim_row_bom.to_csv(join(to_dir_path, csv_file_name + '_' + sheet+ '.csv')) \n",
    "                   \n",
    "    return"
   ]
  },
  {
   "cell_type": "code",
   "execution_count": 41,
   "metadata": {
    "scrolled": true
   },
   "outputs": [
    {
     "name": "stdout",
     "output_type": "stream",
     "text": [
      "W18-103 SPIRE_032917.xlsx\n",
      "N18-102 DENALI ANORAK.xlsx\n",
      "N18-105 REDUCE ANORAK.xlsx\n",
      "N18-204 TRAVERSE.xlsx\n",
      "W18-104 CIRQUE.xlsx\n",
      "W18-107 CRUSH PACKABLE.xlsx\n",
      "N18-106 SUMMIT PACKABLE.xlsx\n",
      "N18-112_ATACAMA_PONCHO.xlsx\n",
      "W18-203 WHISTLER.xlsx\n",
      "W18-101 PALISADES.xlsx\n",
      "N18-101-GLADES.xlsx\n",
      "N18-104 POWELL.xlsx\n",
      "N18-202 ALTAI.xlsx\n",
      "W18-108 REDUCE ANORAK.xlsx\n",
      "W18-202 ELBRUS 2L.xlsx\n",
      "W18-201_YAMANOUCHI_BIB 3L.xlsx\n",
      "N18-109 REGULATOR Fleece.xlsx\n",
      "N18-108 ACCESS softshell.xlsx\n",
      "W18-105 AARAN 1ST PROTO REVISION.xlsx\n",
      "W18-102-FJALLKONA.xlsx\n",
      "N18-203 INCLINE.xlsx\n",
      "N18-103 JARVIS.xlsx\n",
      "N18-201-KITAMI BIB 3L_032917.xlsx\n",
      "CPU times: user 32.1 s, sys: 308 ms, total: 32.4 s\n",
      "Wall time: 33.3 s\n"
     ]
    }
   ],
   "source": [
    "%%time\n",
    "x = csvs_convert(DataDir, SaveDir)"
   ]
  },
  {
   "cell_type": "code",
   "execution_count": 25,
   "metadata": {},
   "outputs": [],
   "source": []
  },
  {
   "cell_type": "code",
   "execution_count": null,
   "metadata": {},
   "outputs": [],
   "source": []
  }
 ],
 "metadata": {
  "kernelspec": {
   "display_name": "Python 3",
   "language": "python",
   "name": "python3"
  },
  "language_info": {
   "codemirror_mode": {
    "name": "ipython",
    "version": 3
   },
   "file_extension": ".py",
   "mimetype": "text/x-python",
   "name": "python",
   "nbconvert_exporter": "python",
   "pygments_lexer": "ipython3",
   "version": "3.7.4"
  }
 },
 "nbformat": 4,
 "nbformat_minor": 2
}
