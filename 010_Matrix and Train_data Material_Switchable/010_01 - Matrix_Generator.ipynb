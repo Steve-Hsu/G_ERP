{
 "cells": [
  {
   "cell_type": "markdown",
   "metadata": {},
   "source": [
    "# Classification Matrix Generator"
   ]
  },
  {
   "cell_type": "code",
   "execution_count": 159,
   "metadata": {},
   "outputs": [],
   "source": [
    "import pandas as pd\n",
    "import numpy as np\n",
    "from openpyxl import load_workbook"
   ]
  },
  {
   "cell_type": "markdown",
   "metadata": {},
   "source": [
    "## DataSource"
   ]
  },
  {
   "cell_type": "code",
   "execution_count": 160,
   "metadata": {},
   "outputs": [],
   "source": [
    "# 0 = material classify matrix, 1 = column classify matrix\n",
    "SWITCHER = 2\n",
    "\n",
    "# The dataSource in this project muct be one of the two, the G_ERP_database, which is for material classification, \n",
    "# or the col_classify_matrix, which is ofr column clsassification\n",
    "source = [\n",
    "    'G_ERP_database_v1_title_classify_v2_Add_missed_materials_v3.csv',\n",
    "    'col_classify_matrix_trimed_20200330.csv',\n",
    "    'col_classify_matrix_trimed_delete-none-material-col_20200404.csv',\n",
    "    'col_classify_matrix_trimed_20200330_double_the_True_description.csv' # Test for add the number of Pos, 'description' only. The result seems bad.\n",
    "         ]\n",
    "\n",
    "bom = pd.read_csv('DataSource/'+source[SWITCHER] , encoding=\"ISO-8859-1\")"
   ]
  },
  {
   "cell_type": "markdown",
   "metadata": {},
   "source": [
    "## Subject"
   ]
  },
  {
   "cell_type": "code",
   "execution_count": 161,
   "metadata": {},
   "outputs": [],
   "source": [
    "# SUBJECT represents the tagert you want to find out.\n",
    "# In other words, this must be the one of column name of the DataSource.\n",
    "SUBJECT ='description'"
   ]
  },
  {
   "cell_type": "markdown",
   "metadata": {},
   "source": [
    "  SUBJECT_set_1 = [\n",
    "        'brand', 'style', 'item', 'description', 'spec', 'width:', 'weight:', 'position', 'color_way', 'supplier', 'ref', 'qty', 'price/unit', 'unit',\n",
    "    ]"
   ]
  },
  {
   "cell_type": "markdown",
   "metadata": {},
   "source": [
    "# Calculating\n",
    "* This part is the place calculating, don't delete it, or i will forget what I was doing."
   ]
  },
  {
   "cell_type": "code",
   "execution_count": 162,
   "metadata": {
    "scrolled": true
   },
   "outputs": [],
   "source": [
    "bom_matrix = pd.DataFrame(bom[SUBJECT])"
   ]
  },
  {
   "cell_type": "code",
   "execution_count": 163,
   "metadata": {},
   "outputs": [],
   "source": [
    "bom_matrix.insert(0, 'material', '', allow_duplicates = False) "
   ]
  },
  {
   "cell_type": "code",
   "execution_count": 164,
   "metadata": {
    "scrolled": false
   },
   "outputs": [
    {
     "data": {
      "text/html": [
       "<div>\n",
       "<style scoped>\n",
       "    .dataframe tbody tr th:only-of-type {\n",
       "        vertical-align: middle;\n",
       "    }\n",
       "\n",
       "    .dataframe tbody tr th {\n",
       "        vertical-align: top;\n",
       "    }\n",
       "\n",
       "    .dataframe thead th {\n",
       "        text-align: right;\n",
       "    }\n",
       "</style>\n",
       "<table border=\"1\" class=\"dataframe\">\n",
       "  <thead>\n",
       "    <tr style=\"text-align: right;\">\n",
       "      <th></th>\n",
       "      <th>material</th>\n",
       "      <th>description</th>\n",
       "    </tr>\n",
       "  </thead>\n",
       "  <tbody>\n",
       "    <tr>\n",
       "      <td>0</td>\n",
       "      <td></td>\n",
       "      <td>0</td>\n",
       "    </tr>\n",
       "    <tr>\n",
       "      <td>1</td>\n",
       "      <td></td>\n",
       "      <td>0</td>\n",
       "    </tr>\n",
       "    <tr>\n",
       "      <td>2</td>\n",
       "      <td></td>\n",
       "      <td>0</td>\n",
       "    </tr>\n",
       "    <tr>\n",
       "      <td>3</td>\n",
       "      <td></td>\n",
       "      <td>0</td>\n",
       "    </tr>\n",
       "    <tr>\n",
       "      <td>4</td>\n",
       "      <td></td>\n",
       "      <td>0</td>\n",
       "    </tr>\n",
       "    <tr>\n",
       "      <td>...</td>\n",
       "      <td>...</td>\n",
       "      <td>...</td>\n",
       "    </tr>\n",
       "    <tr>\n",
       "      <td>6468</td>\n",
       "      <td></td>\n",
       "      <td>1</td>\n",
       "    </tr>\n",
       "    <tr>\n",
       "      <td>6469</td>\n",
       "      <td></td>\n",
       "      <td>1</td>\n",
       "    </tr>\n",
       "    <tr>\n",
       "      <td>6470</td>\n",
       "      <td></td>\n",
       "      <td>1</td>\n",
       "    </tr>\n",
       "    <tr>\n",
       "      <td>6471</td>\n",
       "      <td></td>\n",
       "      <td>1</td>\n",
       "    </tr>\n",
       "    <tr>\n",
       "      <td>6472</td>\n",
       "      <td></td>\n",
       "      <td>1</td>\n",
       "    </tr>\n",
       "  </tbody>\n",
       "</table>\n",
       "<p>6473 rows × 2 columns</p>\n",
       "</div>"
      ],
      "text/plain": [
       "     material  description\n",
       "0                        0\n",
       "1                        0\n",
       "2                        0\n",
       "3                        0\n",
       "4                        0\n",
       "...       ...          ...\n",
       "6468                     1\n",
       "6469                     1\n",
       "6470                     1\n",
       "6471                     1\n",
       "6472                     1\n",
       "\n",
       "[6473 rows x 2 columns]"
      ]
     },
     "execution_count": 164,
     "metadata": {},
     "output_type": "execute_result"
    }
   ],
   "source": [
    "bom_matrix"
   ]
  },
  {
   "cell_type": "markdown",
   "metadata": {},
   "source": [
    "## Features\n",
    "* The column you take from the database, as the document material,\n",
    "* Since I want the func can adapt to both DataSource, Classification for material and column, here need to make a swicher.  "
   ]
  },
  {
   "cell_type": "code",
   "execution_count": 165,
   "metadata": {},
   "outputs": [],
   "source": [
    "if SWITCHER == 0:\n",
    "    title = bom['non material rows']\n",
    "    item = bom['item']\n",
    "    description = bom['description']\n",
    "    spec = bom['spec']\n",
    "    width = bom['width:']\n",
    "    weight = bom['weight:']\n",
    "    position = bom['position']\n",
    "    # colorway_1 = bom['colorway-1']\n",
    "    # colorway_2 = bom['colorway-2']\n",
    "    # colorway_3 = bom['colorway-3']\n",
    "    # colorway_4 = bom['colorway-4']\n",
    "    # colorway_5 = bom['colorway-5']\n",
    "    # colorway_6 = bom['colorway-6']\n",
    "    # colorway_7 = bom['colorway-7']\n",
    "    # colorway_8 = bom['colorway-8']\n",
    "    col_list = [title,\n",
    "                item, \n",
    "                description, \n",
    "                spec, width, \n",
    "                weight, position,]\n",
    "else:\n",
    "    col_list = [bom['material']]"
   ]
  },
  {
   "cell_type": "code",
   "execution_count": 166,
   "metadata": {},
   "outputs": [
    {
     "data": {
      "text/plain": [
       "list"
      ]
     },
     "execution_count": 166,
     "metadata": {},
     "output_type": "execute_result"
    }
   ],
   "source": [
    "type(col_list)"
   ]
  },
  {
   "cell_type": "markdown",
   "metadata": {},
   "source": [
    "* Loop through all the col in the dataBase, getting strings from it and add to the col 'material' of dataFrame 'SUBJECT'"
   ]
  },
  {
   "cell_type": "code",
   "execution_count": 167,
   "metadata": {},
   "outputs": [],
   "source": [
    "x = 0\n",
    "for col in col_list:\n",
    "    bom_matrix['material'] = bom_matrix['material'].str.cat(col, sep =', ', na_rep='')\n",
    "    x = x + 1"
   ]
  },
  {
   "cell_type": "code",
   "execution_count": 168,
   "metadata": {},
   "outputs": [
    {
     "data": {
      "text/html": [
       "<div>\n",
       "<style scoped>\n",
       "    .dataframe tbody tr th:only-of-type {\n",
       "        vertical-align: middle;\n",
       "    }\n",
       "\n",
       "    .dataframe tbody tr th {\n",
       "        vertical-align: top;\n",
       "    }\n",
       "\n",
       "    .dataframe thead th {\n",
       "        text-align: right;\n",
       "    }\n",
       "</style>\n",
       "<table border=\"1\" class=\"dataframe\">\n",
       "  <thead>\n",
       "    <tr style=\"text-align: right;\">\n",
       "      <th></th>\n",
       "      <th>material</th>\n",
       "      <th>description</th>\n",
       "    </tr>\n",
       "  </thead>\n",
       "  <tbody>\n",
       "    <tr>\n",
       "      <td>0</td>\n",
       "      <td>, scott usa</td>\n",
       "      <td>0</td>\n",
       "    </tr>\n",
       "    <tr>\n",
       "      <td>1</td>\n",
       "      <td>, scott usa</td>\n",
       "      <td>0</td>\n",
       "    </tr>\n",
       "    <tr>\n",
       "      <td>2</td>\n",
       "      <td>, scott usa</td>\n",
       "      <td>0</td>\n",
       "    </tr>\n",
       "    <tr>\n",
       "      <td>3</td>\n",
       "      <td>, scott usa</td>\n",
       "      <td>0</td>\n",
       "    </tr>\n",
       "    <tr>\n",
       "      <td>4</td>\n",
       "      <td>, scott usa</td>\n",
       "      <td>0</td>\n",
       "    </tr>\n",
       "    <tr>\n",
       "      <td>...</td>\n",
       "      <td>...</td>\n",
       "      <td>...</td>\n",
       "    </tr>\n",
       "    <tr>\n",
       "      <td>6468</td>\n",
       "      <td>, pop in puller- #5       ', 'pop in puller- #...</td>\n",
       "      <td>1</td>\n",
       "    </tr>\n",
       "    <tr>\n",
       "      <td>6469</td>\n",
       "      <td>, pop in puller- #5       ', 'direct MATTE print'</td>\n",
       "      <td>1</td>\n",
       "    </tr>\n",
       "    <tr>\n",
       "      <td>6470</td>\n",
       "      <td>, coated taffetta'</td>\n",
       "      <td>1</td>\n",
       "    </tr>\n",
       "    <tr>\n",
       "      <td>6471</td>\n",
       "      <td>, 3.5mm, 2-color, Cording; with Metal Cord Ends'</td>\n",
       "      <td>1</td>\n",
       "    </tr>\n",
       "    <tr>\n",
       "      <td>6472</td>\n",
       "      <td>, Spring Toggles/1Hole', 'Spring Toggles/2Hole...</td>\n",
       "      <td>1</td>\n",
       "    </tr>\n",
       "  </tbody>\n",
       "</table>\n",
       "<p>6473 rows × 2 columns</p>\n",
       "</div>"
      ],
      "text/plain": [
       "                                               material  description\n",
       "0                                           , scott usa            0\n",
       "1                                           , scott usa            0\n",
       "2                                           , scott usa            0\n",
       "3                                           , scott usa            0\n",
       "4                                           , scott usa            0\n",
       "...                                                 ...          ...\n",
       "6468  , pop in puller- #5       ', 'pop in puller- #...            1\n",
       "6469  , pop in puller- #5       ', 'direct MATTE print'            1\n",
       "6470                                 , coated taffetta'            1\n",
       "6471   , 3.5mm, 2-color, Cording; with Metal Cord Ends'            1\n",
       "6472  , Spring Toggles/1Hole', 'Spring Toggles/2Hole...            1\n",
       "\n",
       "[6473 rows x 2 columns]"
      ]
     },
     "execution_count": 168,
     "metadata": {},
     "output_type": "execute_result"
    }
   ],
   "source": [
    "bom_matrix"
   ]
  },
  {
   "cell_type": "markdown",
   "metadata": {},
   "source": [
    "* Save the Matrix"
   ]
  },
  {
   "cell_type": "code",
   "execution_count": 169,
   "metadata": {},
   "outputs": [],
   "source": [
    "bom_matrix.to_csv('result/Matrix/' + SUBJECT + '_matrix.csv')"
   ]
  },
  {
   "cell_type": "markdown",
   "metadata": {},
   "source": [
    "# Func\n",
    "* combine all the calculating above in this func\n",
    "* it can loop through all the columns to create matrix of classification for one time.\n",
    "## Below is a test code to loop through the columns in database, not finish yet"
   ]
  },
  {
   "cell_type": "markdown",
   "metadata": {},
   "source": [
    "def matrix_generator(dataSource ,switcher):\n",
    "    SUBJECT_set_0 = ['color_way']\n",
    "    SUBJECT_set_1 = [\n",
    "        'brand', 'style', 'item', 'description', 'spec', 'width:', 'weight:', 'position', 'color_way', 'supplier', 'ref', 'qty', 'price/unit', 'unit',\n",
    "    ]\n",
    "    \n",
    "    if switcher == 0:\n",
    "        SUBJECT = SUBJECT_set_0\n",
    "    else:\n",
    "        SUBJECT = SUBJECT_set_1\n",
    "    \n",
    "    for subj in SUBJECT:\n",
    "        bom = pd.read_csv(dataSource, encoding=\"ISO-8859-1\")\n",
    "        bom_matrix = pd.DataFrame(bom[SUBJECT])\n",
    "        bom_matrix.insert(0, 'material', '', allow_duplicates = False) \n",
    "        if switcher == 0:\n",
    "            title = bom['non material rows']\n",
    "            item = bom['item']\n",
    "            description = bom['description']\n",
    "            spec = bom['spec']\n",
    "            width = bom['width:']\n",
    "            weight = bom['weight:']\n",
    "            position = bom['position']\n",
    "            # colorway_1 = bom['colorway-1']\n",
    "            # colorway_2 = bom['colorway-2']\n",
    "            # colorway_3 = bom['colorway-3']\n",
    "            # colorway_4 = bom['colorway-4']\n",
    "            # colorway_5 = bom['colorway-5']\n",
    "            # colorway_6 = bom['colorway-6']\n",
    "            # colorway_7 = bom['colorway-7']\n",
    "            # colorway_8 = bom['colorway-8']\n",
    "            col_list = [title,\n",
    "                        item, \n",
    "                        description, \n",
    "                        spec, width, \n",
    "                        weight, position,]\n",
    "        else:\n",
    "            col_list = [bom['material']]\n",
    "\n",
    "        for col in col_list:\n",
    "            bom_matrix['material'] = bom_matrix['material'].str.cat(col, sep =', ', na_rep='')   \n",
    "        bom_matrix.to_csv('result/Matrix/' + SUBJECT + '_matrix.csv')\n",
    "     "
   ]
  },
  {
   "cell_type": "markdown",
   "metadata": {},
   "source": [
    "matrix_generator('DataSource/'+source[switcher], 1)"
   ]
  },
  {
   "cell_type": "code",
   "execution_count": null,
   "metadata": {},
   "outputs": [],
   "source": []
  },
  {
   "cell_type": "code",
   "execution_count": null,
   "metadata": {},
   "outputs": [],
   "source": []
  },
  {
   "cell_type": "code",
   "execution_count": null,
   "metadata": {},
   "outputs": [],
   "source": []
  }
 ],
 "metadata": {
  "kernelspec": {
   "display_name": "Python 3",
   "language": "python",
   "name": "python3"
  },
  "language_info": {
   "codemirror_mode": {
    "name": "ipython",
    "version": 3
   },
   "file_extension": ".py",
   "mimetype": "text/x-python",
   "name": "python",
   "nbconvert_exporter": "python",
   "pygments_lexer": "ipython3",
   "version": "3.7.4"
  }
 },
 "nbformat": 4,
 "nbformat_minor": 2
}
