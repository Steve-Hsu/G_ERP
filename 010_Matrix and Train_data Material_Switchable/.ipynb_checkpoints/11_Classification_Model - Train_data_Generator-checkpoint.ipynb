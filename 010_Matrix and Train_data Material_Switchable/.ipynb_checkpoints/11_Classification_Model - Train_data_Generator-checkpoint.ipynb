{
 "cells": [
  {
   "cell_type": "markdown",
   "metadata": {},
   "source": [
    "# Import nltk tools"
   ]
  },
  {
   "cell_type": "code",
   "execution_count": 2949,
   "metadata": {},
   "outputs": [],
   "source": [
    "import pandas as pd\n",
    "import numpy as np\n",
    "\n",
    "import nltk\n",
    "from nltk.stem import PorterStemmer\n",
    "from nltk.stem import SnowballStemmer\n",
    "from nltk.corpus import stopwords\n",
    "from nltk.tokenize import word_tokenize\n",
    "\n",
    "from sklearn.model_selection import train_test_split\n",
    "\n",
    "# Visualization\n",
    "import matplotlib.pyplot as plt\n",
    "import seaborn as sns\n",
    "\n",
    "# Switch area\n",
    "SUBJECT = 'label'\n",
    "VOCAB_SIZE = 900\n",
    "TEST_SIZE = 0.1 # proportion, the size of test_set"
   ]
  },
  {
   "cell_type": "markdown",
   "metadata": {},
   "source": [
    "# Wrod processing"
   ]
  },
  {
   "cell_type": "code",
   "execution_count": 2950,
   "metadata": {},
   "outputs": [],
   "source": [
    "data = pd.read_csv('result/Matrix/' + SUBJECT + '_matrix.csv')"
   ]
  },
  {
   "cell_type": "markdown",
   "metadata": {},
   "source": [
    "* Name the index as \"MATERIAL_IDs\"\n",
    "* The matrix must has it unrepeated Id before import to here, show as the \"Unnamed: 0\"."
   ]
  },
  {
   "cell_type": "code",
   "execution_count": 2951,
   "metadata": {
    "scrolled": true
   },
   "outputs": [
    {
     "data": {
      "text/html": [
       "<div>\n",
       "<style scoped>\n",
       "    .dataframe tbody tr th:only-of-type {\n",
       "        vertical-align: middle;\n",
       "    }\n",
       "\n",
       "    .dataframe tbody tr th {\n",
       "        vertical-align: top;\n",
       "    }\n",
       "\n",
       "    .dataframe thead th {\n",
       "        text-align: right;\n",
       "    }\n",
       "</style>\n",
       "<table border=\"1\" class=\"dataframe\">\n",
       "  <thead>\n",
       "    <tr style=\"text-align: right;\">\n",
       "      <th></th>\n",
       "      <th>Unnamed: 0</th>\n",
       "      <th>material</th>\n",
       "      <th>label</th>\n",
       "    </tr>\n",
       "  </thead>\n",
       "  <tbody>\n",
       "    <tr>\n",
       "      <td>0</td>\n",
       "      <td>0</td>\n",
       "      <td>, , lm792, shell fabric at hood, above chest, ...</td>\n",
       "      <td>0</td>\n",
       "    </tr>\n",
       "    <tr>\n",
       "      <td>1</td>\n",
       "      <td>1</td>\n",
       "      <td>, , sotl085-pu01, shell fabric at hood, above ...</td>\n",
       "      <td>0</td>\n",
       "    </tr>\n",
       "    <tr>\n",
       "      <td>2</td>\n",
       "      <td>2</td>\n",
       "      <td>, , lm792, shell fabric at mid chest panels, ,...</td>\n",
       "      <td>0</td>\n",
       "    </tr>\n",
       "    <tr>\n",
       "      <td>3</td>\n",
       "      <td>3</td>\n",
       "      <td>, , sotl085-pu01, shell fabric at mid chest pa...</td>\n",
       "      <td>0</td>\n",
       "    </tr>\n",
       "    <tr>\n",
       "      <td>4</td>\n",
       "      <td>4</td>\n",
       "      <td>, , ym11-3527, stretch mesh , , , , back pocke...</td>\n",
       "      <td>0</td>\n",
       "    </tr>\n",
       "  </tbody>\n",
       "</table>\n",
       "</div>"
      ],
      "text/plain": [
       "   Unnamed: 0                                           material  label\n",
       "0           0  , , lm792, shell fabric at hood, above chest, ...      0\n",
       "1           1  , , sotl085-pu01, shell fabric at hood, above ...      0\n",
       "2           2  , , lm792, shell fabric at mid chest panels, ,...      0\n",
       "3           3  , , sotl085-pu01, shell fabric at mid chest pa...      0\n",
       "4           4  , , ym11-3527, stretch mesh , , , , back pocke...      0"
      ]
     },
     "execution_count": 2951,
     "metadata": {},
     "output_type": "execute_result"
    }
   ],
   "source": [
    "data.head()"
   ]
  },
  {
   "cell_type": "markdown",
   "metadata": {},
   "source": [
    "* Change the col \"Unnamed: 0\" as \"MATERIAL_ID\""
   ]
  },
  {
   "cell_type": "code",
   "execution_count": 2952,
   "metadata": {
    "scrolled": true
   },
   "outputs": [],
   "source": [
    "data.rename( columns = {'Unnamed: 0': 'MATERIAL_ID'}, inplace = True)"
   ]
  },
  {
   "cell_type": "code",
   "execution_count": 2953,
   "metadata": {},
   "outputs": [
    {
     "data": {
      "text/html": [
       "<div>\n",
       "<style scoped>\n",
       "    .dataframe tbody tr th:only-of-type {\n",
       "        vertical-align: middle;\n",
       "    }\n",
       "\n",
       "    .dataframe tbody tr th {\n",
       "        vertical-align: top;\n",
       "    }\n",
       "\n",
       "    .dataframe thead th {\n",
       "        text-align: right;\n",
       "    }\n",
       "</style>\n",
       "<table border=\"1\" class=\"dataframe\">\n",
       "  <thead>\n",
       "    <tr style=\"text-align: right;\">\n",
       "      <th></th>\n",
       "      <th>MATERIAL_ID</th>\n",
       "      <th>material</th>\n",
       "      <th>label</th>\n",
       "    </tr>\n",
       "  </thead>\n",
       "  <tbody>\n",
       "    <tr>\n",
       "      <td>0</td>\n",
       "      <td>0</td>\n",
       "      <td>, , lm792, shell fabric at hood, above chest, ...</td>\n",
       "      <td>0</td>\n",
       "    </tr>\n",
       "    <tr>\n",
       "      <td>1</td>\n",
       "      <td>1</td>\n",
       "      <td>, , sotl085-pu01, shell fabric at hood, above ...</td>\n",
       "      <td>0</td>\n",
       "    </tr>\n",
       "    <tr>\n",
       "      <td>2</td>\n",
       "      <td>2</td>\n",
       "      <td>, , lm792, shell fabric at mid chest panels, ,...</td>\n",
       "      <td>0</td>\n",
       "    </tr>\n",
       "    <tr>\n",
       "      <td>3</td>\n",
       "      <td>3</td>\n",
       "      <td>, , sotl085-pu01, shell fabric at mid chest pa...</td>\n",
       "      <td>0</td>\n",
       "    </tr>\n",
       "    <tr>\n",
       "      <td>4</td>\n",
       "      <td>4</td>\n",
       "      <td>, , ym11-3527, stretch mesh , , , , back pocke...</td>\n",
       "      <td>0</td>\n",
       "    </tr>\n",
       "  </tbody>\n",
       "</table>\n",
       "</div>"
      ],
      "text/plain": [
       "   MATERIAL_ID                                           material  label\n",
       "0            0  , , lm792, shell fabric at hood, above chest, ...      0\n",
       "1            1  , , sotl085-pu01, shell fabric at hood, above ...      0\n",
       "2            2  , , lm792, shell fabric at mid chest panels, ,...      0\n",
       "3            3  , , sotl085-pu01, shell fabric at mid chest pa...      0\n",
       "4            4  , , ym11-3527, stretch mesh , , , , back pocke...      0"
      ]
     },
     "execution_count": 2953,
     "metadata": {},
     "output_type": "execute_result"
    }
   ],
   "source": [
    "data.head()"
   ]
  },
  {
   "cell_type": "markdown",
   "metadata": {},
   "source": [
    "* Set the original index as Index"
   ]
  },
  {
   "cell_type": "code",
   "execution_count": 2954,
   "metadata": {
    "scrolled": false
   },
   "outputs": [],
   "source": [
    "data.set_index('MATERIAL_ID', inplace = True)"
   ]
  },
  {
   "cell_type": "code",
   "execution_count": 2955,
   "metadata": {},
   "outputs": [
    {
     "data": {
      "text/html": [
       "<div>\n",
       "<style scoped>\n",
       "    .dataframe tbody tr th:only-of-type {\n",
       "        vertical-align: middle;\n",
       "    }\n",
       "\n",
       "    .dataframe tbody tr th {\n",
       "        vertical-align: top;\n",
       "    }\n",
       "\n",
       "    .dataframe thead th {\n",
       "        text-align: right;\n",
       "    }\n",
       "</style>\n",
       "<table border=\"1\" class=\"dataframe\">\n",
       "  <thead>\n",
       "    <tr style=\"text-align: right;\">\n",
       "      <th></th>\n",
       "      <th>material</th>\n",
       "      <th>label</th>\n",
       "    </tr>\n",
       "    <tr>\n",
       "      <th>MATERIAL_ID</th>\n",
       "      <th></th>\n",
       "      <th></th>\n",
       "    </tr>\n",
       "  </thead>\n",
       "  <tbody>\n",
       "    <tr>\n",
       "      <td>14583</td>\n",
       "      <td>, , Spring Toggle, Spring Toggles/2Hole, , , ,</td>\n",
       "      <td>0</td>\n",
       "    </tr>\n",
       "    <tr>\n",
       "      <td>14584</td>\n",
       "      <td>, , Retro Tape, Retro Tape/W:30mm, , , ,</td>\n",
       "      <td>0</td>\n",
       "    </tr>\n",
       "    <tr>\n",
       "      <td>14585</td>\n",
       "      <td>, , Velcro, Velcro-Hook, , , ,</td>\n",
       "      <td>0</td>\n",
       "    </tr>\n",
       "    <tr>\n",
       "      <td>14586</td>\n",
       "      <td>, , Velcro, Velcro-Loop, , , ,</td>\n",
       "      <td>0</td>\n",
       "    </tr>\n",
       "    <tr>\n",
       "      <td>14587</td>\n",
       "      <td>, , Seam Tape, , , , ,</td>\n",
       "      <td>0</td>\n",
       "    </tr>\n",
       "  </tbody>\n",
       "</table>\n",
       "</div>"
      ],
      "text/plain": [
       "                                                    material  label\n",
       "MATERIAL_ID                                                        \n",
       "14583        , , Spring Toggle, Spring Toggles/2Hole, , , ,       0\n",
       "14584              , , Retro Tape, Retro Tape/W:30mm, , , ,       0\n",
       "14585                        , , Velcro, Velcro-Hook, , , ,       0\n",
       "14586                        , , Velcro, Velcro-Loop, , , ,       0\n",
       "14587                                , , Seam Tape, , , , ,       0"
      ]
     },
     "execution_count": 2955,
     "metadata": {},
     "output_type": "execute_result"
    }
   ],
   "source": [
    "data.tail()"
   ]
  },
  {
   "cell_type": "markdown",
   "metadata": {},
   "source": [
    "## Nltk Function"
   ]
  },
  {
   "cell_type": "code",
   "execution_count": 2956,
   "metadata": {},
   "outputs": [],
   "source": [
    "def nltk_convert(col_of_df):\n",
    "    '''\n",
    "    Parameter of this function is a column of a dataFrame.\n",
    "    \n",
    "    '''\n",
    "    # difine Stop words\n",
    "    stop_words = set(stopwords.words('english'))\n",
    "    # Difine Stemmer\n",
    "    stemmer = SnowballStemmer('english')\n",
    "    \n",
    "    # converts to lower case and splits up the words\n",
    "    words = word_tokenize(col_of_df)\n",
    "    filtered_words = []\n",
    "    \n",
    "    for word in words:\n",
    "        # Removes the stop words and punctuation\n",
    "        # if word is not in the stop_words list and is not a alpha.\n",
    "        if word not in stop_words and word.isalpha():\n",
    "#             filtered_words.append(stemmer.stem(word))\n",
    "            filtered_words.append(word)\n",
    "            \n",
    "    return filtered_words"
   ]
  },
  {
   "cell_type": "markdown",
   "metadata": {},
   "source": [
    "* Test the function, with row 0, in column 'material'"
   ]
  },
  {
   "cell_type": "code",
   "execution_count": 2957,
   "metadata": {},
   "outputs": [
    {
     "data": {
      "text/plain": [
       "['shell',\n",
       " 'fabric',\n",
       " 'hood',\n",
       " 'chest',\n",
       " 'lower',\n",
       " 'front',\n",
       " 'body',\n",
       " 'back',\n",
       " 'body',\n",
       " 'sleeves',\n",
       " 'facing',\n",
       " 'fabric',\n",
       " 'windflap',\n",
       " 'hood',\n",
       " 'shockcord',\n",
       " 'tunnel',\n",
       " 'self',\n",
       " 'fabric',\n",
       " 'seam',\n",
       " 'binding',\n",
       " 'needed',\n",
       " 'shockcord',\n",
       " 'tunnel']"
      ]
     },
     "execution_count": 2957,
     "metadata": {},
     "output_type": "execute_result"
    }
   ],
   "source": [
    "nltk_convert(data.at[0, 'material'])"
   ]
  },
  {
   "cell_type": "markdown",
   "metadata": {},
   "source": [
    "## Applying to the matrix\n",
    "* the variable \"nested_list\" will hold the result.\n",
    "* It is a series in this moment."
   ]
  },
  {
   "cell_type": "code",
   "execution_count": 2958,
   "metadata": {
    "scrolled": false
   },
   "outputs": [
    {
     "name": "stdout",
     "output_type": "stream",
     "text": [
      "CPU times: user 3.97 s, sys: 350 ms, total: 4.32 s\n",
      "Wall time: 4.37 s\n"
     ]
    }
   ],
   "source": [
    "%%time\n",
    "nested_list = data.material.apply(nltk_convert)"
   ]
  },
  {
   "cell_type": "code",
   "execution_count": 2959,
   "metadata": {},
   "outputs": [
    {
     "data": {
      "text/plain": [
       "pandas.core.series.Series"
      ]
     },
     "execution_count": 2959,
     "metadata": {},
     "output_type": "execute_result"
    }
   ],
   "source": [
    "type(nested_list)"
   ]
  },
  {
   "cell_type": "markdown",
   "metadata": {},
   "source": [
    "## True and False categories\n",
    "* Exact the index of fabric materials, and non fabric materials"
   ]
  },
  {
   "cell_type": "code",
   "execution_count": 2960,
   "metadata": {},
   "outputs": [],
   "source": [
    "material_ids_ctg_1 = data[data[SUBJECT] == 1].index\n",
    "material_ids_ctg_0 = data[data[SUBJECT] ==0].index"
   ]
  },
  {
   "cell_type": "code",
   "execution_count": 2961,
   "metadata": {},
   "outputs": [
    {
     "data": {
      "text/plain": [
       "Int64Index([   20,    21,    22,    41,    43,    44,    59,    61,    62,\n",
       "               88,\n",
       "            ...\n",
       "            14414, 14418, 14425, 14433, 14435, 14438, 14447, 14452, 14460,\n",
       "            14465],\n",
       "           dtype='int64', name='MATERIAL_ID', length=1080)"
      ]
     },
     "execution_count": 2961,
     "metadata": {},
     "output_type": "execute_result"
    }
   ],
   "source": [
    "material_ids_ctg_1"
   ]
  },
  {
   "cell_type": "markdown",
   "metadata": {},
   "source": [
    "### Get materials back by index\n",
    "* Exact the strings in col 'material' by the index of doc_ids_fabric"
   ]
  },
  {
   "cell_type": "code",
   "execution_count": 2962,
   "metadata": {},
   "outputs": [],
   "source": [
    "nested_list_ctg_1 = nested_list.loc[material_ids_ctg_1]"
   ]
  },
  {
   "cell_type": "code",
   "execution_count": 2963,
   "metadata": {},
   "outputs": [
    {
     "data": {
      "text/plain": [
       "MATERIAL_ID\n",
       "20       [care, content, labels, interior, left, side, ...\n",
       "21       [care, content, labels, interior, left, side, ...\n",
       "22       [po, label, po, bulk, interior, left, side, seam]\n",
       "41                   [main, interior, label, cb, neckseam]\n",
       "43               [care, content, labels, left, side, seam]\n",
       "                               ...                        \n",
       "14438    [SIZE, LABEL, SAMPLE, SIZE, L, SIZE, LABEL, XS...\n",
       "14447    [SIZE, LABEL, SAMPLE, SIZE, L, SIZE, LABEL, XS...\n",
       "14452    [SIZE, LABEL, SAMPLE, SIZE, L, SIZE, LABEL, XS...\n",
       "14460    [SIZE, LABEL, SAMPLE, SIZE, L, SIZE, LABEL, XS...\n",
       "14465    [SIZE, LABEL, SAMPLE, SIZE, L, SIZE, LABEL, XS...\n",
       "Name: material, Length: 1080, dtype: object"
      ]
     },
     "execution_count": 2963,
     "metadata": {},
     "output_type": "execute_result"
    }
   ],
   "source": [
    "nested_list_ctg_1"
   ]
  },
  {
   "cell_type": "markdown",
   "metadata": {},
   "source": [
    "* by the index of doc_ids_trim"
   ]
  },
  {
   "cell_type": "code",
   "execution_count": 2964,
   "metadata": {},
   "outputs": [],
   "source": [
    "nested_list_ctg_0 = nested_list.loc[material_ids_ctg_0]"
   ]
  },
  {
   "cell_type": "code",
   "execution_count": 2965,
   "metadata": {},
   "outputs": [
    {
     "data": {
      "text/plain": [
       "13508"
      ]
     },
     "execution_count": 2965,
     "metadata": {},
     "output_type": "execute_result"
    }
   ],
   "source": [
    "nested_list_ctg_0.shape[0]"
   ]
  },
  {
   "cell_type": "markdown",
   "metadata": {},
   "source": [
    "## Number of Distinct words\n",
    "* The Ctg_1"
   ]
  },
  {
   "cell_type": "code",
   "execution_count": 2966,
   "metadata": {},
   "outputs": [],
   "source": [
    "flat_list_ctg_1 =[item for sublist in nested_list_ctg_1 for item in sublist]"
   ]
  },
  {
   "cell_type": "code",
   "execution_count": 2967,
   "metadata": {},
   "outputs": [],
   "source": [
    "ctg_1_words = pd.Series(flat_list_ctg_1).value_counts()"
   ]
  },
  {
   "cell_type": "code",
   "execution_count": 2968,
   "metadata": {},
   "outputs": [
    {
     "data": {
      "text/plain": [
       "(284,)"
      ]
     },
     "execution_count": 2968,
     "metadata": {},
     "output_type": "execute_result"
    }
   ],
   "source": [
    "ctg_1_words.shape"
   ]
  },
  {
   "cell_type": "markdown",
   "metadata": {},
   "source": [
    "* The Ctg_0"
   ]
  },
  {
   "cell_type": "code",
   "execution_count": 2969,
   "metadata": {},
   "outputs": [],
   "source": [
    "flat_list_ctg_0 = [item for sublist in nested_list_ctg_0 for item in sublist]"
   ]
  },
  {
   "cell_type": "code",
   "execution_count": 2970,
   "metadata": {},
   "outputs": [],
   "source": [
    "ctg_0_words = pd.Series(flat_list_ctg_0).value_counts()"
   ]
  },
  {
   "cell_type": "code",
   "execution_count": 2971,
   "metadata": {},
   "outputs": [
    {
     "data": {
      "text/plain": [
       "pocket       1789\n",
       "NUMBER       1435\n",
       "zipper       1348\n",
       "LOCATION     1204\n",
       "REFERENCE    1182\n",
       "dtype: int64"
      ]
     },
     "execution_count": 2971,
     "metadata": {},
     "output_type": "execute_result"
    }
   ],
   "source": [
    "ctg_0_words.head()"
   ]
  },
  {
   "cell_type": "markdown",
   "metadata": {},
   "source": [
    "# Generate Vocabulary\n",
    "## Top 10 words in Matrix (ctg_1 and ctg_0)"
   ]
  },
  {
   "cell_type": "markdown",
   "metadata": {},
   "source": [
    "* It is same as function the nltk_convert, the difference is in the end of the funciton, it not append word directly, but word converted by function stemmer.stem."
   ]
  },
  {
   "cell_type": "code",
   "execution_count": 2972,
   "metadata": {},
   "outputs": [],
   "source": [
    "def stemmered_nltk_convert(col_of_df):\n",
    "    '''\n",
    "    Parameter of this function is a column of a dataFrame.\n",
    "    \n",
    "    '''\n",
    "    # difine Stop words\n",
    "    stop_words = set(stopwords.words('english'))\n",
    "    # Difine Stemmer\n",
    "    stemmer = SnowballStemmer('english')\n",
    "    \n",
    "    # converts to lower case and splits up the words\n",
    "    words = word_tokenize(col_of_df)\n",
    "    filtered_words = []\n",
    "    \n",
    "    for word in words:\n",
    "        # Removes the stop words and punctuation\n",
    "        # if word is not in the stop_words list and is not a alpha.\n",
    "        if word not in stop_words and word.isalpha():\n",
    "            filtered_words.append(stemmer.stem(word))\n",
    "            \n",
    "    return filtered_words"
   ]
  },
  {
   "cell_type": "code",
   "execution_count": 2973,
   "metadata": {},
   "outputs": [
    {
     "name": "stdout",
     "output_type": "stream",
     "text": [
      "CPU times: user 5.25 s, sys: 335 ms, total: 5.59 s\n",
      "Wall time: 5.61 s\n"
     ]
    }
   ],
   "source": [
    "%%time\n",
    "stemmed_nested_list = data.material.apply(stemmered_nltk_convert)"
   ]
  },
  {
   "cell_type": "markdown",
   "metadata": {},
   "source": [
    "* Get flat list for all words"
   ]
  },
  {
   "cell_type": "code",
   "execution_count": 2974,
   "metadata": {},
   "outputs": [],
   "source": [
    "flat_stemmed_nested_list = [item for sublist in stemmed_nested_list for item in sublist]"
   ]
  },
  {
   "cell_type": "markdown",
   "metadata": {},
   "source": [
    "* Turn it to a series"
   ]
  },
  {
   "cell_type": "code",
   "execution_count": 2975,
   "metadata": {},
   "outputs": [],
   "source": [
    "unique_words = pd.Series(flat_stemmed_nested_list).value_counts()"
   ]
  },
  {
   "cell_type": "code",
   "execution_count": 2976,
   "metadata": {},
   "outputs": [
    {
     "data": {
      "text/plain": [
       "pocket      2328\n",
       "zipper      1920\n",
       "label       1894\n",
       "seam        1673\n",
       "number      1576\n",
       "            ... \n",
       "gulid          1\n",
       "inlin          1\n",
       "tepe           1\n",
       "determin       1\n",
       "sanfu          1\n",
       "Length: 1265, dtype: int64"
      ]
     },
     "execution_count": 2976,
     "metadata": {},
     "output_type": "execute_result"
    }
   ],
   "source": [
    "unique_words"
   ]
  },
  {
   "cell_type": "markdown",
   "metadata": {},
   "source": [
    "* Set the size of vacabulary\n",
    "* This size need to be tested a lot, in this cace, follow the e-mail processing lecture, I takes 10 % of total particular words"
   ]
  },
  {
   "cell_type": "code",
   "execution_count": 2977,
   "metadata": {},
   "outputs": [
    {
     "data": {
      "text/plain": [
       "900"
      ]
     },
     "execution_count": 2977,
     "metadata": {},
     "output_type": "execute_result"
    }
   ],
   "source": [
    "VOCAB_SIZE"
   ]
  },
  {
   "cell_type": "code",
   "execution_count": 2978,
   "metadata": {},
   "outputs": [],
   "source": [
    "frequent_words = unique_words[0:VOCAB_SIZE]"
   ]
  },
  {
   "cell_type": "code",
   "execution_count": 2979,
   "metadata": {
    "scrolled": false
   },
   "outputs": [
    {
     "name": "stdout",
     "output_type": "stream",
     "text": [
      "Most common words: \n",
      " pocket    2328\n",
      "zipper    1920\n",
      "label     1894\n",
      "seam      1673\n",
      "number    1576\n",
      "locat     1563\n",
      "refer     1261\n",
      "front     1250\n",
      "back      1141\n",
      "left      1109\n",
      "dtype: int64\n"
     ]
    }
   ],
   "source": [
    "print('Most common words: \\n', frequent_words[:10])"
   ]
  },
  {
   "cell_type": "markdown",
   "metadata": {},
   "source": [
    "## Create Vocabulary with WORD_ID"
   ]
  },
  {
   "cell_type": "code",
   "execution_count": 2980,
   "metadata": {},
   "outputs": [
    {
     "data": {
      "text/html": [
       "<div>\n",
       "<style scoped>\n",
       "    .dataframe tbody tr th:only-of-type {\n",
       "        vertical-align: middle;\n",
       "    }\n",
       "\n",
       "    .dataframe tbody tr th {\n",
       "        vertical-align: top;\n",
       "    }\n",
       "\n",
       "    .dataframe thead th {\n",
       "        text-align: right;\n",
       "    }\n",
       "</style>\n",
       "<table border=\"1\" class=\"dataframe\">\n",
       "  <thead>\n",
       "    <tr style=\"text-align: right;\">\n",
       "      <th></th>\n",
       "      <th>VOCAB_WORD</th>\n",
       "    </tr>\n",
       "    <tr>\n",
       "      <th>WORD_ID</th>\n",
       "      <th></th>\n",
       "    </tr>\n",
       "  </thead>\n",
       "  <tbody>\n",
       "    <tr>\n",
       "      <td>0</td>\n",
       "      <td>pocket</td>\n",
       "    </tr>\n",
       "    <tr>\n",
       "      <td>1</td>\n",
       "      <td>zipper</td>\n",
       "    </tr>\n",
       "    <tr>\n",
       "      <td>2</td>\n",
       "      <td>label</td>\n",
       "    </tr>\n",
       "    <tr>\n",
       "      <td>3</td>\n",
       "      <td>seam</td>\n",
       "    </tr>\n",
       "    <tr>\n",
       "      <td>4</td>\n",
       "      <td>number</td>\n",
       "    </tr>\n",
       "  </tbody>\n",
       "</table>\n",
       "</div>"
      ],
      "text/plain": [
       "        VOCAB_WORD\n",
       "WORD_ID           \n",
       "0           pocket\n",
       "1           zipper\n",
       "2            label\n",
       "3             seam\n",
       "4           number"
      ]
     },
     "execution_count": 2980,
     "metadata": {},
     "output_type": "execute_result"
    }
   ],
   "source": [
    "word_ids = list(range(0, VOCAB_SIZE))\n",
    "vocab = pd.DataFrame({'VOCAB_WORD': frequent_words.index.values}, index = word_ids)\n",
    "vocab.index.name = 'WORD_ID'\n",
    "vocab.head()"
   ]
  },
  {
   "cell_type": "markdown",
   "metadata": {},
   "source": [
    "* Save the vocabulary"
   ]
  },
  {
   "cell_type": "code",
   "execution_count": 2981,
   "metadata": {},
   "outputs": [],
   "source": [
    "vocab.to_csv('result/Trained Data/Vocabulary/'+SUBJECT+'_vocabulary.csv')"
   ]
  },
  {
   "cell_type": "markdown",
   "metadata": {},
   "source": [
    "* Test the any word to see if it is in the vocabulary"
   ]
  },
  {
   "cell_type": "code",
   "execution_count": 2982,
   "metadata": {},
   "outputs": [
    {
     "data": {
      "text/plain": [
       "True"
      ]
     },
     "execution_count": 2982,
     "metadata": {},
     "output_type": "execute_result"
    }
   ],
   "source": [
    "'hangtag' in set(vocab.VOCAB_WORD)"
   ]
  },
  {
   "cell_type": "markdown",
   "metadata": {},
   "source": [
    "## Search out the material with most token"
   ]
  },
  {
   "cell_type": "code",
   "execution_count": 2983,
   "metadata": {},
   "outputs": [
    {
     "name": "stdout",
     "output_type": "stream",
     "text": [
      "Nr wrods in the longest material: 71\n"
     ]
    }
   ],
   "source": [
    "clean_material_lengths = [len(sublist) for sublist in stemmed_nested_list]\n",
    "print('Nr wrods in the longest material:', max(clean_material_lengths))"
   ]
  },
  {
   "cell_type": "code",
   "execution_count": 2984,
   "metadata": {
    "scrolled": true
   },
   "outputs": [
    {
     "name": "stdout",
     "output_type": "stream",
     "text": [
      "Material position in the list 10164\n"
     ]
    }
   ],
   "source": [
    "print('Material position in the list', np.argmax(clean_material_lengths))"
   ]
  },
  {
   "cell_type": "code",
   "execution_count": 2985,
   "metadata": {},
   "outputs": [
    {
     "data": {
      "text/plain": [
       "['local',\n",
       " 'sourc',\n",
       " 'item',\n",
       " 'must',\n",
       " 'compli',\n",
       " 'with',\n",
       " 'cpsia',\n",
       " 'test',\n",
       " 'lead',\n",
       " 'third',\n",
       " 'parti',\n",
       " 'must',\n",
       " 'contain',\n",
       " 'less',\n",
       " 'ppm',\n",
       " 'lead',\n",
       " 'test',\n",
       " 'result',\n",
       " 'must',\n",
       " 'submit',\n",
       " 'approv',\n",
       " 'sierra',\n",
       " 'design',\n",
       " 'develop',\n",
       " 'team',\n",
       " 'must',\n",
       " 'submit',\n",
       " 'sierra',\n",
       " 'design',\n",
       " 'apparel',\n",
       " 'develop',\n",
       " 'team',\n",
       " 'approv',\n",
       " 'prior',\n",
       " 'use',\n",
       " 'trim',\n",
       " 'card',\n",
       " 'pleas',\n",
       " 'submit',\n",
       " 'complet',\n",
       " 'trim',\n",
       " 'card',\n",
       " 'prior',\n",
       " 'sms',\n",
       " 'product',\n",
       " 'approv',\n",
       " 'item',\n",
       " 'substitut',\n",
       " 'sms',\n",
       " 'must',\n",
       " 'clear',\n",
       " 'note',\n",
       " 'trim',\n",
       " 'card',\n",
       " 'pleas',\n",
       " 'submit',\n",
       " 'complet',\n",
       " 'trim',\n",
       " 'card',\n",
       " 'prior',\n",
       " 'bulk',\n",
       " 'product',\n",
       " 'approv',\n",
       " 'this',\n",
       " 'trim',\n",
       " 'card',\n",
       " 'must',\n",
       " 'repres',\n",
       " 'actual',\n",
       " 'bulk',\n",
       " 'materi']"
      ]
     },
     "execution_count": 2985,
     "metadata": {},
     "output_type": "execute_result"
    }
   ],
   "source": [
    "stemmed_nested_list[np.argmax(clean_material_lengths)]"
   ]
  },
  {
   "cell_type": "markdown",
   "metadata": {},
   "source": [
    "# Generate Features & Spare Matrix\n",
    "### Creating a DataFrame with one word per column"
   ]
  },
  {
   "cell_type": "code",
   "execution_count": 2986,
   "metadata": {},
   "outputs": [
    {
     "data": {
      "text/plain": [
       "pandas.core.series.Series"
      ]
     },
     "execution_count": 2986,
     "metadata": {},
     "output_type": "execute_result"
    }
   ],
   "source": [
    "type(stemmed_nested_list)"
   ]
  },
  {
   "cell_type": "code",
   "execution_count": 2987,
   "metadata": {
    "scrolled": true
   },
   "outputs": [
    {
     "data": {
      "text/plain": [
       "MATERIAL_ID\n",
       "0        [shell, fabric, hood, chest, lower, front, bod...\n",
       "1        [shell, fabric, hood, chest, lower, front, bod...\n",
       "2                       [shell, fabric, mid, chest, panel]\n",
       "3                       [shell, fabric, mid, chest, panel]\n",
       "4                       [stretch, mesh, back, pocket, bag]\n",
       "                               ...                        \n",
       "14583                              [spring, toggl, spring]\n",
       "14584                                 [retro, tape, retro]\n",
       "14585                                             [velcro]\n",
       "14586                                             [velcro]\n",
       "14587                                         [seam, tape]\n",
       "Name: material, Length: 14588, dtype: object"
      ]
     },
     "execution_count": 2987,
     "metadata": {},
     "output_type": "execute_result"
    }
   ],
   "source": [
    "stemmed_nested_list"
   ]
  },
  {
   "cell_type": "code",
   "execution_count": 2988,
   "metadata": {},
   "outputs": [
    {
     "data": {
      "text/plain": [
       "list"
      ]
     },
     "execution_count": 2988,
     "metadata": {},
     "output_type": "execute_result"
    }
   ],
   "source": [
    "type(stemmed_nested_list.tolist())"
   ]
  },
  {
   "cell_type": "code",
   "execution_count": 2989,
   "metadata": {},
   "outputs": [
    {
     "data": {
      "text/html": [
       "<div>\n",
       "<style scoped>\n",
       "    .dataframe tbody tr th:only-of-type {\n",
       "        vertical-align: middle;\n",
       "    }\n",
       "\n",
       "    .dataframe tbody tr th {\n",
       "        vertical-align: top;\n",
       "    }\n",
       "\n",
       "    .dataframe thead th {\n",
       "        text-align: right;\n",
       "    }\n",
       "</style>\n",
       "<table border=\"1\" class=\"dataframe\">\n",
       "  <thead>\n",
       "    <tr style=\"text-align: right;\">\n",
       "      <th></th>\n",
       "      <th>0</th>\n",
       "      <th>1</th>\n",
       "      <th>2</th>\n",
       "      <th>3</th>\n",
       "      <th>4</th>\n",
       "      <th>5</th>\n",
       "      <th>6</th>\n",
       "      <th>7</th>\n",
       "      <th>8</th>\n",
       "      <th>9</th>\n",
       "      <th>...</th>\n",
       "      <th>61</th>\n",
       "      <th>62</th>\n",
       "      <th>63</th>\n",
       "      <th>64</th>\n",
       "      <th>65</th>\n",
       "      <th>66</th>\n",
       "      <th>67</th>\n",
       "      <th>68</th>\n",
       "      <th>69</th>\n",
       "      <th>70</th>\n",
       "    </tr>\n",
       "  </thead>\n",
       "  <tbody>\n",
       "    <tr>\n",
       "      <td>0</td>\n",
       "      <td>shell</td>\n",
       "      <td>fabric</td>\n",
       "      <td>hood</td>\n",
       "      <td>chest</td>\n",
       "      <td>lower</td>\n",
       "      <td>front</td>\n",
       "      <td>bodi</td>\n",
       "      <td>back</td>\n",
       "      <td>bodi</td>\n",
       "      <td>sleev</td>\n",
       "      <td>...</td>\n",
       "      <td>None</td>\n",
       "      <td>None</td>\n",
       "      <td>None</td>\n",
       "      <td>None</td>\n",
       "      <td>None</td>\n",
       "      <td>None</td>\n",
       "      <td>None</td>\n",
       "      <td>None</td>\n",
       "      <td>None</td>\n",
       "      <td>None</td>\n",
       "    </tr>\n",
       "    <tr>\n",
       "      <td>1</td>\n",
       "      <td>shell</td>\n",
       "      <td>fabric</td>\n",
       "      <td>hood</td>\n",
       "      <td>chest</td>\n",
       "      <td>lower</td>\n",
       "      <td>front</td>\n",
       "      <td>bodi</td>\n",
       "      <td>back</td>\n",
       "      <td>bodi</td>\n",
       "      <td>sleev</td>\n",
       "      <td>...</td>\n",
       "      <td>None</td>\n",
       "      <td>None</td>\n",
       "      <td>None</td>\n",
       "      <td>None</td>\n",
       "      <td>None</td>\n",
       "      <td>None</td>\n",
       "      <td>None</td>\n",
       "      <td>None</td>\n",
       "      <td>None</td>\n",
       "      <td>None</td>\n",
       "    </tr>\n",
       "    <tr>\n",
       "      <td>2</td>\n",
       "      <td>shell</td>\n",
       "      <td>fabric</td>\n",
       "      <td>mid</td>\n",
       "      <td>chest</td>\n",
       "      <td>panel</td>\n",
       "      <td>None</td>\n",
       "      <td>None</td>\n",
       "      <td>None</td>\n",
       "      <td>None</td>\n",
       "      <td>None</td>\n",
       "      <td>...</td>\n",
       "      <td>None</td>\n",
       "      <td>None</td>\n",
       "      <td>None</td>\n",
       "      <td>None</td>\n",
       "      <td>None</td>\n",
       "      <td>None</td>\n",
       "      <td>None</td>\n",
       "      <td>None</td>\n",
       "      <td>None</td>\n",
       "      <td>None</td>\n",
       "    </tr>\n",
       "    <tr>\n",
       "      <td>3</td>\n",
       "      <td>shell</td>\n",
       "      <td>fabric</td>\n",
       "      <td>mid</td>\n",
       "      <td>chest</td>\n",
       "      <td>panel</td>\n",
       "      <td>None</td>\n",
       "      <td>None</td>\n",
       "      <td>None</td>\n",
       "      <td>None</td>\n",
       "      <td>None</td>\n",
       "      <td>...</td>\n",
       "      <td>None</td>\n",
       "      <td>None</td>\n",
       "      <td>None</td>\n",
       "      <td>None</td>\n",
       "      <td>None</td>\n",
       "      <td>None</td>\n",
       "      <td>None</td>\n",
       "      <td>None</td>\n",
       "      <td>None</td>\n",
       "      <td>None</td>\n",
       "    </tr>\n",
       "    <tr>\n",
       "      <td>4</td>\n",
       "      <td>stretch</td>\n",
       "      <td>mesh</td>\n",
       "      <td>back</td>\n",
       "      <td>pocket</td>\n",
       "      <td>bag</td>\n",
       "      <td>None</td>\n",
       "      <td>None</td>\n",
       "      <td>None</td>\n",
       "      <td>None</td>\n",
       "      <td>None</td>\n",
       "      <td>...</td>\n",
       "      <td>None</td>\n",
       "      <td>None</td>\n",
       "      <td>None</td>\n",
       "      <td>None</td>\n",
       "      <td>None</td>\n",
       "      <td>None</td>\n",
       "      <td>None</td>\n",
       "      <td>None</td>\n",
       "      <td>None</td>\n",
       "      <td>None</td>\n",
       "    </tr>\n",
       "    <tr>\n",
       "      <td>...</td>\n",
       "      <td>...</td>\n",
       "      <td>...</td>\n",
       "      <td>...</td>\n",
       "      <td>...</td>\n",
       "      <td>...</td>\n",
       "      <td>...</td>\n",
       "      <td>...</td>\n",
       "      <td>...</td>\n",
       "      <td>...</td>\n",
       "      <td>...</td>\n",
       "      <td>...</td>\n",
       "      <td>...</td>\n",
       "      <td>...</td>\n",
       "      <td>...</td>\n",
       "      <td>...</td>\n",
       "      <td>...</td>\n",
       "      <td>...</td>\n",
       "      <td>...</td>\n",
       "      <td>...</td>\n",
       "      <td>...</td>\n",
       "      <td>...</td>\n",
       "    </tr>\n",
       "    <tr>\n",
       "      <td>14583</td>\n",
       "      <td>spring</td>\n",
       "      <td>toggl</td>\n",
       "      <td>spring</td>\n",
       "      <td>None</td>\n",
       "      <td>None</td>\n",
       "      <td>None</td>\n",
       "      <td>None</td>\n",
       "      <td>None</td>\n",
       "      <td>None</td>\n",
       "      <td>None</td>\n",
       "      <td>...</td>\n",
       "      <td>None</td>\n",
       "      <td>None</td>\n",
       "      <td>None</td>\n",
       "      <td>None</td>\n",
       "      <td>None</td>\n",
       "      <td>None</td>\n",
       "      <td>None</td>\n",
       "      <td>None</td>\n",
       "      <td>None</td>\n",
       "      <td>None</td>\n",
       "    </tr>\n",
       "    <tr>\n",
       "      <td>14584</td>\n",
       "      <td>retro</td>\n",
       "      <td>tape</td>\n",
       "      <td>retro</td>\n",
       "      <td>None</td>\n",
       "      <td>None</td>\n",
       "      <td>None</td>\n",
       "      <td>None</td>\n",
       "      <td>None</td>\n",
       "      <td>None</td>\n",
       "      <td>None</td>\n",
       "      <td>...</td>\n",
       "      <td>None</td>\n",
       "      <td>None</td>\n",
       "      <td>None</td>\n",
       "      <td>None</td>\n",
       "      <td>None</td>\n",
       "      <td>None</td>\n",
       "      <td>None</td>\n",
       "      <td>None</td>\n",
       "      <td>None</td>\n",
       "      <td>None</td>\n",
       "    </tr>\n",
       "    <tr>\n",
       "      <td>14585</td>\n",
       "      <td>velcro</td>\n",
       "      <td>None</td>\n",
       "      <td>None</td>\n",
       "      <td>None</td>\n",
       "      <td>None</td>\n",
       "      <td>None</td>\n",
       "      <td>None</td>\n",
       "      <td>None</td>\n",
       "      <td>None</td>\n",
       "      <td>None</td>\n",
       "      <td>...</td>\n",
       "      <td>None</td>\n",
       "      <td>None</td>\n",
       "      <td>None</td>\n",
       "      <td>None</td>\n",
       "      <td>None</td>\n",
       "      <td>None</td>\n",
       "      <td>None</td>\n",
       "      <td>None</td>\n",
       "      <td>None</td>\n",
       "      <td>None</td>\n",
       "    </tr>\n",
       "    <tr>\n",
       "      <td>14586</td>\n",
       "      <td>velcro</td>\n",
       "      <td>None</td>\n",
       "      <td>None</td>\n",
       "      <td>None</td>\n",
       "      <td>None</td>\n",
       "      <td>None</td>\n",
       "      <td>None</td>\n",
       "      <td>None</td>\n",
       "      <td>None</td>\n",
       "      <td>None</td>\n",
       "      <td>...</td>\n",
       "      <td>None</td>\n",
       "      <td>None</td>\n",
       "      <td>None</td>\n",
       "      <td>None</td>\n",
       "      <td>None</td>\n",
       "      <td>None</td>\n",
       "      <td>None</td>\n",
       "      <td>None</td>\n",
       "      <td>None</td>\n",
       "      <td>None</td>\n",
       "    </tr>\n",
       "    <tr>\n",
       "      <td>14587</td>\n",
       "      <td>seam</td>\n",
       "      <td>tape</td>\n",
       "      <td>None</td>\n",
       "      <td>None</td>\n",
       "      <td>None</td>\n",
       "      <td>None</td>\n",
       "      <td>None</td>\n",
       "      <td>None</td>\n",
       "      <td>None</td>\n",
       "      <td>None</td>\n",
       "      <td>...</td>\n",
       "      <td>None</td>\n",
       "      <td>None</td>\n",
       "      <td>None</td>\n",
       "      <td>None</td>\n",
       "      <td>None</td>\n",
       "      <td>None</td>\n",
       "      <td>None</td>\n",
       "      <td>None</td>\n",
       "      <td>None</td>\n",
       "      <td>None</td>\n",
       "    </tr>\n",
       "  </tbody>\n",
       "</table>\n",
       "<p>14588 rows × 71 columns</p>\n",
       "</div>"
      ],
      "text/plain": [
       "            0       1       2       3      4      5     6     7     8      9   \\\n",
       "0        shell  fabric    hood   chest  lower  front  bodi  back  bodi  sleev   \n",
       "1        shell  fabric    hood   chest  lower  front  bodi  back  bodi  sleev   \n",
       "2        shell  fabric     mid   chest  panel   None  None  None  None   None   \n",
       "3        shell  fabric     mid   chest  panel   None  None  None  None   None   \n",
       "4      stretch    mesh    back  pocket    bag   None  None  None  None   None   \n",
       "...        ...     ...     ...     ...    ...    ...   ...   ...   ...    ...   \n",
       "14583   spring   toggl  spring    None   None   None  None  None  None   None   \n",
       "14584    retro    tape   retro    None   None   None  None  None  None   None   \n",
       "14585   velcro    None    None    None   None   None  None  None  None   None   \n",
       "14586   velcro    None    None    None   None   None  None  None  None   None   \n",
       "14587     seam    tape    None    None   None   None  None  None  None   None   \n",
       "\n",
       "       ...    61    62    63    64    65    66    67    68    69    70  \n",
       "0      ...  None  None  None  None  None  None  None  None  None  None  \n",
       "1      ...  None  None  None  None  None  None  None  None  None  None  \n",
       "2      ...  None  None  None  None  None  None  None  None  None  None  \n",
       "3      ...  None  None  None  None  None  None  None  None  None  None  \n",
       "4      ...  None  None  None  None  None  None  None  None  None  None  \n",
       "...    ...   ...   ...   ...   ...   ...   ...   ...   ...   ...   ...  \n",
       "14583  ...  None  None  None  None  None  None  None  None  None  None  \n",
       "14584  ...  None  None  None  None  None  None  None  None  None  None  \n",
       "14585  ...  None  None  None  None  None  None  None  None  None  None  \n",
       "14586  ...  None  None  None  None  None  None  None  None  None  None  \n",
       "14587  ...  None  None  None  None  None  None  None  None  None  None  \n",
       "\n",
       "[14588 rows x 71 columns]"
      ]
     },
     "execution_count": 2989,
     "metadata": {},
     "output_type": "execute_result"
    }
   ],
   "source": [
    "word_col_df = pd.DataFrame.from_records(stemmed_nested_list.tolist())\n",
    "word_col_df"
   ]
  },
  {
   "cell_type": "markdown",
   "metadata": {},
   "source": [
    "## Traning Set and Test Set\n",
    "* Must import the method \"train_test_split()\" from sklearn"
   ]
  },
  {
   "cell_type": "code",
   "execution_count": 2990,
   "metadata": {},
   "outputs": [],
   "source": [
    "X_train, X_test, y_train, y_test = train_test_split(word_col_df, data[SUBJECT],\n",
    "                                                    test_size = TEST_SIZE)"
   ]
  },
  {
   "cell_type": "code",
   "execution_count": 2991,
   "metadata": {},
   "outputs": [
    {
     "name": "stdout",
     "output_type": "stream",
     "text": [
      "Nr of traning samples 13129\n",
      "Fraction of traning set 0.8999862901014533\n"
     ]
    }
   ],
   "source": [
    "print('Nr of traning samples', X_train.shape[0])\n",
    "print('Fraction of traning set', X_train.shape[0] / word_col_df.shape[0])"
   ]
  },
  {
   "cell_type": "code",
   "execution_count": 2992,
   "metadata": {},
   "outputs": [
    {
     "data": {
      "text/html": [
       "<div>\n",
       "<style scoped>\n",
       "    .dataframe tbody tr th:only-of-type {\n",
       "        vertical-align: middle;\n",
       "    }\n",
       "\n",
       "    .dataframe tbody tr th {\n",
       "        vertical-align: top;\n",
       "    }\n",
       "\n",
       "    .dataframe thead th {\n",
       "        text-align: right;\n",
       "    }\n",
       "</style>\n",
       "<table border=\"1\" class=\"dataframe\">\n",
       "  <thead>\n",
       "    <tr style=\"text-align: right;\">\n",
       "      <th></th>\n",
       "      <th>0</th>\n",
       "      <th>1</th>\n",
       "      <th>2</th>\n",
       "      <th>3</th>\n",
       "      <th>4</th>\n",
       "      <th>5</th>\n",
       "      <th>6</th>\n",
       "      <th>7</th>\n",
       "      <th>8</th>\n",
       "      <th>9</th>\n",
       "      <th>...</th>\n",
       "      <th>61</th>\n",
       "      <th>62</th>\n",
       "      <th>63</th>\n",
       "      <th>64</th>\n",
       "      <th>65</th>\n",
       "      <th>66</th>\n",
       "      <th>67</th>\n",
       "      <th>68</th>\n",
       "      <th>69</th>\n",
       "      <th>70</th>\n",
       "    </tr>\n",
       "    <tr>\n",
       "      <th>MATERIAL_ID</th>\n",
       "      <th></th>\n",
       "      <th></th>\n",
       "      <th></th>\n",
       "      <th></th>\n",
       "      <th></th>\n",
       "      <th></th>\n",
       "      <th></th>\n",
       "      <th></th>\n",
       "      <th></th>\n",
       "      <th></th>\n",
       "      <th></th>\n",
       "      <th></th>\n",
       "      <th></th>\n",
       "      <th></th>\n",
       "      <th></th>\n",
       "      <th></th>\n",
       "      <th></th>\n",
       "      <th></th>\n",
       "      <th></th>\n",
       "      <th></th>\n",
       "      <th></th>\n",
       "    </tr>\n",
       "  </thead>\n",
       "  <tbody>\n",
       "    <tr>\n",
       "      <td>4293</td>\n",
       "      <td>care</td>\n",
       "      <td>label</td>\n",
       "      <td>label</td>\n",
       "      <td>left</td>\n",
       "      <td>side</td>\n",
       "      <td>seam</td>\n",
       "      <td>None</td>\n",
       "      <td>None</td>\n",
       "      <td>None</td>\n",
       "      <td>None</td>\n",
       "      <td>...</td>\n",
       "      <td>None</td>\n",
       "      <td>None</td>\n",
       "      <td>None</td>\n",
       "      <td>None</td>\n",
       "      <td>None</td>\n",
       "      <td>None</td>\n",
       "      <td>None</td>\n",
       "      <td>None</td>\n",
       "      <td>None</td>\n",
       "      <td>None</td>\n",
       "    </tr>\n",
       "    <tr>\n",
       "      <td>12172</td>\n",
       "      <td>block</td>\n",
       "      <td>None</td>\n",
       "      <td>None</td>\n",
       "      <td>None</td>\n",
       "      <td>None</td>\n",
       "      <td>None</td>\n",
       "      <td>None</td>\n",
       "      <td>None</td>\n",
       "      <td>None</td>\n",
       "      <td>None</td>\n",
       "      <td>...</td>\n",
       "      <td>None</td>\n",
       "      <td>None</td>\n",
       "      <td>None</td>\n",
       "      <td>None</td>\n",
       "      <td>None</td>\n",
       "      <td>None</td>\n",
       "      <td>None</td>\n",
       "      <td>None</td>\n",
       "      <td>None</td>\n",
       "      <td>None</td>\n",
       "    </tr>\n",
       "    <tr>\n",
       "      <td>4905</td>\n",
       "      <td>stopper</td>\n",
       "      <td>push</td>\n",
       "      <td>stopper</td>\n",
       "      <td>bottom</td>\n",
       "      <td>hem</td>\n",
       "      <td>None</td>\n",
       "      <td>None</td>\n",
       "      <td>None</td>\n",
       "      <td>None</td>\n",
       "      <td>None</td>\n",
       "      <td>...</td>\n",
       "      <td>None</td>\n",
       "      <td>None</td>\n",
       "      <td>None</td>\n",
       "      <td>None</td>\n",
       "      <td>None</td>\n",
       "      <td>None</td>\n",
       "      <td>None</td>\n",
       "      <td>None</td>\n",
       "      <td>None</td>\n",
       "      <td>None</td>\n",
       "    </tr>\n",
       "    <tr>\n",
       "      <td>777</td>\n",
       "      <td>cire</td>\n",
       "      <td>taffeta</td>\n",
       "      <td>line</td>\n",
       "      <td>snowskirt</td>\n",
       "      <td>snowskirt</td>\n",
       "      <td>None</td>\n",
       "      <td>None</td>\n",
       "      <td>None</td>\n",
       "      <td>None</td>\n",
       "      <td>None</td>\n",
       "      <td>...</td>\n",
       "      <td>None</td>\n",
       "      <td>None</td>\n",
       "      <td>None</td>\n",
       "      <td>None</td>\n",
       "      <td>None</td>\n",
       "      <td>None</td>\n",
       "      <td>None</td>\n",
       "      <td>None</td>\n",
       "      <td>None</td>\n",
       "      <td>None</td>\n",
       "    </tr>\n",
       "    <tr>\n",
       "      <td>2622</td>\n",
       "      <td>hardwar</td>\n",
       "      <td>snap</td>\n",
       "      <td>button</td>\n",
       "      <td>set</td>\n",
       "      <td>incl</td>\n",
       "      <td>washer</td>\n",
       "      <td>pocket</td>\n",
       "      <td>snap</td>\n",
       "      <td>tab</td>\n",
       "      <td>insid</td>\n",
       "      <td>...</td>\n",
       "      <td>None</td>\n",
       "      <td>None</td>\n",
       "      <td>None</td>\n",
       "      <td>None</td>\n",
       "      <td>None</td>\n",
       "      <td>None</td>\n",
       "      <td>None</td>\n",
       "      <td>None</td>\n",
       "      <td>None</td>\n",
       "      <td>None</td>\n",
       "    </tr>\n",
       "  </tbody>\n",
       "</table>\n",
       "<p>5 rows × 71 columns</p>\n",
       "</div>"
      ],
      "text/plain": [
       "                  0        1        2          3          4       5       6   \\\n",
       "MATERIAL_ID                                                                    \n",
       "4293            care    label    label       left       side    seam    None   \n",
       "12172          block     None     None       None       None    None    None   \n",
       "4905         stopper     push  stopper     bottom        hem    None    None   \n",
       "777             cire  taffeta     line  snowskirt  snowskirt    None    None   \n",
       "2622         hardwar     snap   button        set       incl  washer  pocket   \n",
       "\n",
       "               7     8      9   ...    61    62    63    64    65    66    67  \\\n",
       "MATERIAL_ID                     ...                                             \n",
       "4293         None  None   None  ...  None  None  None  None  None  None  None   \n",
       "12172        None  None   None  ...  None  None  None  None  None  None  None   \n",
       "4905         None  None   None  ...  None  None  None  None  None  None  None   \n",
       "777          None  None   None  ...  None  None  None  None  None  None  None   \n",
       "2622         snap   tab  insid  ...  None  None  None  None  None  None  None   \n",
       "\n",
       "               68    69    70  \n",
       "MATERIAL_ID                    \n",
       "4293         None  None  None  \n",
       "12172        None  None  None  \n",
       "4905         None  None  None  \n",
       "777          None  None  None  \n",
       "2622         None  None  None  \n",
       "\n",
       "[5 rows x 71 columns]"
      ]
     },
     "execution_count": 2992,
     "metadata": {},
     "output_type": "execute_result"
    }
   ],
   "source": [
    "X_train.index.name = X_test.index.name = 'MATERIAL_ID'\n",
    "X_train.head()"
   ]
  },
  {
   "cell_type": "code",
   "execution_count": 2993,
   "metadata": {},
   "outputs": [
    {
     "data": {
      "text/plain": [
       "MATERIAL_ID\n",
       "4293     1\n",
       "12172    0\n",
       "4905     0\n",
       "777      0\n",
       "2622     0\n",
       "Name: label, dtype: int64"
      ]
     },
     "execution_count": 2993,
     "metadata": {},
     "output_type": "execute_result"
    }
   ],
   "source": [
    "y_train.head()"
   ]
  },
  {
   "cell_type": "markdown",
   "metadata": {},
   "source": [
    "## Sparse Matrix for the traning data\n",
    "* Get vocabulary turned as an Index:"
   ]
  },
  {
   "cell_type": "code",
   "execution_count": 2994,
   "metadata": {},
   "outputs": [
    {
     "data": {
      "text/plain": [
       "Index(['pocket', 'zipper', 'label', 'seam', 'number', 'locat', 'refer',\n",
       "       'front', 'back', 'left',\n",
       "       ...\n",
       "       'pig', 'version', 'text', 'newsiz', 'wiastband', 'printabl', 'info',\n",
       "       'waydu', 'corey', 'neat'],\n",
       "      dtype='object', name='VOCAB_WORD', length=900)"
      ]
     },
     "execution_count": 2994,
     "metadata": {},
     "output_type": "execute_result"
    }
   ],
   "source": [
    "word_index = pd.Index(vocab.VOCAB_WORD)\n",
    "word_index"
   ]
  },
  {
   "cell_type": "code",
   "execution_count": 2995,
   "metadata": {},
   "outputs": [
    {
     "data": {
      "text/plain": [
       "13129"
      ]
     },
     "execution_count": 2995,
     "metadata": {},
     "output_type": "execute_result"
    }
   ],
   "source": [
    "y_train.shape[0]"
   ]
  },
  {
   "cell_type": "markdown",
   "metadata": {},
   "source": [
    "### Sparse Matrix Function"
   ]
  },
  {
   "cell_type": "code",
   "execution_count": 2996,
   "metadata": {},
   "outputs": [],
   "source": [
    "def make_sparse_matrix(df, indexed_words, labels):\n",
    "    \"\"\"\n",
    "    Returns a sparse matrix as dataframe\n",
    "    \"\"\"\n",
    "    \n",
    "    nr_rows = df.shape[0]\n",
    "    nr_cols = df.shape[1]\n",
    "    word_set = set(indexed_words)\n",
    "    dict_list = []\n",
    "    \n",
    "    for i in range(nr_rows):\n",
    "        for j in range(nr_cols):\n",
    "            \n",
    "            word = df.iat[i, j]\n",
    "            if word in word_set:\n",
    "                doc_id = df.index[i]\n",
    "                word_id = indexed_words.get_loc(word)\n",
    "                category = labels.at[doc_id]\n",
    "                \n",
    "                item = {'LABEL': category, 'MATERIAL_ID': doc_id,\n",
    "                       'OCCURENCE': 1, 'WORD_ID': word_id}\n",
    "                \n",
    "                dict_list.append(item)\n",
    "                \n",
    "    return pd.DataFrame(dict_list)"
   ]
  },
  {
   "cell_type": "markdown",
   "metadata": {},
   "source": [
    "## Training data\n",
    "### Applying to the traning set"
   ]
  },
  {
   "cell_type": "code",
   "execution_count": 2997,
   "metadata": {},
   "outputs": [
    {
     "name": "stdout",
     "output_type": "stream",
     "text": [
      "CPU times: user 5.59 s, sys: 33.5 ms, total: 5.62 s\n",
      "Wall time: 5.66 s\n"
     ]
    }
   ],
   "source": [
    "%%time\n",
    "sparse_train_df = make_sparse_matrix(X_train, word_index, y_train)"
   ]
  },
  {
   "cell_type": "code",
   "execution_count": 2998,
   "metadata": {},
   "outputs": [
    {
     "data": {
      "text/html": [
       "<div>\n",
       "<style scoped>\n",
       "    .dataframe tbody tr th:only-of-type {\n",
       "        vertical-align: middle;\n",
       "    }\n",
       "\n",
       "    .dataframe tbody tr th {\n",
       "        vertical-align: top;\n",
       "    }\n",
       "\n",
       "    .dataframe thead th {\n",
       "        text-align: right;\n",
       "    }\n",
       "</style>\n",
       "<table border=\"1\" class=\"dataframe\">\n",
       "  <thead>\n",
       "    <tr style=\"text-align: right;\">\n",
       "      <th></th>\n",
       "      <th>LABEL</th>\n",
       "      <th>MATERIAL_ID</th>\n",
       "      <th>OCCURENCE</th>\n",
       "      <th>WORD_ID</th>\n",
       "    </tr>\n",
       "  </thead>\n",
       "  <tbody>\n",
       "    <tr>\n",
       "      <td>0</td>\n",
       "      <td>1</td>\n",
       "      <td>4293</td>\n",
       "      <td>1</td>\n",
       "      <td>83</td>\n",
       "    </tr>\n",
       "    <tr>\n",
       "      <td>1</td>\n",
       "      <td>1</td>\n",
       "      <td>4293</td>\n",
       "      <td>1</td>\n",
       "      <td>2</td>\n",
       "    </tr>\n",
       "    <tr>\n",
       "      <td>2</td>\n",
       "      <td>1</td>\n",
       "      <td>4293</td>\n",
       "      <td>1</td>\n",
       "      <td>2</td>\n",
       "    </tr>\n",
       "    <tr>\n",
       "      <td>3</td>\n",
       "      <td>1</td>\n",
       "      <td>4293</td>\n",
       "      <td>1</td>\n",
       "      <td>9</td>\n",
       "    </tr>\n",
       "    <tr>\n",
       "      <td>4</td>\n",
       "      <td>1</td>\n",
       "      <td>4293</td>\n",
       "      <td>1</td>\n",
       "      <td>12</td>\n",
       "    </tr>\n",
       "    <tr>\n",
       "      <td>...</td>\n",
       "      <td>...</td>\n",
       "      <td>...</td>\n",
       "      <td>...</td>\n",
       "      <td>...</td>\n",
       "    </tr>\n",
       "    <tr>\n",
       "      <td>80799</td>\n",
       "      <td>0</td>\n",
       "      <td>11273</td>\n",
       "      <td>1</td>\n",
       "      <td>456</td>\n",
       "    </tr>\n",
       "    <tr>\n",
       "      <td>80800</td>\n",
       "      <td>0</td>\n",
       "      <td>11273</td>\n",
       "      <td>1</td>\n",
       "      <td>473</td>\n",
       "    </tr>\n",
       "    <tr>\n",
       "      <td>80801</td>\n",
       "      <td>0</td>\n",
       "      <td>11273</td>\n",
       "      <td>1</td>\n",
       "      <td>417</td>\n",
       "    </tr>\n",
       "    <tr>\n",
       "      <td>80802</td>\n",
       "      <td>0</td>\n",
       "      <td>11273</td>\n",
       "      <td>1</td>\n",
       "      <td>61</td>\n",
       "    </tr>\n",
       "    <tr>\n",
       "      <td>80803</td>\n",
       "      <td>0</td>\n",
       "      <td>11273</td>\n",
       "      <td>1</td>\n",
       "      <td>457</td>\n",
       "    </tr>\n",
       "  </tbody>\n",
       "</table>\n",
       "<p>80804 rows × 4 columns</p>\n",
       "</div>"
      ],
      "text/plain": [
       "       LABEL  MATERIAL_ID  OCCURENCE  WORD_ID\n",
       "0          1         4293          1       83\n",
       "1          1         4293          1        2\n",
       "2          1         4293          1        2\n",
       "3          1         4293          1        9\n",
       "4          1         4293          1       12\n",
       "...      ...          ...        ...      ...\n",
       "80799      0        11273          1      456\n",
       "80800      0        11273          1      473\n",
       "80801      0        11273          1      417\n",
       "80802      0        11273          1       61\n",
       "80803      0        11273          1      457\n",
       "\n",
       "[80804 rows x 4 columns]"
      ]
     },
     "execution_count": 2998,
     "metadata": {},
     "output_type": "execute_result"
    }
   ],
   "source": [
    "sparse_train_df"
   ]
  },
  {
   "cell_type": "code",
   "execution_count": 2999,
   "metadata": {},
   "outputs": [
    {
     "data": {
      "text/plain": [
       "(80804, 4)"
      ]
     },
     "execution_count": 2999,
     "metadata": {},
     "output_type": "execute_result"
    }
   ],
   "source": [
    "sparse_train_df.shape"
   ]
  },
  {
   "cell_type": "markdown",
   "metadata": {},
   "source": [
    "### Group by the DOC_ID"
   ]
  },
  {
   "cell_type": "code",
   "execution_count": 3000,
   "metadata": {},
   "outputs": [
    {
     "data": {
      "text/html": [
       "<div>\n",
       "<style scoped>\n",
       "    .dataframe tbody tr th:only-of-type {\n",
       "        vertical-align: middle;\n",
       "    }\n",
       "\n",
       "    .dataframe tbody tr th {\n",
       "        vertical-align: top;\n",
       "    }\n",
       "\n",
       "    .dataframe thead th {\n",
       "        text-align: right;\n",
       "    }\n",
       "</style>\n",
       "<table border=\"1\" class=\"dataframe\">\n",
       "  <thead>\n",
       "    <tr style=\"text-align: right;\">\n",
       "      <th></th>\n",
       "      <th></th>\n",
       "      <th></th>\n",
       "      <th>OCCURENCE</th>\n",
       "    </tr>\n",
       "    <tr>\n",
       "      <th>MATERIAL_ID</th>\n",
       "      <th>WORD_ID</th>\n",
       "      <th>LABEL</th>\n",
       "      <th></th>\n",
       "    </tr>\n",
       "  </thead>\n",
       "  <tbody>\n",
       "    <tr>\n",
       "      <td rowspan=\"4\" valign=\"top\">2</td>\n",
       "      <td>14</td>\n",
       "      <td>0</td>\n",
       "      <td>1</td>\n",
       "    </tr>\n",
       "    <tr>\n",
       "      <td>26</td>\n",
       "      <td>0</td>\n",
       "      <td>1</td>\n",
       "    </tr>\n",
       "    <tr>\n",
       "      <td>76</td>\n",
       "      <td>0</td>\n",
       "      <td>1</td>\n",
       "    </tr>\n",
       "    <tr>\n",
       "      <td>182</td>\n",
       "      <td>0</td>\n",
       "      <td>1</td>\n",
       "    </tr>\n",
       "    <tr>\n",
       "      <td>4</td>\n",
       "      <td>0</td>\n",
       "      <td>0</td>\n",
       "      <td>1</td>\n",
       "    </tr>\n",
       "    <tr>\n",
       "      <td>...</td>\n",
       "      <td>...</td>\n",
       "      <td>...</td>\n",
       "      <td>...</td>\n",
       "    </tr>\n",
       "    <tr>\n",
       "      <td>14584</td>\n",
       "      <td>25</td>\n",
       "      <td>0</td>\n",
       "      <td>1</td>\n",
       "    </tr>\n",
       "    <tr>\n",
       "      <td>14585</td>\n",
       "      <td>42</td>\n",
       "      <td>0</td>\n",
       "      <td>1</td>\n",
       "    </tr>\n",
       "    <tr>\n",
       "      <td>14586</td>\n",
       "      <td>42</td>\n",
       "      <td>0</td>\n",
       "      <td>1</td>\n",
       "    </tr>\n",
       "    <tr>\n",
       "      <td rowspan=\"2\" valign=\"top\">14587</td>\n",
       "      <td>3</td>\n",
       "      <td>0</td>\n",
       "      <td>1</td>\n",
       "    </tr>\n",
       "    <tr>\n",
       "      <td>25</td>\n",
       "      <td>0</td>\n",
       "      <td>1</td>\n",
       "    </tr>\n",
       "  </tbody>\n",
       "</table>\n",
       "<p>75704 rows × 1 columns</p>\n",
       "</div>"
      ],
      "text/plain": [
       "                           OCCURENCE\n",
       "MATERIAL_ID WORD_ID LABEL           \n",
       "2           14      0              1\n",
       "            26      0              1\n",
       "            76      0              1\n",
       "            182     0              1\n",
       "4           0       0              1\n",
       "...                              ...\n",
       "14584       25      0              1\n",
       "14585       42      0              1\n",
       "14586       42      0              1\n",
       "14587       3       0              1\n",
       "            25      0              1\n",
       "\n",
       "[75704 rows x 1 columns]"
      ]
     },
     "execution_count": 3000,
     "metadata": {},
     "output_type": "execute_result"
    }
   ],
   "source": [
    "train_grouped = sparse_train_df.groupby(['MATERIAL_ID', 'WORD_ID', 'LABEL']).sum()\n",
    "train_grouped"
   ]
  },
  {
   "cell_type": "markdown",
   "metadata": {},
   "source": [
    "* Distribute the DOC_ID to each row"
   ]
  },
  {
   "cell_type": "code",
   "execution_count": 3001,
   "metadata": {},
   "outputs": [],
   "source": [
    "train_grouped = train_grouped.reset_index()"
   ]
  },
  {
   "cell_type": "code",
   "execution_count": 3002,
   "metadata": {},
   "outputs": [
    {
     "data": {
      "text/html": [
       "<div>\n",
       "<style scoped>\n",
       "    .dataframe tbody tr th:only-of-type {\n",
       "        vertical-align: middle;\n",
       "    }\n",
       "\n",
       "    .dataframe tbody tr th {\n",
       "        vertical-align: top;\n",
       "    }\n",
       "\n",
       "    .dataframe thead th {\n",
       "        text-align: right;\n",
       "    }\n",
       "</style>\n",
       "<table border=\"1\" class=\"dataframe\">\n",
       "  <thead>\n",
       "    <tr style=\"text-align: right;\">\n",
       "      <th></th>\n",
       "      <th>MATERIAL_ID</th>\n",
       "      <th>WORD_ID</th>\n",
       "      <th>LABEL</th>\n",
       "      <th>OCCURENCE</th>\n",
       "    </tr>\n",
       "  </thead>\n",
       "  <tbody>\n",
       "    <tr>\n",
       "      <td>0</td>\n",
       "      <td>2</td>\n",
       "      <td>14</td>\n",
       "      <td>0</td>\n",
       "      <td>1</td>\n",
       "    </tr>\n",
       "    <tr>\n",
       "      <td>1</td>\n",
       "      <td>2</td>\n",
       "      <td>26</td>\n",
       "      <td>0</td>\n",
       "      <td>1</td>\n",
       "    </tr>\n",
       "    <tr>\n",
       "      <td>2</td>\n",
       "      <td>2</td>\n",
       "      <td>76</td>\n",
       "      <td>0</td>\n",
       "      <td>1</td>\n",
       "    </tr>\n",
       "    <tr>\n",
       "      <td>3</td>\n",
       "      <td>2</td>\n",
       "      <td>182</td>\n",
       "      <td>0</td>\n",
       "      <td>1</td>\n",
       "    </tr>\n",
       "    <tr>\n",
       "      <td>4</td>\n",
       "      <td>4</td>\n",
       "      <td>0</td>\n",
       "      <td>0</td>\n",
       "      <td>1</td>\n",
       "    </tr>\n",
       "    <tr>\n",
       "      <td>...</td>\n",
       "      <td>...</td>\n",
       "      <td>...</td>\n",
       "      <td>...</td>\n",
       "      <td>...</td>\n",
       "    </tr>\n",
       "    <tr>\n",
       "      <td>75699</td>\n",
       "      <td>14584</td>\n",
       "      <td>25</td>\n",
       "      <td>0</td>\n",
       "      <td>1</td>\n",
       "    </tr>\n",
       "    <tr>\n",
       "      <td>75700</td>\n",
       "      <td>14585</td>\n",
       "      <td>42</td>\n",
       "      <td>0</td>\n",
       "      <td>1</td>\n",
       "    </tr>\n",
       "    <tr>\n",
       "      <td>75701</td>\n",
       "      <td>14586</td>\n",
       "      <td>42</td>\n",
       "      <td>0</td>\n",
       "      <td>1</td>\n",
       "    </tr>\n",
       "    <tr>\n",
       "      <td>75702</td>\n",
       "      <td>14587</td>\n",
       "      <td>3</td>\n",
       "      <td>0</td>\n",
       "      <td>1</td>\n",
       "    </tr>\n",
       "    <tr>\n",
       "      <td>75703</td>\n",
       "      <td>14587</td>\n",
       "      <td>25</td>\n",
       "      <td>0</td>\n",
       "      <td>1</td>\n",
       "    </tr>\n",
       "  </tbody>\n",
       "</table>\n",
       "<p>75704 rows × 4 columns</p>\n",
       "</div>"
      ],
      "text/plain": [
       "       MATERIAL_ID  WORD_ID  LABEL  OCCURENCE\n",
       "0                2       14      0          1\n",
       "1                2       26      0          1\n",
       "2                2       76      0          1\n",
       "3                2      182      0          1\n",
       "4                4        0      0          1\n",
       "...            ...      ...    ...        ...\n",
       "75699        14584       25      0          1\n",
       "75700        14585       42      0          1\n",
       "75701        14586       42      0          1\n",
       "75702        14587        3      0          1\n",
       "75703        14587       25      0          1\n",
       "\n",
       "[75704 rows x 4 columns]"
      ]
     },
     "execution_count": 3002,
     "metadata": {},
     "output_type": "execute_result"
    }
   ],
   "source": [
    "train_grouped"
   ]
  },
  {
   "cell_type": "markdown",
   "metadata": {},
   "source": [
    "### Save Traning Data\n",
    "* We save it as a txt file, with only numbers of the IDs, Occurances, label, as showed above. "
   ]
  },
  {
   "cell_type": "code",
   "execution_count": 3003,
   "metadata": {},
   "outputs": [],
   "source": [
    "np.savetxt('result/Trained Data/' + SUBJECT + '_sparse_traning_data', train_grouped, fmt = '%d')"
   ]
  },
  {
   "cell_type": "markdown",
   "metadata": {},
   "source": [
    "## Test Data\n",
    "* The way to create it is basically same way as treating traning data."
   ]
  },
  {
   "cell_type": "code",
   "execution_count": 3004,
   "metadata": {},
   "outputs": [
    {
     "data": {
      "text/html": [
       "<div>\n",
       "<style scoped>\n",
       "    .dataframe tbody tr th:only-of-type {\n",
       "        vertical-align: middle;\n",
       "    }\n",
       "\n",
       "    .dataframe tbody tr th {\n",
       "        vertical-align: top;\n",
       "    }\n",
       "\n",
       "    .dataframe thead th {\n",
       "        text-align: right;\n",
       "    }\n",
       "</style>\n",
       "<table border=\"1\" class=\"dataframe\">\n",
       "  <thead>\n",
       "    <tr style=\"text-align: right;\">\n",
       "      <th></th>\n",
       "      <th>0</th>\n",
       "      <th>1</th>\n",
       "      <th>2</th>\n",
       "      <th>3</th>\n",
       "      <th>4</th>\n",
       "      <th>5</th>\n",
       "      <th>6</th>\n",
       "      <th>7</th>\n",
       "      <th>8</th>\n",
       "      <th>9</th>\n",
       "      <th>...</th>\n",
       "      <th>61</th>\n",
       "      <th>62</th>\n",
       "      <th>63</th>\n",
       "      <th>64</th>\n",
       "      <th>65</th>\n",
       "      <th>66</th>\n",
       "      <th>67</th>\n",
       "      <th>68</th>\n",
       "      <th>69</th>\n",
       "      <th>70</th>\n",
       "    </tr>\n",
       "    <tr>\n",
       "      <th>MATERIAL_ID</th>\n",
       "      <th></th>\n",
       "      <th></th>\n",
       "      <th></th>\n",
       "      <th></th>\n",
       "      <th></th>\n",
       "      <th></th>\n",
       "      <th></th>\n",
       "      <th></th>\n",
       "      <th></th>\n",
       "      <th></th>\n",
       "      <th></th>\n",
       "      <th></th>\n",
       "      <th></th>\n",
       "      <th></th>\n",
       "      <th></th>\n",
       "      <th></th>\n",
       "      <th></th>\n",
       "      <th></th>\n",
       "      <th></th>\n",
       "      <th></th>\n",
       "      <th></th>\n",
       "    </tr>\n",
       "  </thead>\n",
       "  <tbody>\n",
       "    <tr>\n",
       "      <td>525</td>\n",
       "      <td>trim</td>\n",
       "      <td>cord</td>\n",
       "      <td>end</td>\n",
       "      <td>tini</td>\n",
       "      <td>drop</td>\n",
       "      <td>shape</td>\n",
       "      <td>hood</td>\n",
       "      <td>back</td>\n",
       "      <td>side</td>\n",
       "      <td>None</td>\n",
       "      <td>...</td>\n",
       "      <td>None</td>\n",
       "      <td>None</td>\n",
       "      <td>None</td>\n",
       "      <td>None</td>\n",
       "      <td>None</td>\n",
       "      <td>None</td>\n",
       "      <td>None</td>\n",
       "      <td>None</td>\n",
       "      <td>None</td>\n",
       "      <td>None</td>\n",
       "    </tr>\n",
       "    <tr>\n",
       "      <td>3053</td>\n",
       "      <td>trim</td>\n",
       "      <td>small</td>\n",
       "      <td>plastic</td>\n",
       "      <td>snapref</td>\n",
       "      <td>hoodcuff</td>\n",
       "      <td>None</td>\n",
       "      <td>None</td>\n",
       "      <td>None</td>\n",
       "      <td>None</td>\n",
       "      <td>None</td>\n",
       "      <td>...</td>\n",
       "      <td>None</td>\n",
       "      <td>None</td>\n",
       "      <td>None</td>\n",
       "      <td>None</td>\n",
       "      <td>None</td>\n",
       "      <td>None</td>\n",
       "      <td>None</td>\n",
       "      <td>None</td>\n",
       "      <td>None</td>\n",
       "      <td>None</td>\n",
       "    </tr>\n",
       "    <tr>\n",
       "      <td>14491</td>\n",
       "      <td>thread</td>\n",
       "      <td>spi</td>\n",
       "      <td>seam</td>\n",
       "      <td>None</td>\n",
       "      <td>None</td>\n",
       "      <td>None</td>\n",
       "      <td>None</td>\n",
       "      <td>None</td>\n",
       "      <td>None</td>\n",
       "      <td>None</td>\n",
       "      <td>...</td>\n",
       "      <td>None</td>\n",
       "      <td>None</td>\n",
       "      <td>None</td>\n",
       "      <td>None</td>\n",
       "      <td>None</td>\n",
       "      <td>None</td>\n",
       "      <td>None</td>\n",
       "      <td>None</td>\n",
       "      <td>None</td>\n",
       "      <td>None</td>\n",
       "    </tr>\n",
       "    <tr>\n",
       "      <td>3501</td>\n",
       "      <td>ykk</td>\n",
       "      <td>regular</td>\n",
       "      <td>face</td>\n",
       "      <td>coil</td>\n",
       "      <td>zipper</td>\n",
       "      <td>end</td>\n",
       "      <td>open</td>\n",
       "      <td>dsyg</td>\n",
       "      <td>slider</td>\n",
       "      <td>hem</td>\n",
       "      <td>...</td>\n",
       "      <td>None</td>\n",
       "      <td>None</td>\n",
       "      <td>None</td>\n",
       "      <td>None</td>\n",
       "      <td>None</td>\n",
       "      <td>None</td>\n",
       "      <td>None</td>\n",
       "      <td>None</td>\n",
       "      <td>None</td>\n",
       "      <td>None</td>\n",
       "    </tr>\n",
       "    <tr>\n",
       "      <td>4414</td>\n",
       "      <td>gripper</td>\n",
       "      <td>elast</td>\n",
       "      <td>powder</td>\n",
       "      <td>skirt</td>\n",
       "      <td>None</td>\n",
       "      <td>None</td>\n",
       "      <td>None</td>\n",
       "      <td>None</td>\n",
       "      <td>None</td>\n",
       "      <td>None</td>\n",
       "      <td>...</td>\n",
       "      <td>None</td>\n",
       "      <td>None</td>\n",
       "      <td>None</td>\n",
       "      <td>None</td>\n",
       "      <td>None</td>\n",
       "      <td>None</td>\n",
       "      <td>None</td>\n",
       "      <td>None</td>\n",
       "      <td>None</td>\n",
       "      <td>None</td>\n",
       "    </tr>\n",
       "  </tbody>\n",
       "</table>\n",
       "<p>5 rows × 71 columns</p>\n",
       "</div>"
      ],
      "text/plain": [
       "                  0        1        2        3         4      5     6     7   \\\n",
       "MATERIAL_ID                                                                    \n",
       "525             trim     cord      end     tini      drop  shape  hood  back   \n",
       "3053            trim    small  plastic  snapref  hoodcuff   None  None  None   \n",
       "14491         thread      spi     seam     None      None   None  None  None   \n",
       "3501             ykk  regular     face     coil    zipper    end  open  dsyg   \n",
       "4414         gripper    elast   powder    skirt      None   None  None  None   \n",
       "\n",
       "                 8     9   ...    61    62    63    64    65    66    67  \\\n",
       "MATERIAL_ID                ...                                             \n",
       "525            side  None  ...  None  None  None  None  None  None  None   \n",
       "3053           None  None  ...  None  None  None  None  None  None  None   \n",
       "14491          None  None  ...  None  None  None  None  None  None  None   \n",
       "3501         slider   hem  ...  None  None  None  None  None  None  None   \n",
       "4414           None  None  ...  None  None  None  None  None  None  None   \n",
       "\n",
       "               68    69    70  \n",
       "MATERIAL_ID                    \n",
       "525          None  None  None  \n",
       "3053         None  None  None  \n",
       "14491        None  None  None  \n",
       "3501         None  None  None  \n",
       "4414         None  None  None  \n",
       "\n",
       "[5 rows x 71 columns]"
      ]
     },
     "execution_count": 3004,
     "metadata": {},
     "output_type": "execute_result"
    }
   ],
   "source": [
    "X_test.head()"
   ]
  },
  {
   "cell_type": "code",
   "execution_count": 3005,
   "metadata": {},
   "outputs": [
    {
     "data": {
      "text/plain": [
       "MATERIAL_ID\n",
       "525      0\n",
       "3053     0\n",
       "14491    0\n",
       "3501     0\n",
       "4414     0\n",
       "Name: label, dtype: int64"
      ]
     },
     "execution_count": 3005,
     "metadata": {},
     "output_type": "execute_result"
    }
   ],
   "source": [
    "y_test.head()"
   ]
  },
  {
   "cell_type": "code",
   "execution_count": 3006,
   "metadata": {},
   "outputs": [
    {
     "name": "stdout",
     "output_type": "stream",
     "text": [
      "CPU times: user 632 ms, sys: 5.54 ms, total: 638 ms\n",
      "Wall time: 643 ms\n"
     ]
    }
   ],
   "source": [
    "%%time\n",
    "sparse_test_df = make_sparse_matrix(X_test, word_index, y_test)"
   ]
  },
  {
   "cell_type": "code",
   "execution_count": 3007,
   "metadata": {},
   "outputs": [
    {
     "data": {
      "text/html": [
       "<div>\n",
       "<style scoped>\n",
       "    .dataframe tbody tr th:only-of-type {\n",
       "        vertical-align: middle;\n",
       "    }\n",
       "\n",
       "    .dataframe tbody tr th {\n",
       "        vertical-align: top;\n",
       "    }\n",
       "\n",
       "    .dataframe thead th {\n",
       "        text-align: right;\n",
       "    }\n",
       "</style>\n",
       "<table border=\"1\" class=\"dataframe\">\n",
       "  <thead>\n",
       "    <tr style=\"text-align: right;\">\n",
       "      <th></th>\n",
       "      <th>MATERIAL_ID</th>\n",
       "      <th>WORD_ID</th>\n",
       "      <th>LABEL</th>\n",
       "      <th>OCCURENCE</th>\n",
       "    </tr>\n",
       "  </thead>\n",
       "  <tbody>\n",
       "    <tr>\n",
       "      <td>0</td>\n",
       "      <td>0</td>\n",
       "      <td>3</td>\n",
       "      <td>0</td>\n",
       "      <td>1</td>\n",
       "    </tr>\n",
       "    <tr>\n",
       "      <td>1</td>\n",
       "      <td>0</td>\n",
       "      <td>7</td>\n",
       "      <td>0</td>\n",
       "      <td>1</td>\n",
       "    </tr>\n",
       "    <tr>\n",
       "      <td>2</td>\n",
       "      <td>0</td>\n",
       "      <td>8</td>\n",
       "      <td>0</td>\n",
       "      <td>1</td>\n",
       "    </tr>\n",
       "    <tr>\n",
       "      <td>3</td>\n",
       "      <td>0</td>\n",
       "      <td>10</td>\n",
       "      <td>0</td>\n",
       "      <td>2</td>\n",
       "    </tr>\n",
       "    <tr>\n",
       "      <td>4</td>\n",
       "      <td>0</td>\n",
       "      <td>14</td>\n",
       "      <td>0</td>\n",
       "      <td>3</td>\n",
       "    </tr>\n",
       "  </tbody>\n",
       "</table>\n",
       "</div>"
      ],
      "text/plain": [
       "   MATERIAL_ID  WORD_ID  LABEL  OCCURENCE\n",
       "0            0        3      0          1\n",
       "1            0        7      0          1\n",
       "2            0        8      0          1\n",
       "3            0       10      0          2\n",
       "4            0       14      0          3"
      ]
     },
     "execution_count": 3007,
     "metadata": {},
     "output_type": "execute_result"
    }
   ],
   "source": [
    "test_grouped = sparse_test_df.groupby(['MATERIAL_ID', 'WORD_ID', 'LABEL']).sum().reset_index()\n",
    "test_grouped.head()"
   ]
  },
  {
   "cell_type": "code",
   "execution_count": 3008,
   "metadata": {},
   "outputs": [],
   "source": [
    "np.savetxt('result/Trained Data/' + SUBJECT + '_sparse_test_data', test_grouped, fmt = '%d')"
   ]
  },
  {
   "cell_type": "markdown",
   "metadata": {},
   "source": [
    "# Full Matrix\n",
    "* Create anempty df first"
   ]
  },
  {
   "cell_type": "markdown",
   "metadata": {},
   "source": [
    "### Columns of Full Matrix\n",
    "* The empty df with column 'DOC_ID', in the case I use 'MATERIAL_ID'\n",
    "* Second column is 'CATEGORY'\n",
    "* The rest column is number from 0 to the number of words in vocabulary."
   ]
  },
  {
   "cell_type": "code",
   "execution_count": 3009,
   "metadata": {},
   "outputs": [],
   "source": [
    "column_names = ['MATERIAL_ID'] + ['CATEGORY'] + list(range(0, VOCAB_SIZE))"
   ]
  },
  {
   "cell_type": "markdown",
   "metadata": {},
   "source": [
    "### Rows of Full Matrix\n",
    "* If consists of Material_ID in Training Data\n",
    "* Numpy method np.unique() will take a number 1 time, even it occurs many time in the Traning Data.\n",
    "* Import the traning data we saved as txt"
   ]
  },
  {
   "cell_type": "code",
   "execution_count": 3010,
   "metadata": {},
   "outputs": [],
   "source": [
    "TRANING_DATA = 'result/Trained Data/' + SUBJECT + '_sparse_traning_data'"
   ]
  },
  {
   "cell_type": "markdown",
   "metadata": {},
   "source": [
    "* Open it by Numpy"
   ]
  },
  {
   "cell_type": "code",
   "execution_count": 3011,
   "metadata": {},
   "outputs": [],
   "source": [
    "sparse_train_data = np.loadtxt(TRANING_DATA, delimiter = ' ', dtype=int)"
   ]
  },
  {
   "cell_type": "code",
   "execution_count": 3012,
   "metadata": {
    "scrolled": true
   },
   "outputs": [],
   "source": [
    "index_names = np.unique(sparse_train_data[:, 0])"
   ]
  },
  {
   "cell_type": "markdown",
   "metadata": {},
   "source": [
    "### Form the Data Frame\n",
    "* Create an empty df, columned by column_names, indexed by index_names\n",
    "* Fullfill all the cell with value \"0\""
   ]
  },
  {
   "cell_type": "code",
   "execution_count": 3013,
   "metadata": {},
   "outputs": [
    {
     "data": {
      "text/plain": [
       "(13098, 902)"
      ]
     },
     "execution_count": 3013,
     "metadata": {},
     "output_type": "execute_result"
    }
   ],
   "source": [
    "full_train_data = pd.DataFrame(index= index_names, columns = column_names)\n",
    "full_train_data.fillna(value = 0, inplace = True)\n",
    "full_train_data.shape"
   ]
  },
  {
   "cell_type": "markdown",
   "metadata": {},
   "source": [
    "## Make a Full matrix function"
   ]
  },
  {
   "cell_type": "code",
   "execution_count": 3014,
   "metadata": {},
   "outputs": [],
   "source": [
    "def make_full_matrix(sparse_matrix, nr_words, doc_idx = 0, word_idx = 1, cat_idx = 2, freq_idx = 3):\n",
    "    column_names = ['MATERIAL_ID'] + ['CATEGORY'] + list(range(0, VOCAB_SIZE))\n",
    "    doc_id_names = np.unique(sparse_matrix[:,0])\n",
    "    full_matrix = pd.DataFrame(index = doc_id_names, columns = column_names)\n",
    "    full_matrix.fillna(value=0, inplace=True)\n",
    "    \n",
    "    for i in range(sparse_matrix.shape[0]):\n",
    "        doc_nr = sparse_matrix[i][doc_idx]\n",
    "        word_id = sparse_matrix[i][word_idx]\n",
    "        label = sparse_matrix[i][cat_idx]\n",
    "        occurrence = sparse_matrix[i][freq_idx]\n",
    "        \n",
    "        full_matrix.at[doc_nr, 'MATERIAL_ID'] = doc_nr\n",
    "        full_matrix.at[doc_nr, 'CATEGORY'] = label\n",
    "        full_matrix.at[doc_nr, word_id] = occurrence\n",
    "        \n",
    "    full_matrix.set_index('MATERIAL_ID', inplace = True)\n",
    "    return full_matrix"
   ]
  },
  {
   "cell_type": "code",
   "execution_count": 3015,
   "metadata": {},
   "outputs": [
    {
     "name": "stdout",
     "output_type": "stream",
     "text": [
      "CPU times: user 4.84 s, sys: 213 ms, total: 5.05 s\n",
      "Wall time: 4.93 s\n"
     ]
    }
   ],
   "source": [
    "%%time\n",
    "full_train_data = make_full_matrix(sparse_train_data, VOCAB_SIZE)"
   ]
  },
  {
   "cell_type": "code",
   "execution_count": 3016,
   "metadata": {},
   "outputs": [
    {
     "data": {
      "text/html": [
       "<div>\n",
       "<style scoped>\n",
       "    .dataframe tbody tr th:only-of-type {\n",
       "        vertical-align: middle;\n",
       "    }\n",
       "\n",
       "    .dataframe tbody tr th {\n",
       "        vertical-align: top;\n",
       "    }\n",
       "\n",
       "    .dataframe thead th {\n",
       "        text-align: right;\n",
       "    }\n",
       "</style>\n",
       "<table border=\"1\" class=\"dataframe\">\n",
       "  <thead>\n",
       "    <tr style=\"text-align: right;\">\n",
       "      <th></th>\n",
       "      <th>CATEGORY</th>\n",
       "      <th>0</th>\n",
       "      <th>1</th>\n",
       "      <th>2</th>\n",
       "      <th>3</th>\n",
       "      <th>4</th>\n",
       "      <th>5</th>\n",
       "      <th>6</th>\n",
       "      <th>7</th>\n",
       "      <th>8</th>\n",
       "      <th>...</th>\n",
       "      <th>890</th>\n",
       "      <th>891</th>\n",
       "      <th>892</th>\n",
       "      <th>893</th>\n",
       "      <th>894</th>\n",
       "      <th>895</th>\n",
       "      <th>896</th>\n",
       "      <th>897</th>\n",
       "      <th>898</th>\n",
       "      <th>899</th>\n",
       "    </tr>\n",
       "    <tr>\n",
       "      <th>MATERIAL_ID</th>\n",
       "      <th></th>\n",
       "      <th></th>\n",
       "      <th></th>\n",
       "      <th></th>\n",
       "      <th></th>\n",
       "      <th></th>\n",
       "      <th></th>\n",
       "      <th></th>\n",
       "      <th></th>\n",
       "      <th></th>\n",
       "      <th></th>\n",
       "      <th></th>\n",
       "      <th></th>\n",
       "      <th></th>\n",
       "      <th></th>\n",
       "      <th></th>\n",
       "      <th></th>\n",
       "      <th></th>\n",
       "      <th></th>\n",
       "      <th></th>\n",
       "      <th></th>\n",
       "    </tr>\n",
       "  </thead>\n",
       "  <tbody>\n",
       "    <tr>\n",
       "      <td>2</td>\n",
       "      <td>0</td>\n",
       "      <td>0</td>\n",
       "      <td>0</td>\n",
       "      <td>0</td>\n",
       "      <td>0</td>\n",
       "      <td>0</td>\n",
       "      <td>0</td>\n",
       "      <td>0</td>\n",
       "      <td>0</td>\n",
       "      <td>0</td>\n",
       "      <td>...</td>\n",
       "      <td>0</td>\n",
       "      <td>0</td>\n",
       "      <td>0</td>\n",
       "      <td>0</td>\n",
       "      <td>0</td>\n",
       "      <td>0</td>\n",
       "      <td>0</td>\n",
       "      <td>0</td>\n",
       "      <td>0</td>\n",
       "      <td>0</td>\n",
       "    </tr>\n",
       "    <tr>\n",
       "      <td>4</td>\n",
       "      <td>0</td>\n",
       "      <td>1</td>\n",
       "      <td>0</td>\n",
       "      <td>0</td>\n",
       "      <td>0</td>\n",
       "      <td>0</td>\n",
       "      <td>0</td>\n",
       "      <td>0</td>\n",
       "      <td>0</td>\n",
       "      <td>1</td>\n",
       "      <td>...</td>\n",
       "      <td>0</td>\n",
       "      <td>0</td>\n",
       "      <td>0</td>\n",
       "      <td>0</td>\n",
       "      <td>0</td>\n",
       "      <td>0</td>\n",
       "      <td>0</td>\n",
       "      <td>0</td>\n",
       "      <td>0</td>\n",
       "      <td>0</td>\n",
       "    </tr>\n",
       "    <tr>\n",
       "      <td>5</td>\n",
       "      <td>0</td>\n",
       "      <td>0</td>\n",
       "      <td>0</td>\n",
       "      <td>0</td>\n",
       "      <td>0</td>\n",
       "      <td>0</td>\n",
       "      <td>0</td>\n",
       "      <td>0</td>\n",
       "      <td>0</td>\n",
       "      <td>0</td>\n",
       "      <td>...</td>\n",
       "      <td>0</td>\n",
       "      <td>0</td>\n",
       "      <td>0</td>\n",
       "      <td>0</td>\n",
       "      <td>0</td>\n",
       "      <td>0</td>\n",
       "      <td>0</td>\n",
       "      <td>0</td>\n",
       "      <td>0</td>\n",
       "      <td>0</td>\n",
       "    </tr>\n",
       "    <tr>\n",
       "      <td>6</td>\n",
       "      <td>0</td>\n",
       "      <td>0</td>\n",
       "      <td>1</td>\n",
       "      <td>0</td>\n",
       "      <td>0</td>\n",
       "      <td>0</td>\n",
       "      <td>0</td>\n",
       "      <td>0</td>\n",
       "      <td>0</td>\n",
       "      <td>0</td>\n",
       "      <td>...</td>\n",
       "      <td>0</td>\n",
       "      <td>0</td>\n",
       "      <td>0</td>\n",
       "      <td>0</td>\n",
       "      <td>0</td>\n",
       "      <td>0</td>\n",
       "      <td>0</td>\n",
       "      <td>0</td>\n",
       "      <td>0</td>\n",
       "      <td>0</td>\n",
       "    </tr>\n",
       "    <tr>\n",
       "      <td>7</td>\n",
       "      <td>0</td>\n",
       "      <td>1</td>\n",
       "      <td>1</td>\n",
       "      <td>0</td>\n",
       "      <td>0</td>\n",
       "      <td>0</td>\n",
       "      <td>0</td>\n",
       "      <td>0</td>\n",
       "      <td>0</td>\n",
       "      <td>1</td>\n",
       "      <td>...</td>\n",
       "      <td>0</td>\n",
       "      <td>0</td>\n",
       "      <td>0</td>\n",
       "      <td>0</td>\n",
       "      <td>0</td>\n",
       "      <td>0</td>\n",
       "      <td>0</td>\n",
       "      <td>0</td>\n",
       "      <td>0</td>\n",
       "      <td>0</td>\n",
       "    </tr>\n",
       "    <tr>\n",
       "      <td>...</td>\n",
       "      <td>...</td>\n",
       "      <td>...</td>\n",
       "      <td>...</td>\n",
       "      <td>...</td>\n",
       "      <td>...</td>\n",
       "      <td>...</td>\n",
       "      <td>...</td>\n",
       "      <td>...</td>\n",
       "      <td>...</td>\n",
       "      <td>...</td>\n",
       "      <td>...</td>\n",
       "      <td>...</td>\n",
       "      <td>...</td>\n",
       "      <td>...</td>\n",
       "      <td>...</td>\n",
       "      <td>...</td>\n",
       "      <td>...</td>\n",
       "      <td>...</td>\n",
       "      <td>...</td>\n",
       "      <td>...</td>\n",
       "      <td>...</td>\n",
       "    </tr>\n",
       "    <tr>\n",
       "      <td>14583</td>\n",
       "      <td>0</td>\n",
       "      <td>0</td>\n",
       "      <td>0</td>\n",
       "      <td>0</td>\n",
       "      <td>0</td>\n",
       "      <td>0</td>\n",
       "      <td>0</td>\n",
       "      <td>0</td>\n",
       "      <td>0</td>\n",
       "      <td>0</td>\n",
       "      <td>...</td>\n",
       "      <td>0</td>\n",
       "      <td>0</td>\n",
       "      <td>0</td>\n",
       "      <td>0</td>\n",
       "      <td>0</td>\n",
       "      <td>0</td>\n",
       "      <td>0</td>\n",
       "      <td>0</td>\n",
       "      <td>0</td>\n",
       "      <td>0</td>\n",
       "    </tr>\n",
       "    <tr>\n",
       "      <td>14584</td>\n",
       "      <td>0</td>\n",
       "      <td>0</td>\n",
       "      <td>0</td>\n",
       "      <td>0</td>\n",
       "      <td>0</td>\n",
       "      <td>0</td>\n",
       "      <td>0</td>\n",
       "      <td>0</td>\n",
       "      <td>0</td>\n",
       "      <td>0</td>\n",
       "      <td>...</td>\n",
       "      <td>0</td>\n",
       "      <td>0</td>\n",
       "      <td>0</td>\n",
       "      <td>0</td>\n",
       "      <td>0</td>\n",
       "      <td>0</td>\n",
       "      <td>0</td>\n",
       "      <td>0</td>\n",
       "      <td>0</td>\n",
       "      <td>0</td>\n",
       "    </tr>\n",
       "    <tr>\n",
       "      <td>14585</td>\n",
       "      <td>0</td>\n",
       "      <td>0</td>\n",
       "      <td>0</td>\n",
       "      <td>0</td>\n",
       "      <td>0</td>\n",
       "      <td>0</td>\n",
       "      <td>0</td>\n",
       "      <td>0</td>\n",
       "      <td>0</td>\n",
       "      <td>0</td>\n",
       "      <td>...</td>\n",
       "      <td>0</td>\n",
       "      <td>0</td>\n",
       "      <td>0</td>\n",
       "      <td>0</td>\n",
       "      <td>0</td>\n",
       "      <td>0</td>\n",
       "      <td>0</td>\n",
       "      <td>0</td>\n",
       "      <td>0</td>\n",
       "      <td>0</td>\n",
       "    </tr>\n",
       "    <tr>\n",
       "      <td>14586</td>\n",
       "      <td>0</td>\n",
       "      <td>0</td>\n",
       "      <td>0</td>\n",
       "      <td>0</td>\n",
       "      <td>0</td>\n",
       "      <td>0</td>\n",
       "      <td>0</td>\n",
       "      <td>0</td>\n",
       "      <td>0</td>\n",
       "      <td>0</td>\n",
       "      <td>...</td>\n",
       "      <td>0</td>\n",
       "      <td>0</td>\n",
       "      <td>0</td>\n",
       "      <td>0</td>\n",
       "      <td>0</td>\n",
       "      <td>0</td>\n",
       "      <td>0</td>\n",
       "      <td>0</td>\n",
       "      <td>0</td>\n",
       "      <td>0</td>\n",
       "    </tr>\n",
       "    <tr>\n",
       "      <td>14587</td>\n",
       "      <td>0</td>\n",
       "      <td>0</td>\n",
       "      <td>0</td>\n",
       "      <td>0</td>\n",
       "      <td>1</td>\n",
       "      <td>0</td>\n",
       "      <td>0</td>\n",
       "      <td>0</td>\n",
       "      <td>0</td>\n",
       "      <td>0</td>\n",
       "      <td>...</td>\n",
       "      <td>0</td>\n",
       "      <td>0</td>\n",
       "      <td>0</td>\n",
       "      <td>0</td>\n",
       "      <td>0</td>\n",
       "      <td>0</td>\n",
       "      <td>0</td>\n",
       "      <td>0</td>\n",
       "      <td>0</td>\n",
       "      <td>0</td>\n",
       "    </tr>\n",
       "  </tbody>\n",
       "</table>\n",
       "<p>13098 rows × 901 columns</p>\n",
       "</div>"
      ],
      "text/plain": [
       "             CATEGORY  0  1  2  3  4  5  6  7  8  ...  890  891  892  893  \\\n",
       "MATERIAL_ID                                       ...                       \n",
       "2                   0  0  0  0  0  0  0  0  0  0  ...    0    0    0    0   \n",
       "4                   0  1  0  0  0  0  0  0  0  1  ...    0    0    0    0   \n",
       "5                   0  0  0  0  0  0  0  0  0  0  ...    0    0    0    0   \n",
       "6                   0  0  1  0  0  0  0  0  0  0  ...    0    0    0    0   \n",
       "7                   0  1  1  0  0  0  0  0  0  1  ...    0    0    0    0   \n",
       "...               ... .. .. .. .. .. .. .. .. ..  ...  ...  ...  ...  ...   \n",
       "14583               0  0  0  0  0  0  0  0  0  0  ...    0    0    0    0   \n",
       "14584               0  0  0  0  0  0  0  0  0  0  ...    0    0    0    0   \n",
       "14585               0  0  0  0  0  0  0  0  0  0  ...    0    0    0    0   \n",
       "14586               0  0  0  0  0  0  0  0  0  0  ...    0    0    0    0   \n",
       "14587               0  0  0  0  1  0  0  0  0  0  ...    0    0    0    0   \n",
       "\n",
       "             894  895  896  897  898  899  \n",
       "MATERIAL_ID                                \n",
       "2              0    0    0    0    0    0  \n",
       "4              0    0    0    0    0    0  \n",
       "5              0    0    0    0    0    0  \n",
       "6              0    0    0    0    0    0  \n",
       "7              0    0    0    0    0    0  \n",
       "...          ...  ...  ...  ...  ...  ...  \n",
       "14583          0    0    0    0    0    0  \n",
       "14584          0    0    0    0    0    0  \n",
       "14585          0    0    0    0    0    0  \n",
       "14586          0    0    0    0    0    0  \n",
       "14587          0    0    0    0    0    0  \n",
       "\n",
       "[13098 rows x 901 columns]"
      ]
     },
     "execution_count": 3016,
     "metadata": {},
     "output_type": "execute_result"
    }
   ],
   "source": [
    "full_train_data"
   ]
  },
  {
   "cell_type": "markdown",
   "metadata": {},
   "source": [
    "# Probability of Category_1 in train_data"
   ]
  },
  {
   "cell_type": "code",
   "execution_count": 3017,
   "metadata": {},
   "outputs": [
    {
     "data": {
      "text/plain": [
       "13098"
      ]
     },
     "execution_count": 3017,
     "metadata": {},
     "output_type": "execute_result"
    }
   ],
   "source": [
    "full_train_data.CATEGORY.size"
   ]
  },
  {
   "cell_type": "code",
   "execution_count": 3018,
   "metadata": {},
   "outputs": [
    {
     "data": {
      "text/plain": [
       "981"
      ]
     },
     "execution_count": 3018,
     "metadata": {},
     "output_type": "execute_result"
    }
   ],
   "source": [
    "full_train_data.CATEGORY.sum()"
   ]
  },
  {
   "cell_type": "code",
   "execution_count": 3019,
   "metadata": {
    "scrolled": false
   },
   "outputs": [
    {
     "name": "stdout",
     "output_type": "stream",
     "text": [
      "Probability  of label is 0.07489693082913422\n"
     ]
    }
   ],
   "source": [
    "prob_ctg_1 = full_train_data.CATEGORY.sum() / full_train_data.CATEGORY.size\n",
    "print('Probability  of ' + SUBJECT +' is', prob_ctg_1)"
   ]
  },
  {
   "cell_type": "code",
   "execution_count": 3020,
   "metadata": {},
   "outputs": [
    {
     "data": {
      "text/plain": [
       "0.07489693082913422"
      ]
     },
     "execution_count": 3020,
     "metadata": {},
     "output_type": "execute_result"
    }
   ],
   "source": [
    "prob_ctg_1"
   ]
  },
  {
   "cell_type": "code",
   "execution_count": 3021,
   "metadata": {},
   "outputs": [],
   "source": [
    "prob_ctg_1_in_train_data = pd.DataFrame({'prob_ctg_1_train_set':[prob_ctg_1]})"
   ]
  },
  {
   "cell_type": "code",
   "execution_count": 3022,
   "metadata": {},
   "outputs": [],
   "source": [
    "prob_ctg_1_in_train_data.to_csv('result/Trained Data/Train_set/' + SUBJECT + '_prob_ctg_1_in_train_data')"
   ]
  },
  {
   "cell_type": "markdown",
   "metadata": {},
   "source": [
    "# Count each material in train_data have how many tokens\n",
    "## Full train Features\n",
    "* It is very simple. The whole df of train_data without the column 'CATEGORY' is the Full train Features\n",
    "* Create a new df with no column 'CATEGORY'"
   ]
  },
  {
   "cell_type": "code",
   "execution_count": 3023,
   "metadata": {},
   "outputs": [],
   "source": [
    "full_train_features = full_train_data.loc[:, full_train_data.columns != 'CATEGORY']"
   ]
  },
  {
   "cell_type": "code",
   "execution_count": 3024,
   "metadata": {
    "scrolled": false
   },
   "outputs": [
    {
     "data": {
      "text/html": [
       "<div>\n",
       "<style scoped>\n",
       "    .dataframe tbody tr th:only-of-type {\n",
       "        vertical-align: middle;\n",
       "    }\n",
       "\n",
       "    .dataframe tbody tr th {\n",
       "        vertical-align: top;\n",
       "    }\n",
       "\n",
       "    .dataframe thead th {\n",
       "        text-align: right;\n",
       "    }\n",
       "</style>\n",
       "<table border=\"1\" class=\"dataframe\">\n",
       "  <thead>\n",
       "    <tr style=\"text-align: right;\">\n",
       "      <th></th>\n",
       "      <th>0</th>\n",
       "      <th>1</th>\n",
       "      <th>2</th>\n",
       "      <th>3</th>\n",
       "      <th>4</th>\n",
       "      <th>5</th>\n",
       "      <th>6</th>\n",
       "      <th>7</th>\n",
       "      <th>8</th>\n",
       "      <th>9</th>\n",
       "      <th>...</th>\n",
       "      <th>890</th>\n",
       "      <th>891</th>\n",
       "      <th>892</th>\n",
       "      <th>893</th>\n",
       "      <th>894</th>\n",
       "      <th>895</th>\n",
       "      <th>896</th>\n",
       "      <th>897</th>\n",
       "      <th>898</th>\n",
       "      <th>899</th>\n",
       "    </tr>\n",
       "    <tr>\n",
       "      <th>MATERIAL_ID</th>\n",
       "      <th></th>\n",
       "      <th></th>\n",
       "      <th></th>\n",
       "      <th></th>\n",
       "      <th></th>\n",
       "      <th></th>\n",
       "      <th></th>\n",
       "      <th></th>\n",
       "      <th></th>\n",
       "      <th></th>\n",
       "      <th></th>\n",
       "      <th></th>\n",
       "      <th></th>\n",
       "      <th></th>\n",
       "      <th></th>\n",
       "      <th></th>\n",
       "      <th></th>\n",
       "      <th></th>\n",
       "      <th></th>\n",
       "      <th></th>\n",
       "      <th></th>\n",
       "    </tr>\n",
       "  </thead>\n",
       "  <tbody>\n",
       "    <tr>\n",
       "      <td>2</td>\n",
       "      <td>0</td>\n",
       "      <td>0</td>\n",
       "      <td>0</td>\n",
       "      <td>0</td>\n",
       "      <td>0</td>\n",
       "      <td>0</td>\n",
       "      <td>0</td>\n",
       "      <td>0</td>\n",
       "      <td>0</td>\n",
       "      <td>0</td>\n",
       "      <td>...</td>\n",
       "      <td>0</td>\n",
       "      <td>0</td>\n",
       "      <td>0</td>\n",
       "      <td>0</td>\n",
       "      <td>0</td>\n",
       "      <td>0</td>\n",
       "      <td>0</td>\n",
       "      <td>0</td>\n",
       "      <td>0</td>\n",
       "      <td>0</td>\n",
       "    </tr>\n",
       "    <tr>\n",
       "      <td>4</td>\n",
       "      <td>1</td>\n",
       "      <td>0</td>\n",
       "      <td>0</td>\n",
       "      <td>0</td>\n",
       "      <td>0</td>\n",
       "      <td>0</td>\n",
       "      <td>0</td>\n",
       "      <td>0</td>\n",
       "      <td>1</td>\n",
       "      <td>0</td>\n",
       "      <td>...</td>\n",
       "      <td>0</td>\n",
       "      <td>0</td>\n",
       "      <td>0</td>\n",
       "      <td>0</td>\n",
       "      <td>0</td>\n",
       "      <td>0</td>\n",
       "      <td>0</td>\n",
       "      <td>0</td>\n",
       "      <td>0</td>\n",
       "      <td>0</td>\n",
       "    </tr>\n",
       "    <tr>\n",
       "      <td>5</td>\n",
       "      <td>0</td>\n",
       "      <td>0</td>\n",
       "      <td>0</td>\n",
       "      <td>0</td>\n",
       "      <td>0</td>\n",
       "      <td>0</td>\n",
       "      <td>0</td>\n",
       "      <td>0</td>\n",
       "      <td>0</td>\n",
       "      <td>0</td>\n",
       "      <td>...</td>\n",
       "      <td>0</td>\n",
       "      <td>0</td>\n",
       "      <td>0</td>\n",
       "      <td>0</td>\n",
       "      <td>0</td>\n",
       "      <td>0</td>\n",
       "      <td>0</td>\n",
       "      <td>0</td>\n",
       "      <td>0</td>\n",
       "      <td>0</td>\n",
       "    </tr>\n",
       "    <tr>\n",
       "      <td>6</td>\n",
       "      <td>0</td>\n",
       "      <td>1</td>\n",
       "      <td>0</td>\n",
       "      <td>0</td>\n",
       "      <td>0</td>\n",
       "      <td>0</td>\n",
       "      <td>0</td>\n",
       "      <td>0</td>\n",
       "      <td>0</td>\n",
       "      <td>1</td>\n",
       "      <td>...</td>\n",
       "      <td>0</td>\n",
       "      <td>0</td>\n",
       "      <td>0</td>\n",
       "      <td>0</td>\n",
       "      <td>0</td>\n",
       "      <td>0</td>\n",
       "      <td>0</td>\n",
       "      <td>0</td>\n",
       "      <td>0</td>\n",
       "      <td>0</td>\n",
       "    </tr>\n",
       "    <tr>\n",
       "      <td>7</td>\n",
       "      <td>1</td>\n",
       "      <td>1</td>\n",
       "      <td>0</td>\n",
       "      <td>0</td>\n",
       "      <td>0</td>\n",
       "      <td>0</td>\n",
       "      <td>0</td>\n",
       "      <td>0</td>\n",
       "      <td>1</td>\n",
       "      <td>0</td>\n",
       "      <td>...</td>\n",
       "      <td>0</td>\n",
       "      <td>0</td>\n",
       "      <td>0</td>\n",
       "      <td>0</td>\n",
       "      <td>0</td>\n",
       "      <td>0</td>\n",
       "      <td>0</td>\n",
       "      <td>0</td>\n",
       "      <td>0</td>\n",
       "      <td>0</td>\n",
       "    </tr>\n",
       "  </tbody>\n",
       "</table>\n",
       "<p>5 rows × 900 columns</p>\n",
       "</div>"
      ],
      "text/plain": [
       "             0    1    2    3    4    5    6    7    8    9    ...  890  891  \\\n",
       "MATERIAL_ID                                                    ...             \n",
       "2              0    0    0    0    0    0    0    0    0    0  ...    0    0   \n",
       "4              1    0    0    0    0    0    0    0    1    0  ...    0    0   \n",
       "5              0    0    0    0    0    0    0    0    0    0  ...    0    0   \n",
       "6              0    1    0    0    0    0    0    0    0    1  ...    0    0   \n",
       "7              1    1    0    0    0    0    0    0    1    0  ...    0    0   \n",
       "\n",
       "             892  893  894  895  896  897  898  899  \n",
       "MATERIAL_ID                                          \n",
       "2              0    0    0    0    0    0    0    0  \n",
       "4              0    0    0    0    0    0    0    0  \n",
       "5              0    0    0    0    0    0    0    0  \n",
       "6              0    0    0    0    0    0    0    0  \n",
       "7              0    0    0    0    0    0    0    0  \n",
       "\n",
       "[5 rows x 900 columns]"
      ]
     },
     "execution_count": 3024,
     "metadata": {},
     "output_type": "execute_result"
    }
   ],
   "source": [
    "full_train_features.head()"
   ]
  },
  {
   "cell_type": "code",
   "execution_count": 3025,
   "metadata": {},
   "outputs": [],
   "source": [
    "# full_train_features[1249].sum()"
   ]
  },
  {
   "cell_type": "markdown",
   "metadata": {},
   "source": [
    "### Number of tokens each material has in train_data\n",
    "* We added up all values in row direction, to get sum of each row "
   ]
  },
  {
   "cell_type": "code",
   "execution_count": 3026,
   "metadata": {
    "scrolled": false
   },
   "outputs": [
    {
     "data": {
      "text/plain": [
       "(13098,)"
      ]
     },
     "execution_count": 3026,
     "metadata": {},
     "output_type": "execute_result"
    }
   ],
   "source": [
    "material_train_data = full_train_features.sum(axis = 1) \n",
    "material_train_data.shape # Show how many materials in train_data"
   ]
  },
  {
   "cell_type": "code",
   "execution_count": 3027,
   "metadata": {},
   "outputs": [
    {
     "data": {
      "text/plain": [
       "MATERIAL_ID\n",
       "2         4\n",
       "4         5\n",
       "5         5\n",
       "6        10\n",
       "7         8\n",
       "         ..\n",
       "14583     2\n",
       "14584     1\n",
       "14585     1\n",
       "14586     1\n",
       "14587     2\n",
       "Length: 13098, dtype: int64"
      ]
     },
     "execution_count": 3027,
     "metadata": {},
     "output_type": "execute_result"
    }
   ],
   "source": [
    "material_train_data # Show how many words each material in train_data has"
   ]
  },
  {
   "cell_type": "markdown",
   "metadata": {},
   "source": [
    "* Total number of words in train_data"
   ]
  },
  {
   "cell_type": "code",
   "execution_count": 3028,
   "metadata": {},
   "outputs": [
    {
     "data": {
      "text/plain": [
       "80804"
      ]
     },
     "execution_count": 3028,
     "metadata": {},
     "output_type": "execute_result"
    }
   ],
   "source": [
    "total_words_train_data = material_train_data.sum()\n",
    "total_words_train_data"
   ]
  },
  {
   "cell_type": "markdown",
   "metadata": {},
   "source": [
    "#### Token of ctg_1 in train_data\n",
    "* Number of particular words of category 1, in train_data\n",
    "* The word can be called \"token\""
   ]
  },
  {
   "cell_type": "code",
   "execution_count": 3029,
   "metadata": {},
   "outputs": [
    {
     "data": {
      "text/plain": [
       "(981,)"
      ]
     },
     "execution_count": 3029,
     "metadata": {},
     "output_type": "execute_result"
    }
   ],
   "source": [
    "ctg_1_in_train_data = material_train_data[full_train_data.CATEGORY == 1]\n",
    "ctg_1_in_train_data.shape\n",
    "# 1379 materials in train_data is fabric"
   ]
  },
  {
   "cell_type": "code",
   "execution_count": 3030,
   "metadata": {},
   "outputs": [
    {
     "data": {
      "text/plain": [
       "7590"
      ]
     },
     "execution_count": 3030,
     "metadata": {},
     "output_type": "execute_result"
    }
   ],
   "source": [
    "ctg_1_token_in_train_data = ctg_1_in_train_data.sum()\n",
    "ctg_1_token_in_train_data\n",
    "# The total words in Category 1, the fabric, in the train_data"
   ]
  },
  {
   "cell_type": "markdown",
   "metadata": {},
   "source": [
    "#### Token of trim in train_data\n",
    "* Number of particular words of category 0, the trim, in train_data"
   ]
  },
  {
   "cell_type": "code",
   "execution_count": 3031,
   "metadata": {},
   "outputs": [
    {
     "data": {
      "text/plain": [
       "(12117,)"
      ]
     },
     "execution_count": 3031,
     "metadata": {},
     "output_type": "execute_result"
    }
   ],
   "source": [
    "ctg_0_in_train_data = material_train_data[full_train_data.CATEGORY == 0]\n",
    "ctg_0_in_train_data.shape \n",
    "# Total, 5026 materials in train_data is trim"
   ]
  },
  {
   "cell_type": "code",
   "execution_count": 3032,
   "metadata": {},
   "outputs": [
    {
     "data": {
      "text/plain": [
       "73214"
      ]
     },
     "execution_count": 3032,
     "metadata": {},
     "output_type": "execute_result"
    }
   ],
   "source": [
    "ctg_0_token_in_train_data = ctg_0_in_train_data.sum()\n",
    "ctg_0_token_in_train_data \n",
    "# Total words in Category 0, the trim, in the train_data"
   ]
  },
  {
   "cell_type": "markdown",
   "metadata": {},
   "source": [
    "### Average number of words in fabric and trim\n",
    "* In this case, CATEGORY 1 is fabric, 0 is trim"
   ]
  },
  {
   "cell_type": "code",
   "execution_count": 3033,
   "metadata": {},
   "outputs": [
    {
     "name": "stdout",
     "output_type": "stream",
     "text": [
      "Average nr of words in ctg_1 8\n",
      "Average nr of words in ctg_0 6\n"
     ]
    }
   ],
   "source": [
    "print('Average nr of words in ctg_1 {:.0f}'.format(ctg_1_token_in_train_data / ctg_1_in_train_data.shape[0]))\n",
    "print('Average nr of words in ctg_0 {:.0f}'.format(ctg_0_token_in_train_data / ctg_0_in_train_data.shape[0]))"
   ]
  },
  {
   "cell_type": "code",
   "execution_count": 3034,
   "metadata": {},
   "outputs": [
    {
     "data": {
      "text/plain": [
       "0"
      ]
     },
     "execution_count": 3034,
     "metadata": {},
     "output_type": "execute_result"
    }
   ],
   "source": [
    "# The snippet is for testing if the calculating get problem.\n",
    "# The answer should eaquls to 0\n",
    "material_train_data.shape[0] - ctg_1_in_train_data.shape[0] - ctg_0_in_train_data.shape[0]"
   ]
  },
  {
   "cell_type": "markdown",
   "metadata": {},
   "source": [
    "# Count each token's frequency in both Category\n",
    "## Full train Features of ctg_1\n",
    "* It is very simple. The df of train_data in 'CATEGORY'1, and without the column 'CATEGORY' is the Full train Features of Fabric"
   ]
  },
  {
   "cell_type": "code",
   "execution_count": 3035,
   "metadata": {},
   "outputs": [],
   "source": [
    "ctg_1_full_train_features = full_train_features.loc[full_train_data.CATEGORY == 1]"
   ]
  },
  {
   "cell_type": "code",
   "execution_count": 3036,
   "metadata": {},
   "outputs": [
    {
     "data": {
      "text/html": [
       "<div>\n",
       "<style scoped>\n",
       "    .dataframe tbody tr th:only-of-type {\n",
       "        vertical-align: middle;\n",
       "    }\n",
       "\n",
       "    .dataframe tbody tr th {\n",
       "        vertical-align: top;\n",
       "    }\n",
       "\n",
       "    .dataframe thead th {\n",
       "        text-align: right;\n",
       "    }\n",
       "</style>\n",
       "<table border=\"1\" class=\"dataframe\">\n",
       "  <thead>\n",
       "    <tr style=\"text-align: right;\">\n",
       "      <th></th>\n",
       "      <th>0</th>\n",
       "      <th>1</th>\n",
       "      <th>2</th>\n",
       "      <th>3</th>\n",
       "      <th>4</th>\n",
       "      <th>5</th>\n",
       "      <th>6</th>\n",
       "      <th>7</th>\n",
       "      <th>8</th>\n",
       "      <th>9</th>\n",
       "      <th>...</th>\n",
       "      <th>890</th>\n",
       "      <th>891</th>\n",
       "      <th>892</th>\n",
       "      <th>893</th>\n",
       "      <th>894</th>\n",
       "      <th>895</th>\n",
       "      <th>896</th>\n",
       "      <th>897</th>\n",
       "      <th>898</th>\n",
       "      <th>899</th>\n",
       "    </tr>\n",
       "    <tr>\n",
       "      <th>MATERIAL_ID</th>\n",
       "      <th></th>\n",
       "      <th></th>\n",
       "      <th></th>\n",
       "      <th></th>\n",
       "      <th></th>\n",
       "      <th></th>\n",
       "      <th></th>\n",
       "      <th></th>\n",
       "      <th></th>\n",
       "      <th></th>\n",
       "      <th></th>\n",
       "      <th></th>\n",
       "      <th></th>\n",
       "      <th></th>\n",
       "      <th></th>\n",
       "      <th></th>\n",
       "      <th></th>\n",
       "      <th></th>\n",
       "      <th></th>\n",
       "      <th></th>\n",
       "      <th></th>\n",
       "    </tr>\n",
       "  </thead>\n",
       "  <tbody>\n",
       "    <tr>\n",
       "      <td>20</td>\n",
       "      <td>0</td>\n",
       "      <td>0</td>\n",
       "      <td>1</td>\n",
       "      <td>1</td>\n",
       "      <td>0</td>\n",
       "      <td>0</td>\n",
       "      <td>0</td>\n",
       "      <td>0</td>\n",
       "      <td>0</td>\n",
       "      <td>1</td>\n",
       "      <td>...</td>\n",
       "      <td>0</td>\n",
       "      <td>0</td>\n",
       "      <td>0</td>\n",
       "      <td>0</td>\n",
       "      <td>0</td>\n",
       "      <td>0</td>\n",
       "      <td>0</td>\n",
       "      <td>0</td>\n",
       "      <td>0</td>\n",
       "      <td>0</td>\n",
       "    </tr>\n",
       "    <tr>\n",
       "      <td>21</td>\n",
       "      <td>0</td>\n",
       "      <td>0</td>\n",
       "      <td>1</td>\n",
       "      <td>1</td>\n",
       "      <td>0</td>\n",
       "      <td>0</td>\n",
       "      <td>0</td>\n",
       "      <td>0</td>\n",
       "      <td>0</td>\n",
       "      <td>1</td>\n",
       "      <td>...</td>\n",
       "      <td>0</td>\n",
       "      <td>0</td>\n",
       "      <td>0</td>\n",
       "      <td>0</td>\n",
       "      <td>0</td>\n",
       "      <td>0</td>\n",
       "      <td>0</td>\n",
       "      <td>0</td>\n",
       "      <td>0</td>\n",
       "      <td>0</td>\n",
       "    </tr>\n",
       "    <tr>\n",
       "      <td>22</td>\n",
       "      <td>0</td>\n",
       "      <td>0</td>\n",
       "      <td>1</td>\n",
       "      <td>1</td>\n",
       "      <td>0</td>\n",
       "      <td>0</td>\n",
       "      <td>0</td>\n",
       "      <td>0</td>\n",
       "      <td>0</td>\n",
       "      <td>1</td>\n",
       "      <td>...</td>\n",
       "      <td>0</td>\n",
       "      <td>0</td>\n",
       "      <td>0</td>\n",
       "      <td>0</td>\n",
       "      <td>0</td>\n",
       "      <td>0</td>\n",
       "      <td>0</td>\n",
       "      <td>0</td>\n",
       "      <td>0</td>\n",
       "      <td>0</td>\n",
       "    </tr>\n",
       "    <tr>\n",
       "      <td>41</td>\n",
       "      <td>0</td>\n",
       "      <td>0</td>\n",
       "      <td>1</td>\n",
       "      <td>0</td>\n",
       "      <td>0</td>\n",
       "      <td>0</td>\n",
       "      <td>0</td>\n",
       "      <td>0</td>\n",
       "      <td>0</td>\n",
       "      <td>0</td>\n",
       "      <td>...</td>\n",
       "      <td>0</td>\n",
       "      <td>0</td>\n",
       "      <td>0</td>\n",
       "      <td>0</td>\n",
       "      <td>0</td>\n",
       "      <td>0</td>\n",
       "      <td>0</td>\n",
       "      <td>0</td>\n",
       "      <td>0</td>\n",
       "      <td>0</td>\n",
       "    </tr>\n",
       "    <tr>\n",
       "      <td>43</td>\n",
       "      <td>0</td>\n",
       "      <td>0</td>\n",
       "      <td>1</td>\n",
       "      <td>1</td>\n",
       "      <td>0</td>\n",
       "      <td>0</td>\n",
       "      <td>0</td>\n",
       "      <td>0</td>\n",
       "      <td>0</td>\n",
       "      <td>1</td>\n",
       "      <td>...</td>\n",
       "      <td>0</td>\n",
       "      <td>0</td>\n",
       "      <td>0</td>\n",
       "      <td>0</td>\n",
       "      <td>0</td>\n",
       "      <td>0</td>\n",
       "      <td>0</td>\n",
       "      <td>0</td>\n",
       "      <td>0</td>\n",
       "      <td>0</td>\n",
       "    </tr>\n",
       "    <tr>\n",
       "      <td>...</td>\n",
       "      <td>...</td>\n",
       "      <td>...</td>\n",
       "      <td>...</td>\n",
       "      <td>...</td>\n",
       "      <td>...</td>\n",
       "      <td>...</td>\n",
       "      <td>...</td>\n",
       "      <td>...</td>\n",
       "      <td>...</td>\n",
       "      <td>...</td>\n",
       "      <td>...</td>\n",
       "      <td>...</td>\n",
       "      <td>...</td>\n",
       "      <td>...</td>\n",
       "      <td>...</td>\n",
       "      <td>...</td>\n",
       "      <td>...</td>\n",
       "      <td>...</td>\n",
       "      <td>...</td>\n",
       "      <td>...</td>\n",
       "      <td>...</td>\n",
       "    </tr>\n",
       "    <tr>\n",
       "      <td>14438</td>\n",
       "      <td>0</td>\n",
       "      <td>0</td>\n",
       "      <td>3</td>\n",
       "      <td>0</td>\n",
       "      <td>0</td>\n",
       "      <td>0</td>\n",
       "      <td>0</td>\n",
       "      <td>0</td>\n",
       "      <td>1</td>\n",
       "      <td>0</td>\n",
       "      <td>...</td>\n",
       "      <td>0</td>\n",
       "      <td>0</td>\n",
       "      <td>0</td>\n",
       "      <td>0</td>\n",
       "      <td>0</td>\n",
       "      <td>0</td>\n",
       "      <td>0</td>\n",
       "      <td>0</td>\n",
       "      <td>0</td>\n",
       "      <td>0</td>\n",
       "    </tr>\n",
       "    <tr>\n",
       "      <td>14447</td>\n",
       "      <td>0</td>\n",
       "      <td>0</td>\n",
       "      <td>3</td>\n",
       "      <td>0</td>\n",
       "      <td>0</td>\n",
       "      <td>0</td>\n",
       "      <td>0</td>\n",
       "      <td>0</td>\n",
       "      <td>1</td>\n",
       "      <td>0</td>\n",
       "      <td>...</td>\n",
       "      <td>0</td>\n",
       "      <td>0</td>\n",
       "      <td>0</td>\n",
       "      <td>0</td>\n",
       "      <td>0</td>\n",
       "      <td>0</td>\n",
       "      <td>0</td>\n",
       "      <td>0</td>\n",
       "      <td>0</td>\n",
       "      <td>0</td>\n",
       "    </tr>\n",
       "    <tr>\n",
       "      <td>14452</td>\n",
       "      <td>0</td>\n",
       "      <td>0</td>\n",
       "      <td>3</td>\n",
       "      <td>0</td>\n",
       "      <td>0</td>\n",
       "      <td>0</td>\n",
       "      <td>0</td>\n",
       "      <td>0</td>\n",
       "      <td>1</td>\n",
       "      <td>0</td>\n",
       "      <td>...</td>\n",
       "      <td>0</td>\n",
       "      <td>0</td>\n",
       "      <td>0</td>\n",
       "      <td>0</td>\n",
       "      <td>0</td>\n",
       "      <td>0</td>\n",
       "      <td>0</td>\n",
       "      <td>0</td>\n",
       "      <td>0</td>\n",
       "      <td>0</td>\n",
       "    </tr>\n",
       "    <tr>\n",
       "      <td>14460</td>\n",
       "      <td>0</td>\n",
       "      <td>0</td>\n",
       "      <td>3</td>\n",
       "      <td>0</td>\n",
       "      <td>0</td>\n",
       "      <td>0</td>\n",
       "      <td>0</td>\n",
       "      <td>0</td>\n",
       "      <td>1</td>\n",
       "      <td>0</td>\n",
       "      <td>...</td>\n",
       "      <td>0</td>\n",
       "      <td>0</td>\n",
       "      <td>0</td>\n",
       "      <td>0</td>\n",
       "      <td>0</td>\n",
       "      <td>0</td>\n",
       "      <td>0</td>\n",
       "      <td>0</td>\n",
       "      <td>0</td>\n",
       "      <td>0</td>\n",
       "    </tr>\n",
       "    <tr>\n",
       "      <td>14465</td>\n",
       "      <td>0</td>\n",
       "      <td>0</td>\n",
       "      <td>3</td>\n",
       "      <td>0</td>\n",
       "      <td>0</td>\n",
       "      <td>0</td>\n",
       "      <td>0</td>\n",
       "      <td>0</td>\n",
       "      <td>1</td>\n",
       "      <td>0</td>\n",
       "      <td>...</td>\n",
       "      <td>0</td>\n",
       "      <td>0</td>\n",
       "      <td>0</td>\n",
       "      <td>0</td>\n",
       "      <td>0</td>\n",
       "      <td>0</td>\n",
       "      <td>0</td>\n",
       "      <td>0</td>\n",
       "      <td>0</td>\n",
       "      <td>0</td>\n",
       "    </tr>\n",
       "  </tbody>\n",
       "</table>\n",
       "<p>981 rows × 900 columns</p>\n",
       "</div>"
      ],
      "text/plain": [
       "             0    1    2    3    4    5    6    7    8    9    ...  890  891  \\\n",
       "MATERIAL_ID                                                    ...             \n",
       "20             0    0    1    1    0    0    0    0    0    1  ...    0    0   \n",
       "21             0    0    1    1    0    0    0    0    0    1  ...    0    0   \n",
       "22             0    0    1    1    0    0    0    0    0    1  ...    0    0   \n",
       "41             0    0    1    0    0    0    0    0    0    0  ...    0    0   \n",
       "43             0    0    1    1    0    0    0    0    0    1  ...    0    0   \n",
       "...          ...  ...  ...  ...  ...  ...  ...  ...  ...  ...  ...  ...  ...   \n",
       "14438          0    0    3    0    0    0    0    0    1    0  ...    0    0   \n",
       "14447          0    0    3    0    0    0    0    0    1    0  ...    0    0   \n",
       "14452          0    0    3    0    0    0    0    0    1    0  ...    0    0   \n",
       "14460          0    0    3    0    0    0    0    0    1    0  ...    0    0   \n",
       "14465          0    0    3    0    0    0    0    0    1    0  ...    0    0   \n",
       "\n",
       "             892  893  894  895  896  897  898  899  \n",
       "MATERIAL_ID                                          \n",
       "20             0    0    0    0    0    0    0    0  \n",
       "21             0    0    0    0    0    0    0    0  \n",
       "22             0    0    0    0    0    0    0    0  \n",
       "41             0    0    0    0    0    0    0    0  \n",
       "43             0    0    0    0    0    0    0    0  \n",
       "...          ...  ...  ...  ...  ...  ...  ...  ...  \n",
       "14438          0    0    0    0    0    0    0    0  \n",
       "14447          0    0    0    0    0    0    0    0  \n",
       "14452          0    0    0    0    0    0    0    0  \n",
       "14460          0    0    0    0    0    0    0    0  \n",
       "14465          0    0    0    0    0    0    0    0  \n",
       "\n",
       "[981 rows x 900 columns]"
      ]
     },
     "execution_count": 3036,
     "metadata": {},
     "output_type": "execute_result"
    }
   ],
   "source": [
    "ctg_1_full_train_features"
   ]
  },
  {
   "cell_type": "markdown",
   "metadata": {},
   "source": [
    "## Full train feature of trim"
   ]
  },
  {
   "cell_type": "code",
   "execution_count": 3037,
   "metadata": {},
   "outputs": [],
   "source": [
    "ctg_0_full_train_features = full_train_features.loc[full_train_data.CATEGORY == 0]"
   ]
  },
  {
   "cell_type": "code",
   "execution_count": 3038,
   "metadata": {},
   "outputs": [
    {
     "data": {
      "text/html": [
       "<div>\n",
       "<style scoped>\n",
       "    .dataframe tbody tr th:only-of-type {\n",
       "        vertical-align: middle;\n",
       "    }\n",
       "\n",
       "    .dataframe tbody tr th {\n",
       "        vertical-align: top;\n",
       "    }\n",
       "\n",
       "    .dataframe thead th {\n",
       "        text-align: right;\n",
       "    }\n",
       "</style>\n",
       "<table border=\"1\" class=\"dataframe\">\n",
       "  <thead>\n",
       "    <tr style=\"text-align: right;\">\n",
       "      <th></th>\n",
       "      <th>0</th>\n",
       "      <th>1</th>\n",
       "      <th>2</th>\n",
       "      <th>3</th>\n",
       "      <th>4</th>\n",
       "      <th>5</th>\n",
       "      <th>6</th>\n",
       "      <th>7</th>\n",
       "      <th>8</th>\n",
       "      <th>9</th>\n",
       "      <th>...</th>\n",
       "      <th>890</th>\n",
       "      <th>891</th>\n",
       "      <th>892</th>\n",
       "      <th>893</th>\n",
       "      <th>894</th>\n",
       "      <th>895</th>\n",
       "      <th>896</th>\n",
       "      <th>897</th>\n",
       "      <th>898</th>\n",
       "      <th>899</th>\n",
       "    </tr>\n",
       "    <tr>\n",
       "      <th>MATERIAL_ID</th>\n",
       "      <th></th>\n",
       "      <th></th>\n",
       "      <th></th>\n",
       "      <th></th>\n",
       "      <th></th>\n",
       "      <th></th>\n",
       "      <th></th>\n",
       "      <th></th>\n",
       "      <th></th>\n",
       "      <th></th>\n",
       "      <th></th>\n",
       "      <th></th>\n",
       "      <th></th>\n",
       "      <th></th>\n",
       "      <th></th>\n",
       "      <th></th>\n",
       "      <th></th>\n",
       "      <th></th>\n",
       "      <th></th>\n",
       "      <th></th>\n",
       "      <th></th>\n",
       "    </tr>\n",
       "  </thead>\n",
       "  <tbody>\n",
       "    <tr>\n",
       "      <td>2</td>\n",
       "      <td>0</td>\n",
       "      <td>0</td>\n",
       "      <td>0</td>\n",
       "      <td>0</td>\n",
       "      <td>0</td>\n",
       "      <td>0</td>\n",
       "      <td>0</td>\n",
       "      <td>0</td>\n",
       "      <td>0</td>\n",
       "      <td>0</td>\n",
       "      <td>...</td>\n",
       "      <td>0</td>\n",
       "      <td>0</td>\n",
       "      <td>0</td>\n",
       "      <td>0</td>\n",
       "      <td>0</td>\n",
       "      <td>0</td>\n",
       "      <td>0</td>\n",
       "      <td>0</td>\n",
       "      <td>0</td>\n",
       "      <td>0</td>\n",
       "    </tr>\n",
       "    <tr>\n",
       "      <td>4</td>\n",
       "      <td>1</td>\n",
       "      <td>0</td>\n",
       "      <td>0</td>\n",
       "      <td>0</td>\n",
       "      <td>0</td>\n",
       "      <td>0</td>\n",
       "      <td>0</td>\n",
       "      <td>0</td>\n",
       "      <td>1</td>\n",
       "      <td>0</td>\n",
       "      <td>...</td>\n",
       "      <td>0</td>\n",
       "      <td>0</td>\n",
       "      <td>0</td>\n",
       "      <td>0</td>\n",
       "      <td>0</td>\n",
       "      <td>0</td>\n",
       "      <td>0</td>\n",
       "      <td>0</td>\n",
       "      <td>0</td>\n",
       "      <td>0</td>\n",
       "    </tr>\n",
       "    <tr>\n",
       "      <td>5</td>\n",
       "      <td>0</td>\n",
       "      <td>0</td>\n",
       "      <td>0</td>\n",
       "      <td>0</td>\n",
       "      <td>0</td>\n",
       "      <td>0</td>\n",
       "      <td>0</td>\n",
       "      <td>0</td>\n",
       "      <td>0</td>\n",
       "      <td>0</td>\n",
       "      <td>...</td>\n",
       "      <td>0</td>\n",
       "      <td>0</td>\n",
       "      <td>0</td>\n",
       "      <td>0</td>\n",
       "      <td>0</td>\n",
       "      <td>0</td>\n",
       "      <td>0</td>\n",
       "      <td>0</td>\n",
       "      <td>0</td>\n",
       "      <td>0</td>\n",
       "    </tr>\n",
       "    <tr>\n",
       "      <td>6</td>\n",
       "      <td>0</td>\n",
       "      <td>1</td>\n",
       "      <td>0</td>\n",
       "      <td>0</td>\n",
       "      <td>0</td>\n",
       "      <td>0</td>\n",
       "      <td>0</td>\n",
       "      <td>0</td>\n",
       "      <td>0</td>\n",
       "      <td>1</td>\n",
       "      <td>...</td>\n",
       "      <td>0</td>\n",
       "      <td>0</td>\n",
       "      <td>0</td>\n",
       "      <td>0</td>\n",
       "      <td>0</td>\n",
       "      <td>0</td>\n",
       "      <td>0</td>\n",
       "      <td>0</td>\n",
       "      <td>0</td>\n",
       "      <td>0</td>\n",
       "    </tr>\n",
       "    <tr>\n",
       "      <td>7</td>\n",
       "      <td>1</td>\n",
       "      <td>1</td>\n",
       "      <td>0</td>\n",
       "      <td>0</td>\n",
       "      <td>0</td>\n",
       "      <td>0</td>\n",
       "      <td>0</td>\n",
       "      <td>0</td>\n",
       "      <td>1</td>\n",
       "      <td>0</td>\n",
       "      <td>...</td>\n",
       "      <td>0</td>\n",
       "      <td>0</td>\n",
       "      <td>0</td>\n",
       "      <td>0</td>\n",
       "      <td>0</td>\n",
       "      <td>0</td>\n",
       "      <td>0</td>\n",
       "      <td>0</td>\n",
       "      <td>0</td>\n",
       "      <td>0</td>\n",
       "    </tr>\n",
       "    <tr>\n",
       "      <td>...</td>\n",
       "      <td>...</td>\n",
       "      <td>...</td>\n",
       "      <td>...</td>\n",
       "      <td>...</td>\n",
       "      <td>...</td>\n",
       "      <td>...</td>\n",
       "      <td>...</td>\n",
       "      <td>...</td>\n",
       "      <td>...</td>\n",
       "      <td>...</td>\n",
       "      <td>...</td>\n",
       "      <td>...</td>\n",
       "      <td>...</td>\n",
       "      <td>...</td>\n",
       "      <td>...</td>\n",
       "      <td>...</td>\n",
       "      <td>...</td>\n",
       "      <td>...</td>\n",
       "      <td>...</td>\n",
       "      <td>...</td>\n",
       "      <td>...</td>\n",
       "    </tr>\n",
       "    <tr>\n",
       "      <td>14583</td>\n",
       "      <td>0</td>\n",
       "      <td>0</td>\n",
       "      <td>0</td>\n",
       "      <td>0</td>\n",
       "      <td>0</td>\n",
       "      <td>0</td>\n",
       "      <td>0</td>\n",
       "      <td>0</td>\n",
       "      <td>0</td>\n",
       "      <td>0</td>\n",
       "      <td>...</td>\n",
       "      <td>0</td>\n",
       "      <td>0</td>\n",
       "      <td>0</td>\n",
       "      <td>0</td>\n",
       "      <td>0</td>\n",
       "      <td>0</td>\n",
       "      <td>0</td>\n",
       "      <td>0</td>\n",
       "      <td>0</td>\n",
       "      <td>0</td>\n",
       "    </tr>\n",
       "    <tr>\n",
       "      <td>14584</td>\n",
       "      <td>0</td>\n",
       "      <td>0</td>\n",
       "      <td>0</td>\n",
       "      <td>0</td>\n",
       "      <td>0</td>\n",
       "      <td>0</td>\n",
       "      <td>0</td>\n",
       "      <td>0</td>\n",
       "      <td>0</td>\n",
       "      <td>0</td>\n",
       "      <td>...</td>\n",
       "      <td>0</td>\n",
       "      <td>0</td>\n",
       "      <td>0</td>\n",
       "      <td>0</td>\n",
       "      <td>0</td>\n",
       "      <td>0</td>\n",
       "      <td>0</td>\n",
       "      <td>0</td>\n",
       "      <td>0</td>\n",
       "      <td>0</td>\n",
       "    </tr>\n",
       "    <tr>\n",
       "      <td>14585</td>\n",
       "      <td>0</td>\n",
       "      <td>0</td>\n",
       "      <td>0</td>\n",
       "      <td>0</td>\n",
       "      <td>0</td>\n",
       "      <td>0</td>\n",
       "      <td>0</td>\n",
       "      <td>0</td>\n",
       "      <td>0</td>\n",
       "      <td>0</td>\n",
       "      <td>...</td>\n",
       "      <td>0</td>\n",
       "      <td>0</td>\n",
       "      <td>0</td>\n",
       "      <td>0</td>\n",
       "      <td>0</td>\n",
       "      <td>0</td>\n",
       "      <td>0</td>\n",
       "      <td>0</td>\n",
       "      <td>0</td>\n",
       "      <td>0</td>\n",
       "    </tr>\n",
       "    <tr>\n",
       "      <td>14586</td>\n",
       "      <td>0</td>\n",
       "      <td>0</td>\n",
       "      <td>0</td>\n",
       "      <td>0</td>\n",
       "      <td>0</td>\n",
       "      <td>0</td>\n",
       "      <td>0</td>\n",
       "      <td>0</td>\n",
       "      <td>0</td>\n",
       "      <td>0</td>\n",
       "      <td>...</td>\n",
       "      <td>0</td>\n",
       "      <td>0</td>\n",
       "      <td>0</td>\n",
       "      <td>0</td>\n",
       "      <td>0</td>\n",
       "      <td>0</td>\n",
       "      <td>0</td>\n",
       "      <td>0</td>\n",
       "      <td>0</td>\n",
       "      <td>0</td>\n",
       "    </tr>\n",
       "    <tr>\n",
       "      <td>14587</td>\n",
       "      <td>0</td>\n",
       "      <td>0</td>\n",
       "      <td>0</td>\n",
       "      <td>1</td>\n",
       "      <td>0</td>\n",
       "      <td>0</td>\n",
       "      <td>0</td>\n",
       "      <td>0</td>\n",
       "      <td>0</td>\n",
       "      <td>0</td>\n",
       "      <td>...</td>\n",
       "      <td>0</td>\n",
       "      <td>0</td>\n",
       "      <td>0</td>\n",
       "      <td>0</td>\n",
       "      <td>0</td>\n",
       "      <td>0</td>\n",
       "      <td>0</td>\n",
       "      <td>0</td>\n",
       "      <td>0</td>\n",
       "      <td>0</td>\n",
       "    </tr>\n",
       "  </tbody>\n",
       "</table>\n",
       "<p>12117 rows × 900 columns</p>\n",
       "</div>"
      ],
      "text/plain": [
       "             0    1    2    3    4    5    6    7    8    9    ...  890  891  \\\n",
       "MATERIAL_ID                                                    ...             \n",
       "2              0    0    0    0    0    0    0    0    0    0  ...    0    0   \n",
       "4              1    0    0    0    0    0    0    0    1    0  ...    0    0   \n",
       "5              0    0    0    0    0    0    0    0    0    0  ...    0    0   \n",
       "6              0    1    0    0    0    0    0    0    0    1  ...    0    0   \n",
       "7              1    1    0    0    0    0    0    0    1    0  ...    0    0   \n",
       "...          ...  ...  ...  ...  ...  ...  ...  ...  ...  ...  ...  ...  ...   \n",
       "14583          0    0    0    0    0    0    0    0    0    0  ...    0    0   \n",
       "14584          0    0    0    0    0    0    0    0    0    0  ...    0    0   \n",
       "14585          0    0    0    0    0    0    0    0    0    0  ...    0    0   \n",
       "14586          0    0    0    0    0    0    0    0    0    0  ...    0    0   \n",
       "14587          0    0    0    1    0    0    0    0    0    0  ...    0    0   \n",
       "\n",
       "             892  893  894  895  896  897  898  899  \n",
       "MATERIAL_ID                                          \n",
       "2              0    0    0    0    0    0    0    0  \n",
       "4              0    0    0    0    0    0    0    0  \n",
       "5              0    0    0    0    0    0    0    0  \n",
       "6              0    0    0    0    0    0    0    0  \n",
       "7              0    0    0    0    0    0    0    0  \n",
       "...          ...  ...  ...  ...  ...  ...  ...  ...  \n",
       "14583          0    0    0    0    0    0    0    0  \n",
       "14584          0    0    0    0    0    0    0    0  \n",
       "14585          0    0    0    0    0    0    0    0  \n",
       "14586          0    0    0    0    0    0    0    0  \n",
       "14587          0    0    0    0    0    0    0    0  \n",
       "\n",
       "[12117 rows x 900 columns]"
      ]
     },
     "execution_count": 3038,
     "metadata": {},
     "output_type": "execute_result"
    }
   ],
   "source": [
    "ctg_0_full_train_features"
   ]
  },
  {
   "cell_type": "markdown",
   "metadata": {},
   "source": [
    "### Frequency of tokens in fabric in train_data\n",
    "* We add up all value in column direction to get sum of each column.\n",
    "* The sum represents each word occurs how many time in the category 1, the fabric.\n",
    "* It is possible that some words in vocabulary never appear in this category, so we need \"+ 1\" to this token. Since later we'll divide it to get the percentage, if you divide 0, it may cause error."
   ]
  },
  {
   "cell_type": "code",
   "execution_count": 3039,
   "metadata": {},
   "outputs": [],
   "source": [
    "summed_ctg_1_tokens_in_train_data = ctg_1_full_train_features.sum(axis = 0) + 1"
   ]
  },
  {
   "cell_type": "code",
   "execution_count": 3040,
   "metadata": {},
   "outputs": [
    {
     "data": {
      "text/plain": [
       "0        52\n",
       "1         3\n",
       "2      1438\n",
       "3       409\n",
       "4        10\n",
       "       ... \n",
       "895       1\n",
       "896       1\n",
       "897       1\n",
       "898       1\n",
       "899       1\n",
       "Length: 900, dtype: int64"
      ]
     },
     "execution_count": 3040,
     "metadata": {},
     "output_type": "execute_result"
    }
   ],
   "source": [
    "summed_ctg_1_tokens_in_train_data"
   ]
  },
  {
   "cell_type": "markdown",
   "metadata": {},
   "source": [
    "### Frequency of tokens in trim in train_data\n",
    "* The way treat it as treating with fabric"
   ]
  },
  {
   "cell_type": "code",
   "execution_count": 3041,
   "metadata": {},
   "outputs": [],
   "source": [
    "summed_ctg_0_tokens_in_train_data = ctg_0_full_train_features.sum(axis = 0) + 1"
   ]
  },
  {
   "cell_type": "code",
   "execution_count": 3042,
   "metadata": {},
   "outputs": [
    {
     "data": {
      "text/plain": [
       "0      2049\n",
       "1      1707\n",
       "2       268\n",
       "3      1116\n",
       "4      1411\n",
       "       ... \n",
       "895       4\n",
       "896       5\n",
       "897       5\n",
       "898       5\n",
       "899       5\n",
       "Length: 900, dtype: int64"
      ]
     },
     "execution_count": 3042,
     "metadata": {},
     "output_type": "execute_result"
    }
   ],
   "source": [
    "summed_ctg_0_tokens_in_train_data"
   ]
  },
  {
   "cell_type": "markdown",
   "metadata": {},
   "source": [
    "# Probability of tokens\n",
    "* Why here not only divided the frequency of each token by total tokens but also the size of vocabulary? It is becasue we add \"+ 1\" for each word when counting frequency, so add the size of vocabulary is for balancing the number back."
   ]
  },
  {
   "cell_type": "markdown",
   "metadata": {},
   "source": [
    "## P of Training Set \n",
    "### Probability of tokens in fabric in train_data\n",
    "* ### P( Token | ctg_1 )\n",
    "* Take the each summed up occurance divided by the total nubmer of token in category of fabric."
   ]
  },
  {
   "cell_type": "code",
   "execution_count": 3043,
   "metadata": {},
   "outputs": [],
   "source": [
    "prob_tokens_ctg_1_train_set = summed_ctg_1_tokens_in_train_data / (ctg_1_token_in_train_data + VOCAB_SIZE)"
   ]
  },
  {
   "cell_type": "code",
   "execution_count": 3044,
   "metadata": {},
   "outputs": [
    {
     "data": {
      "text/plain": [
       "7590"
      ]
     },
     "execution_count": 3044,
     "metadata": {},
     "output_type": "execute_result"
    }
   ],
   "source": [
    "ctg_1_token_in_train_data"
   ]
  },
  {
   "cell_type": "code",
   "execution_count": 3045,
   "metadata": {
    "scrolled": true
   },
   "outputs": [
    {
     "data": {
      "text/plain": [
       "0      0.006125\n",
       "1      0.000353\n",
       "2      0.169376\n",
       "3      0.048174\n",
       "4      0.001178\n",
       "         ...   \n",
       "895    0.000118\n",
       "896    0.000118\n",
       "897    0.000118\n",
       "898    0.000118\n",
       "899    0.000118\n",
       "Length: 900, dtype: float64"
      ]
     },
     "execution_count": 3045,
     "metadata": {},
     "output_type": "execute_result"
    }
   ],
   "source": [
    "prob_tokens_ctg_1_train_set"
   ]
  },
  {
   "cell_type": "markdown",
   "metadata": {},
   "source": [
    "### Probability of tokens in trim in train_data\n",
    "* ### P( Token | ctg_0 )"
   ]
  },
  {
   "cell_type": "code",
   "execution_count": 3046,
   "metadata": {},
   "outputs": [],
   "source": [
    "prob_tokens_ctg_0_train_set = summed_ctg_0_tokens_in_train_data / (ctg_0_token_in_train_data + VOCAB_SIZE)"
   ]
  },
  {
   "cell_type": "code",
   "execution_count": 3047,
   "metadata": {
    "scrolled": true
   },
   "outputs": [
    {
     "data": {
      "text/plain": [
       "0      0.027647\n",
       "1      0.023032\n",
       "2      0.003616\n",
       "3      0.015058\n",
       "4      0.019038\n",
       "         ...   \n",
       "895    0.000054\n",
       "896    0.000067\n",
       "897    0.000067\n",
       "898    0.000067\n",
       "899    0.000067\n",
       "Length: 900, dtype: float64"
      ]
     },
     "execution_count": 3047,
     "metadata": {},
     "output_type": "execute_result"
    }
   ],
   "source": [
    "prob_tokens_ctg_0_train_set"
   ]
  },
  {
   "cell_type": "markdown",
   "metadata": {},
   "source": [
    "* Check if the number correct.\n",
    "* The answer should be \"1\""
   ]
  },
  {
   "cell_type": "code",
   "execution_count": 3048,
   "metadata": {
    "scrolled": false
   },
   "outputs": [
    {
     "data": {
      "text/plain": [
       "1.0"
      ]
     },
     "execution_count": 3048,
     "metadata": {},
     "output_type": "execute_result"
    }
   ],
   "source": [
    "prob_tokens_ctg_0_train_set.sum()"
   ]
  },
  {
   "cell_type": "markdown",
   "metadata": {},
   "source": [
    "* Test for the prob"
   ]
  },
  {
   "cell_type": "code",
   "execution_count": 3049,
   "metadata": {},
   "outputs": [
    {
     "data": {
      "text/plain": [
       "False"
      ]
     },
     "execution_count": 3049,
     "metadata": {},
     "output_type": "execute_result"
    }
   ],
   "source": [
    "check = prob_tokens_ctg_1_train_set[196] > prob_tokens_ctg_0_train_set[196]\n",
    "check"
   ]
  },
  {
   "cell_type": "markdown",
   "metadata": {},
   "source": [
    "### Probability of tokens in train_data\n",
    "* ### P (Token)"
   ]
  },
  {
   "cell_type": "code",
   "execution_count": 3050,
   "metadata": {},
   "outputs": [],
   "source": [
    "prob_tokens_all_train_set = full_train_features.sum(axis = 0) / total_words_train_data"
   ]
  },
  {
   "cell_type": "code",
   "execution_count": 3051,
   "metadata": {},
   "outputs": [
    {
     "data": {
      "text/plain": [
       "0      0.025976\n",
       "1      0.021138\n",
       "2      0.021088\n",
       "3      0.018848\n",
       "4      0.017561\n",
       "         ...   \n",
       "895    0.000037\n",
       "896    0.000050\n",
       "897    0.000050\n",
       "898    0.000050\n",
       "899    0.000050\n",
       "Length: 900, dtype: float64"
      ]
     },
     "execution_count": 3051,
     "metadata": {},
     "output_type": "execute_result"
    }
   ],
   "source": [
    "prob_tokens_all_train_set"
   ]
  },
  {
   "cell_type": "code",
   "execution_count": 3052,
   "metadata": {},
   "outputs": [
    {
     "data": {
      "text/plain": [
       "0.9999999999999999"
      ]
     },
     "execution_count": 3052,
     "metadata": {},
     "output_type": "execute_result"
    }
   ],
   "source": [
    "prob_tokens_all_train_set.sum()"
   ]
  },
  {
   "cell_type": "markdown",
   "metadata": {},
   "source": [
    "### Save the trained Model\n",
    "* P( Token | ctg_1 )\n",
    "* P( Token | ctg_0 )\n",
    "* P ( Token )"
   ]
  },
  {
   "cell_type": "code",
   "execution_count": 3053,
   "metadata": {},
   "outputs": [],
   "source": [
    "np.savetxt('result/Trained Data/Train_set/' + SUBJECT + '_prob_tokens_ctg_1_in_train_data' ,prob_tokens_ctg_1_train_set)\n",
    "np.savetxt('result/Trained Data/Train_set/' + SUBJECT + '_prob_tokens_ctg_0_in_train_data', prob_tokens_ctg_0_train_set)\n",
    "np.savetxt('result/Trained Data/Train_set/' + SUBJECT + '_prob_tokens_all_in_train_data', prob_tokens_all_train_set)"
   ]
  },
  {
   "cell_type": "markdown",
   "metadata": {},
   "source": [
    "## P of Test Set\n",
    "### Probability of tokens in trim in train_data\n",
    "* ### P( Token | ctg_0 )"
   ]
  },
  {
   "cell_type": "markdown",
   "metadata": {},
   "source": [
    "* Start from Sparse Matrix of test_set\n",
    "* Trun the Sparse Matrix to Full Matrix\n",
    "* Get the number of word of material by summing each row of Full Matrix\n",
    "* Get the frequency of each word by summing each column of Full Matrix\n",
    "* Get all this result from test set : P ( Token | ctg_1 ), P (Token | ctg_0 ), P ( Token ) \n",
    " "
   ]
  },
  {
   "cell_type": "markdown",
   "metadata": {},
   "source": [
    "### Full matrix of test data\n",
    "#### Import test data Sparse Matrix"
   ]
  },
  {
   "cell_type": "code",
   "execution_count": 3054,
   "metadata": {
    "scrolled": true
   },
   "outputs": [],
   "source": [
    "TEST_DATA = 'result/Trained Data/' + SUBJECT + '_sparse_test_data'\n",
    "sparse_test_data = np.loadtxt(TEST_DATA, delimiter = ' ', dtype = int )"
   ]
  },
  {
   "cell_type": "markdown",
   "metadata": {},
   "source": [
    "#### Create a empty Full Matrix\n",
    "* Column and row of Full Matrix"
   ]
  },
  {
   "cell_type": "code",
   "execution_count": 3055,
   "metadata": {},
   "outputs": [],
   "source": [
    "column_names = ['MATERIAL_ID'] + ['CATEGORY'] + list(range(0, VOCAB_SIZE))\n",
    "index_names = np.unique(sparse_test_data[:, 0]) # 1 material_id only for 1 row, without duplicated"
   ]
  },
  {
   "cell_type": "markdown",
   "metadata": {},
   "source": [
    "#### The custom function make_full_matrix\n",
    "* empty dataFrame for Full matrix \n",
    "* Filled the values from sparse matrix by column match to WORD_ID, the row match to MATERIAL_ID"
   ]
  },
  {
   "cell_type": "code",
   "execution_count": 3056,
   "metadata": {},
   "outputs": [
    {
     "name": "stdout",
     "output_type": "stream",
     "text": [
      "CPU times: user 733 ms, sys: 22.4 ms, total: 755 ms\n",
      "Wall time: 785 ms\n"
     ]
    }
   ],
   "source": [
    "%%time\n",
    "full_test_data = make_full_matrix(sparse_test_data, VOCAB_SIZE) "
   ]
  },
  {
   "cell_type": "code",
   "execution_count": 3057,
   "metadata": {},
   "outputs": [
    {
     "data": {
      "text/html": [
       "<div>\n",
       "<style scoped>\n",
       "    .dataframe tbody tr th:only-of-type {\n",
       "        vertical-align: middle;\n",
       "    }\n",
       "\n",
       "    .dataframe tbody tr th {\n",
       "        vertical-align: top;\n",
       "    }\n",
       "\n",
       "    .dataframe thead th {\n",
       "        text-align: right;\n",
       "    }\n",
       "</style>\n",
       "<table border=\"1\" class=\"dataframe\">\n",
       "  <thead>\n",
       "    <tr style=\"text-align: right;\">\n",
       "      <th></th>\n",
       "      <th>CATEGORY</th>\n",
       "      <th>0</th>\n",
       "      <th>1</th>\n",
       "      <th>2</th>\n",
       "      <th>3</th>\n",
       "      <th>4</th>\n",
       "      <th>5</th>\n",
       "      <th>6</th>\n",
       "      <th>7</th>\n",
       "      <th>8</th>\n",
       "      <th>...</th>\n",
       "      <th>890</th>\n",
       "      <th>891</th>\n",
       "      <th>892</th>\n",
       "      <th>893</th>\n",
       "      <th>894</th>\n",
       "      <th>895</th>\n",
       "      <th>896</th>\n",
       "      <th>897</th>\n",
       "      <th>898</th>\n",
       "      <th>899</th>\n",
       "    </tr>\n",
       "    <tr>\n",
       "      <th>MATERIAL_ID</th>\n",
       "      <th></th>\n",
       "      <th></th>\n",
       "      <th></th>\n",
       "      <th></th>\n",
       "      <th></th>\n",
       "      <th></th>\n",
       "      <th></th>\n",
       "      <th></th>\n",
       "      <th></th>\n",
       "      <th></th>\n",
       "      <th></th>\n",
       "      <th></th>\n",
       "      <th></th>\n",
       "      <th></th>\n",
       "      <th></th>\n",
       "      <th></th>\n",
       "      <th></th>\n",
       "      <th></th>\n",
       "      <th></th>\n",
       "      <th></th>\n",
       "      <th></th>\n",
       "    </tr>\n",
       "  </thead>\n",
       "  <tbody>\n",
       "    <tr>\n",
       "      <td>0</td>\n",
       "      <td>0</td>\n",
       "      <td>0</td>\n",
       "      <td>0</td>\n",
       "      <td>0</td>\n",
       "      <td>1</td>\n",
       "      <td>0</td>\n",
       "      <td>0</td>\n",
       "      <td>0</td>\n",
       "      <td>1</td>\n",
       "      <td>1</td>\n",
       "      <td>...</td>\n",
       "      <td>0</td>\n",
       "      <td>0</td>\n",
       "      <td>0</td>\n",
       "      <td>0</td>\n",
       "      <td>0</td>\n",
       "      <td>0</td>\n",
       "      <td>0</td>\n",
       "      <td>0</td>\n",
       "      <td>0</td>\n",
       "      <td>0</td>\n",
       "    </tr>\n",
       "    <tr>\n",
       "      <td>1</td>\n",
       "      <td>0</td>\n",
       "      <td>0</td>\n",
       "      <td>0</td>\n",
       "      <td>0</td>\n",
       "      <td>1</td>\n",
       "      <td>0</td>\n",
       "      <td>0</td>\n",
       "      <td>0</td>\n",
       "      <td>1</td>\n",
       "      <td>1</td>\n",
       "      <td>...</td>\n",
       "      <td>0</td>\n",
       "      <td>0</td>\n",
       "      <td>0</td>\n",
       "      <td>0</td>\n",
       "      <td>0</td>\n",
       "      <td>0</td>\n",
       "      <td>0</td>\n",
       "      <td>0</td>\n",
       "      <td>0</td>\n",
       "      <td>0</td>\n",
       "    </tr>\n",
       "    <tr>\n",
       "      <td>3</td>\n",
       "      <td>0</td>\n",
       "      <td>0</td>\n",
       "      <td>0</td>\n",
       "      <td>0</td>\n",
       "      <td>0</td>\n",
       "      <td>0</td>\n",
       "      <td>0</td>\n",
       "      <td>0</td>\n",
       "      <td>0</td>\n",
       "      <td>0</td>\n",
       "      <td>...</td>\n",
       "      <td>0</td>\n",
       "      <td>0</td>\n",
       "      <td>0</td>\n",
       "      <td>0</td>\n",
       "      <td>0</td>\n",
       "      <td>0</td>\n",
       "      <td>0</td>\n",
       "      <td>0</td>\n",
       "      <td>0</td>\n",
       "      <td>0</td>\n",
       "    </tr>\n",
       "    <tr>\n",
       "      <td>13</td>\n",
       "      <td>0</td>\n",
       "      <td>0</td>\n",
       "      <td>0</td>\n",
       "      <td>0</td>\n",
       "      <td>0</td>\n",
       "      <td>0</td>\n",
       "      <td>0</td>\n",
       "      <td>0</td>\n",
       "      <td>0</td>\n",
       "      <td>1</td>\n",
       "      <td>...</td>\n",
       "      <td>0</td>\n",
       "      <td>0</td>\n",
       "      <td>0</td>\n",
       "      <td>0</td>\n",
       "      <td>0</td>\n",
       "      <td>0</td>\n",
       "      <td>0</td>\n",
       "      <td>0</td>\n",
       "      <td>0</td>\n",
       "      <td>0</td>\n",
       "    </tr>\n",
       "    <tr>\n",
       "      <td>37</td>\n",
       "      <td>0</td>\n",
       "      <td>0</td>\n",
       "      <td>0</td>\n",
       "      <td>0</td>\n",
       "      <td>0</td>\n",
       "      <td>0</td>\n",
       "      <td>0</td>\n",
       "      <td>0</td>\n",
       "      <td>0</td>\n",
       "      <td>0</td>\n",
       "      <td>...</td>\n",
       "      <td>0</td>\n",
       "      <td>0</td>\n",
       "      <td>0</td>\n",
       "      <td>0</td>\n",
       "      <td>0</td>\n",
       "      <td>0</td>\n",
       "      <td>0</td>\n",
       "      <td>0</td>\n",
       "      <td>0</td>\n",
       "      <td>0</td>\n",
       "    </tr>\n",
       "    <tr>\n",
       "      <td>...</td>\n",
       "      <td>...</td>\n",
       "      <td>...</td>\n",
       "      <td>...</td>\n",
       "      <td>...</td>\n",
       "      <td>...</td>\n",
       "      <td>...</td>\n",
       "      <td>...</td>\n",
       "      <td>...</td>\n",
       "      <td>...</td>\n",
       "      <td>...</td>\n",
       "      <td>...</td>\n",
       "      <td>...</td>\n",
       "      <td>...</td>\n",
       "      <td>...</td>\n",
       "      <td>...</td>\n",
       "      <td>...</td>\n",
       "      <td>...</td>\n",
       "      <td>...</td>\n",
       "      <td>...</td>\n",
       "      <td>...</td>\n",
       "      <td>...</td>\n",
       "    </tr>\n",
       "    <tr>\n",
       "      <td>14530</td>\n",
       "      <td>0</td>\n",
       "      <td>0</td>\n",
       "      <td>0</td>\n",
       "      <td>0</td>\n",
       "      <td>2</td>\n",
       "      <td>0</td>\n",
       "      <td>0</td>\n",
       "      <td>0</td>\n",
       "      <td>0</td>\n",
       "      <td>0</td>\n",
       "      <td>...</td>\n",
       "      <td>0</td>\n",
       "      <td>0</td>\n",
       "      <td>0</td>\n",
       "      <td>0</td>\n",
       "      <td>0</td>\n",
       "      <td>0</td>\n",
       "      <td>0</td>\n",
       "      <td>0</td>\n",
       "      <td>0</td>\n",
       "      <td>0</td>\n",
       "    </tr>\n",
       "    <tr>\n",
       "      <td>14547</td>\n",
       "      <td>0</td>\n",
       "      <td>0</td>\n",
       "      <td>0</td>\n",
       "      <td>0</td>\n",
       "      <td>0</td>\n",
       "      <td>0</td>\n",
       "      <td>0</td>\n",
       "      <td>0</td>\n",
       "      <td>0</td>\n",
       "      <td>0</td>\n",
       "      <td>...</td>\n",
       "      <td>0</td>\n",
       "      <td>0</td>\n",
       "      <td>0</td>\n",
       "      <td>0</td>\n",
       "      <td>0</td>\n",
       "      <td>0</td>\n",
       "      <td>0</td>\n",
       "      <td>0</td>\n",
       "      <td>0</td>\n",
       "      <td>0</td>\n",
       "    </tr>\n",
       "    <tr>\n",
       "      <td>14549</td>\n",
       "      <td>0</td>\n",
       "      <td>0</td>\n",
       "      <td>0</td>\n",
       "      <td>0</td>\n",
       "      <td>0</td>\n",
       "      <td>0</td>\n",
       "      <td>0</td>\n",
       "      <td>0</td>\n",
       "      <td>0</td>\n",
       "      <td>0</td>\n",
       "      <td>...</td>\n",
       "      <td>0</td>\n",
       "      <td>0</td>\n",
       "      <td>0</td>\n",
       "      <td>0</td>\n",
       "      <td>0</td>\n",
       "      <td>0</td>\n",
       "      <td>0</td>\n",
       "      <td>0</td>\n",
       "      <td>0</td>\n",
       "      <td>0</td>\n",
       "    </tr>\n",
       "    <tr>\n",
       "      <td>14561</td>\n",
       "      <td>0</td>\n",
       "      <td>0</td>\n",
       "      <td>0</td>\n",
       "      <td>0</td>\n",
       "      <td>0</td>\n",
       "      <td>0</td>\n",
       "      <td>0</td>\n",
       "      <td>0</td>\n",
       "      <td>0</td>\n",
       "      <td>0</td>\n",
       "      <td>...</td>\n",
       "      <td>0</td>\n",
       "      <td>0</td>\n",
       "      <td>0</td>\n",
       "      <td>0</td>\n",
       "      <td>0</td>\n",
       "      <td>0</td>\n",
       "      <td>0</td>\n",
       "      <td>0</td>\n",
       "      <td>0</td>\n",
       "      <td>0</td>\n",
       "    </tr>\n",
       "    <tr>\n",
       "      <td>14571</td>\n",
       "      <td>0</td>\n",
       "      <td>1</td>\n",
       "      <td>0</td>\n",
       "      <td>0</td>\n",
       "      <td>0</td>\n",
       "      <td>0</td>\n",
       "      <td>0</td>\n",
       "      <td>0</td>\n",
       "      <td>0</td>\n",
       "      <td>0</td>\n",
       "      <td>...</td>\n",
       "      <td>0</td>\n",
       "      <td>0</td>\n",
       "      <td>0</td>\n",
       "      <td>0</td>\n",
       "      <td>0</td>\n",
       "      <td>0</td>\n",
       "      <td>0</td>\n",
       "      <td>0</td>\n",
       "      <td>0</td>\n",
       "      <td>0</td>\n",
       "    </tr>\n",
       "  </tbody>\n",
       "</table>\n",
       "<p>1451 rows × 901 columns</p>\n",
       "</div>"
      ],
      "text/plain": [
       "             CATEGORY  0  1  2  3  4  5  6  7  8  ...  890  891  892  893  \\\n",
       "MATERIAL_ID                                       ...                       \n",
       "0                   0  0  0  0  1  0  0  0  1  1  ...    0    0    0    0   \n",
       "1                   0  0  0  0  1  0  0  0  1  1  ...    0    0    0    0   \n",
       "3                   0  0  0  0  0  0  0  0  0  0  ...    0    0    0    0   \n",
       "13                  0  0  0  0  0  0  0  0  0  1  ...    0    0    0    0   \n",
       "37                  0  0  0  0  0  0  0  0  0  0  ...    0    0    0    0   \n",
       "...               ... .. .. .. .. .. .. .. .. ..  ...  ...  ...  ...  ...   \n",
       "14530               0  0  0  0  2  0  0  0  0  0  ...    0    0    0    0   \n",
       "14547               0  0  0  0  0  0  0  0  0  0  ...    0    0    0    0   \n",
       "14549               0  0  0  0  0  0  0  0  0  0  ...    0    0    0    0   \n",
       "14561               0  0  0  0  0  0  0  0  0  0  ...    0    0    0    0   \n",
       "14571               0  1  0  0  0  0  0  0  0  0  ...    0    0    0    0   \n",
       "\n",
       "             894  895  896  897  898  899  \n",
       "MATERIAL_ID                                \n",
       "0              0    0    0    0    0    0  \n",
       "1              0    0    0    0    0    0  \n",
       "3              0    0    0    0    0    0  \n",
       "13             0    0    0    0    0    0  \n",
       "37             0    0    0    0    0    0  \n",
       "...          ...  ...  ...  ...  ...  ...  \n",
       "14530          0    0    0    0    0    0  \n",
       "14547          0    0    0    0    0    0  \n",
       "14549          0    0    0    0    0    0  \n",
       "14561          0    0    0    0    0    0  \n",
       "14571          0    0    0    0    0    0  \n",
       "\n",
       "[1451 rows x 901 columns]"
      ]
     },
     "execution_count": 3057,
     "metadata": {},
     "output_type": "execute_result"
    }
   ],
   "source": [
    "full_test_data"
   ]
  },
  {
   "cell_type": "markdown",
   "metadata": {},
   "source": [
    "### Probability in test data\n",
    "#### Ctg_1"
   ]
  },
  {
   "cell_type": "code",
   "execution_count": 3058,
   "metadata": {},
   "outputs": [
    {
     "data": {
      "text/plain": [
       "1451"
      ]
     },
     "execution_count": 3058,
     "metadata": {},
     "output_type": "execute_result"
    }
   ],
   "source": [
    "full_test_data.CATEGORY.size"
   ]
  },
  {
   "cell_type": "code",
   "execution_count": 3059,
   "metadata": {},
   "outputs": [
    {
     "data": {
      "text/plain": [
       "99"
      ]
     },
     "execution_count": 3059,
     "metadata": {},
     "output_type": "execute_result"
    }
   ],
   "source": [
    "full_test_data.CATEGORY.sum()"
   ]
  },
  {
   "cell_type": "code",
   "execution_count": 3060,
   "metadata": {},
   "outputs": [
    {
     "name": "stdout",
     "output_type": "stream",
     "text": [
      "Probability of ctg_1 in test_set 0.06822880771881461\n"
     ]
    }
   ],
   "source": [
    "prob_ctg_1_test_data = full_test_data.CATEGORY.sum() / full_test_data.CATEGORY.size\n",
    "print('Probability of ctg_1 in test_set', prob_ctg_1_test_data)"
   ]
  },
  {
   "cell_type": "markdown",
   "metadata": {},
   "source": [
    "### Full Features of test_set"
   ]
  },
  {
   "cell_type": "code",
   "execution_count": 3061,
   "metadata": {},
   "outputs": [],
   "source": [
    "full_test_features = full_test_data.loc[:, full_test_data.columns != 'CATEGORY']"
   ]
  },
  {
   "cell_type": "code",
   "execution_count": 3062,
   "metadata": {},
   "outputs": [
    {
     "data": {
      "text/html": [
       "<div>\n",
       "<style scoped>\n",
       "    .dataframe tbody tr th:only-of-type {\n",
       "        vertical-align: middle;\n",
       "    }\n",
       "\n",
       "    .dataframe tbody tr th {\n",
       "        vertical-align: top;\n",
       "    }\n",
       "\n",
       "    .dataframe thead th {\n",
       "        text-align: right;\n",
       "    }\n",
       "</style>\n",
       "<table border=\"1\" class=\"dataframe\">\n",
       "  <thead>\n",
       "    <tr style=\"text-align: right;\">\n",
       "      <th></th>\n",
       "      <th>0</th>\n",
       "      <th>1</th>\n",
       "      <th>2</th>\n",
       "      <th>3</th>\n",
       "      <th>4</th>\n",
       "      <th>5</th>\n",
       "      <th>6</th>\n",
       "      <th>7</th>\n",
       "      <th>8</th>\n",
       "      <th>9</th>\n",
       "      <th>...</th>\n",
       "      <th>890</th>\n",
       "      <th>891</th>\n",
       "      <th>892</th>\n",
       "      <th>893</th>\n",
       "      <th>894</th>\n",
       "      <th>895</th>\n",
       "      <th>896</th>\n",
       "      <th>897</th>\n",
       "      <th>898</th>\n",
       "      <th>899</th>\n",
       "    </tr>\n",
       "    <tr>\n",
       "      <th>MATERIAL_ID</th>\n",
       "      <th></th>\n",
       "      <th></th>\n",
       "      <th></th>\n",
       "      <th></th>\n",
       "      <th></th>\n",
       "      <th></th>\n",
       "      <th></th>\n",
       "      <th></th>\n",
       "      <th></th>\n",
       "      <th></th>\n",
       "      <th></th>\n",
       "      <th></th>\n",
       "      <th></th>\n",
       "      <th></th>\n",
       "      <th></th>\n",
       "      <th></th>\n",
       "      <th></th>\n",
       "      <th></th>\n",
       "      <th></th>\n",
       "      <th></th>\n",
       "      <th></th>\n",
       "    </tr>\n",
       "  </thead>\n",
       "  <tbody>\n",
       "    <tr>\n",
       "      <td>0</td>\n",
       "      <td>0</td>\n",
       "      <td>0</td>\n",
       "      <td>0</td>\n",
       "      <td>1</td>\n",
       "      <td>0</td>\n",
       "      <td>0</td>\n",
       "      <td>0</td>\n",
       "      <td>1</td>\n",
       "      <td>1</td>\n",
       "      <td>0</td>\n",
       "      <td>...</td>\n",
       "      <td>0</td>\n",
       "      <td>0</td>\n",
       "      <td>0</td>\n",
       "      <td>0</td>\n",
       "      <td>0</td>\n",
       "      <td>0</td>\n",
       "      <td>0</td>\n",
       "      <td>0</td>\n",
       "      <td>0</td>\n",
       "      <td>0</td>\n",
       "    </tr>\n",
       "    <tr>\n",
       "      <td>1</td>\n",
       "      <td>0</td>\n",
       "      <td>0</td>\n",
       "      <td>0</td>\n",
       "      <td>1</td>\n",
       "      <td>0</td>\n",
       "      <td>0</td>\n",
       "      <td>0</td>\n",
       "      <td>1</td>\n",
       "      <td>1</td>\n",
       "      <td>0</td>\n",
       "      <td>...</td>\n",
       "      <td>0</td>\n",
       "      <td>0</td>\n",
       "      <td>0</td>\n",
       "      <td>0</td>\n",
       "      <td>0</td>\n",
       "      <td>0</td>\n",
       "      <td>0</td>\n",
       "      <td>0</td>\n",
       "      <td>0</td>\n",
       "      <td>0</td>\n",
       "    </tr>\n",
       "    <tr>\n",
       "      <td>3</td>\n",
       "      <td>0</td>\n",
       "      <td>0</td>\n",
       "      <td>0</td>\n",
       "      <td>0</td>\n",
       "      <td>0</td>\n",
       "      <td>0</td>\n",
       "      <td>0</td>\n",
       "      <td>0</td>\n",
       "      <td>0</td>\n",
       "      <td>0</td>\n",
       "      <td>...</td>\n",
       "      <td>0</td>\n",
       "      <td>0</td>\n",
       "      <td>0</td>\n",
       "      <td>0</td>\n",
       "      <td>0</td>\n",
       "      <td>0</td>\n",
       "      <td>0</td>\n",
       "      <td>0</td>\n",
       "      <td>0</td>\n",
       "      <td>0</td>\n",
       "    </tr>\n",
       "    <tr>\n",
       "      <td>13</td>\n",
       "      <td>0</td>\n",
       "      <td>0</td>\n",
       "      <td>0</td>\n",
       "      <td>0</td>\n",
       "      <td>0</td>\n",
       "      <td>0</td>\n",
       "      <td>0</td>\n",
       "      <td>0</td>\n",
       "      <td>1</td>\n",
       "      <td>0</td>\n",
       "      <td>...</td>\n",
       "      <td>0</td>\n",
       "      <td>0</td>\n",
       "      <td>0</td>\n",
       "      <td>0</td>\n",
       "      <td>0</td>\n",
       "      <td>0</td>\n",
       "      <td>0</td>\n",
       "      <td>0</td>\n",
       "      <td>0</td>\n",
       "      <td>0</td>\n",
       "    </tr>\n",
       "    <tr>\n",
       "      <td>37</td>\n",
       "      <td>0</td>\n",
       "      <td>0</td>\n",
       "      <td>0</td>\n",
       "      <td>0</td>\n",
       "      <td>0</td>\n",
       "      <td>0</td>\n",
       "      <td>0</td>\n",
       "      <td>0</td>\n",
       "      <td>0</td>\n",
       "      <td>0</td>\n",
       "      <td>...</td>\n",
       "      <td>0</td>\n",
       "      <td>0</td>\n",
       "      <td>0</td>\n",
       "      <td>0</td>\n",
       "      <td>0</td>\n",
       "      <td>0</td>\n",
       "      <td>0</td>\n",
       "      <td>0</td>\n",
       "      <td>0</td>\n",
       "      <td>0</td>\n",
       "    </tr>\n",
       "    <tr>\n",
       "      <td>...</td>\n",
       "      <td>...</td>\n",
       "      <td>...</td>\n",
       "      <td>...</td>\n",
       "      <td>...</td>\n",
       "      <td>...</td>\n",
       "      <td>...</td>\n",
       "      <td>...</td>\n",
       "      <td>...</td>\n",
       "      <td>...</td>\n",
       "      <td>...</td>\n",
       "      <td>...</td>\n",
       "      <td>...</td>\n",
       "      <td>...</td>\n",
       "      <td>...</td>\n",
       "      <td>...</td>\n",
       "      <td>...</td>\n",
       "      <td>...</td>\n",
       "      <td>...</td>\n",
       "      <td>...</td>\n",
       "      <td>...</td>\n",
       "      <td>...</td>\n",
       "    </tr>\n",
       "    <tr>\n",
       "      <td>14530</td>\n",
       "      <td>0</td>\n",
       "      <td>0</td>\n",
       "      <td>0</td>\n",
       "      <td>2</td>\n",
       "      <td>0</td>\n",
       "      <td>0</td>\n",
       "      <td>0</td>\n",
       "      <td>0</td>\n",
       "      <td>0</td>\n",
       "      <td>0</td>\n",
       "      <td>...</td>\n",
       "      <td>0</td>\n",
       "      <td>0</td>\n",
       "      <td>0</td>\n",
       "      <td>0</td>\n",
       "      <td>0</td>\n",
       "      <td>0</td>\n",
       "      <td>0</td>\n",
       "      <td>0</td>\n",
       "      <td>0</td>\n",
       "      <td>0</td>\n",
       "    </tr>\n",
       "    <tr>\n",
       "      <td>14547</td>\n",
       "      <td>0</td>\n",
       "      <td>0</td>\n",
       "      <td>0</td>\n",
       "      <td>0</td>\n",
       "      <td>0</td>\n",
       "      <td>0</td>\n",
       "      <td>0</td>\n",
       "      <td>0</td>\n",
       "      <td>0</td>\n",
       "      <td>0</td>\n",
       "      <td>...</td>\n",
       "      <td>0</td>\n",
       "      <td>0</td>\n",
       "      <td>0</td>\n",
       "      <td>0</td>\n",
       "      <td>0</td>\n",
       "      <td>0</td>\n",
       "      <td>0</td>\n",
       "      <td>0</td>\n",
       "      <td>0</td>\n",
       "      <td>0</td>\n",
       "    </tr>\n",
       "    <tr>\n",
       "      <td>14549</td>\n",
       "      <td>0</td>\n",
       "      <td>0</td>\n",
       "      <td>0</td>\n",
       "      <td>0</td>\n",
       "      <td>0</td>\n",
       "      <td>0</td>\n",
       "      <td>0</td>\n",
       "      <td>0</td>\n",
       "      <td>0</td>\n",
       "      <td>0</td>\n",
       "      <td>...</td>\n",
       "      <td>0</td>\n",
       "      <td>0</td>\n",
       "      <td>0</td>\n",
       "      <td>0</td>\n",
       "      <td>0</td>\n",
       "      <td>0</td>\n",
       "      <td>0</td>\n",
       "      <td>0</td>\n",
       "      <td>0</td>\n",
       "      <td>0</td>\n",
       "    </tr>\n",
       "    <tr>\n",
       "      <td>14561</td>\n",
       "      <td>0</td>\n",
       "      <td>0</td>\n",
       "      <td>0</td>\n",
       "      <td>0</td>\n",
       "      <td>0</td>\n",
       "      <td>0</td>\n",
       "      <td>0</td>\n",
       "      <td>0</td>\n",
       "      <td>0</td>\n",
       "      <td>0</td>\n",
       "      <td>...</td>\n",
       "      <td>0</td>\n",
       "      <td>0</td>\n",
       "      <td>0</td>\n",
       "      <td>0</td>\n",
       "      <td>0</td>\n",
       "      <td>0</td>\n",
       "      <td>0</td>\n",
       "      <td>0</td>\n",
       "      <td>0</td>\n",
       "      <td>0</td>\n",
       "    </tr>\n",
       "    <tr>\n",
       "      <td>14571</td>\n",
       "      <td>1</td>\n",
       "      <td>0</td>\n",
       "      <td>0</td>\n",
       "      <td>0</td>\n",
       "      <td>0</td>\n",
       "      <td>0</td>\n",
       "      <td>0</td>\n",
       "      <td>0</td>\n",
       "      <td>0</td>\n",
       "      <td>0</td>\n",
       "      <td>...</td>\n",
       "      <td>0</td>\n",
       "      <td>0</td>\n",
       "      <td>0</td>\n",
       "      <td>0</td>\n",
       "      <td>0</td>\n",
       "      <td>0</td>\n",
       "      <td>0</td>\n",
       "      <td>0</td>\n",
       "      <td>0</td>\n",
       "      <td>0</td>\n",
       "    </tr>\n",
       "  </tbody>\n",
       "</table>\n",
       "<p>1451 rows × 900 columns</p>\n",
       "</div>"
      ],
      "text/plain": [
       "             0    1    2    3    4    5    6    7    8    9    ...  890  891  \\\n",
       "MATERIAL_ID                                                    ...             \n",
       "0              0    0    0    1    0    0    0    1    1    0  ...    0    0   \n",
       "1              0    0    0    1    0    0    0    1    1    0  ...    0    0   \n",
       "3              0    0    0    0    0    0    0    0    0    0  ...    0    0   \n",
       "13             0    0    0    0    0    0    0    0    1    0  ...    0    0   \n",
       "37             0    0    0    0    0    0    0    0    0    0  ...    0    0   \n",
       "...          ...  ...  ...  ...  ...  ...  ...  ...  ...  ...  ...  ...  ...   \n",
       "14530          0    0    0    2    0    0    0    0    0    0  ...    0    0   \n",
       "14547          0    0    0    0    0    0    0    0    0    0  ...    0    0   \n",
       "14549          0    0    0    0    0    0    0    0    0    0  ...    0    0   \n",
       "14561          0    0    0    0    0    0    0    0    0    0  ...    0    0   \n",
       "14571          1    0    0    0    0    0    0    0    0    0  ...    0    0   \n",
       "\n",
       "             892  893  894  895  896  897  898  899  \n",
       "MATERIAL_ID                                          \n",
       "0              0    0    0    0    0    0    0    0  \n",
       "1              0    0    0    0    0    0    0    0  \n",
       "3              0    0    0    0    0    0    0    0  \n",
       "13             0    0    0    0    0    0    0    0  \n",
       "37             0    0    0    0    0    0    0    0  \n",
       "...          ...  ...  ...  ...  ...  ...  ...  ...  \n",
       "14530          0    0    0    0    0    0    0    0  \n",
       "14547          0    0    0    0    0    0    0    0  \n",
       "14549          0    0    0    0    0    0    0    0  \n",
       "14561          0    0    0    0    0    0    0    0  \n",
       "14571          0    0    0    0    0    0    0    0  \n",
       "\n",
       "[1451 rows x 900 columns]"
      ]
     },
     "execution_count": 3062,
     "metadata": {},
     "output_type": "execute_result"
    }
   ],
   "source": [
    "full_test_features"
   ]
  },
  {
   "cell_type": "markdown",
   "metadata": {},
   "source": [
    "#### Number of tokens each material has in test_data"
   ]
  },
  {
   "cell_type": "code",
   "execution_count": 3063,
   "metadata": {},
   "outputs": [
    {
     "data": {
      "text/plain": [
       "MATERIAL_ID\n",
       "0     23\n",
       "1     23\n",
       "3      4\n",
       "13    10\n",
       "37     6\n",
       "dtype: int64"
      ]
     },
     "execution_count": 3063,
     "metadata": {},
     "output_type": "execute_result"
    }
   ],
   "source": [
    "material_test_data = full_test_features.sum(axis = 1)\n",
    "material_test_data[:5]"
   ]
  },
  {
   "cell_type": "markdown",
   "metadata": {},
   "source": [
    "* Total number of words in test_data"
   ]
  },
  {
   "cell_type": "code",
   "execution_count": 3064,
   "metadata": {},
   "outputs": [
    {
     "data": {
      "text/plain": [
       "8935"
      ]
     },
     "execution_count": 3064,
     "metadata": {},
     "output_type": "execute_result"
    }
   ],
   "source": [
    "total_words_test_data = material_test_data.sum()\n",
    "total_words_test_data"
   ]
  },
  {
   "cell_type": "markdown",
   "metadata": {},
   "source": [
    "#### Token of ctg_1 in test_data"
   ]
  },
  {
   "cell_type": "code",
   "execution_count": 3065,
   "metadata": {},
   "outputs": [
    {
     "data": {
      "text/plain": [
       "(99,)"
      ]
     },
     "execution_count": 3065,
     "metadata": {},
     "output_type": "execute_result"
    }
   ],
   "source": [
    "ctg_1_in_test_data = material_test_data[full_test_data.CATEGORY == 1]\n",
    "ctg_1_in_test_data.shape"
   ]
  },
  {
   "cell_type": "code",
   "execution_count": 3066,
   "metadata": {},
   "outputs": [
    {
     "data": {
      "text/plain": [
       "748"
      ]
     },
     "execution_count": 3066,
     "metadata": {},
     "output_type": "execute_result"
    }
   ],
   "source": [
    "ctg_1_token_in_test_data = ctg_1_in_test_data.sum()\n",
    "ctg_1_token_in_test_data"
   ]
  },
  {
   "cell_type": "markdown",
   "metadata": {},
   "source": [
    "#### Token of ctg_0 in test_data"
   ]
  },
  {
   "cell_type": "code",
   "execution_count": 3067,
   "metadata": {},
   "outputs": [
    {
     "data": {
      "text/plain": [
       "(1352,)"
      ]
     },
     "execution_count": 3067,
     "metadata": {},
     "output_type": "execute_result"
    }
   ],
   "source": [
    "ctg_0_in_test_data = material_test_data[full_test_data.CATEGORY == 0]\n",
    "ctg_0_in_test_data.shape"
   ]
  },
  {
   "cell_type": "code",
   "execution_count": 3068,
   "metadata": {},
   "outputs": [
    {
     "data": {
      "text/plain": [
       "8187"
      ]
     },
     "execution_count": 3068,
     "metadata": {},
     "output_type": "execute_result"
    }
   ],
   "source": [
    "ctg_0_token_in_test_data = ctg_0_in_test_data.sum()\n",
    "ctg_0_token_in_test_data"
   ]
  },
  {
   "cell_type": "markdown",
   "metadata": {},
   "source": [
    "#### Average number of words in fabric and trim in test_data"
   ]
  },
  {
   "cell_type": "code",
   "execution_count": 3069,
   "metadata": {},
   "outputs": [
    {
     "name": "stdout",
     "output_type": "stream",
     "text": [
      "Average nr of words in ctg_1 8\n",
      "Average nr of words in ctg_0 6\n"
     ]
    }
   ],
   "source": [
    "print('Average nr of words in ctg_1 {:.0f}'.format(ctg_1_token_in_test_data / ctg_1_in_test_data.shape[0]))\n",
    "print('Average nr of words in ctg_0 {:.0f}'.format(ctg_0_token_in_test_data / ctg_0_in_test_data.shape[0]))"
   ]
  },
  {
   "cell_type": "markdown",
   "metadata": {},
   "source": [
    "### Frequency of tokens in test_data\n",
    "* Full feature of ctg_1 in test_data"
   ]
  },
  {
   "cell_type": "code",
   "execution_count": 3070,
   "metadata": {},
   "outputs": [
    {
     "data": {
      "text/html": [
       "<div>\n",
       "<style scoped>\n",
       "    .dataframe tbody tr th:only-of-type {\n",
       "        vertical-align: middle;\n",
       "    }\n",
       "\n",
       "    .dataframe tbody tr th {\n",
       "        vertical-align: top;\n",
       "    }\n",
       "\n",
       "    .dataframe thead th {\n",
       "        text-align: right;\n",
       "    }\n",
       "</style>\n",
       "<table border=\"1\" class=\"dataframe\">\n",
       "  <thead>\n",
       "    <tr style=\"text-align: right;\">\n",
       "      <th></th>\n",
       "      <th>0</th>\n",
       "      <th>1</th>\n",
       "      <th>2</th>\n",
       "      <th>3</th>\n",
       "      <th>4</th>\n",
       "      <th>5</th>\n",
       "      <th>6</th>\n",
       "      <th>7</th>\n",
       "      <th>8</th>\n",
       "      <th>9</th>\n",
       "      <th>...</th>\n",
       "      <th>890</th>\n",
       "      <th>891</th>\n",
       "      <th>892</th>\n",
       "      <th>893</th>\n",
       "      <th>894</th>\n",
       "      <th>895</th>\n",
       "      <th>896</th>\n",
       "      <th>897</th>\n",
       "      <th>898</th>\n",
       "      <th>899</th>\n",
       "    </tr>\n",
       "    <tr>\n",
       "      <th>MATERIAL_ID</th>\n",
       "      <th></th>\n",
       "      <th></th>\n",
       "      <th></th>\n",
       "      <th></th>\n",
       "      <th></th>\n",
       "      <th></th>\n",
       "      <th></th>\n",
       "      <th></th>\n",
       "      <th></th>\n",
       "      <th></th>\n",
       "      <th></th>\n",
       "      <th></th>\n",
       "      <th></th>\n",
       "      <th></th>\n",
       "      <th></th>\n",
       "      <th></th>\n",
       "      <th></th>\n",
       "      <th></th>\n",
       "      <th></th>\n",
       "      <th></th>\n",
       "      <th></th>\n",
       "    </tr>\n",
       "  </thead>\n",
       "  <tbody>\n",
       "    <tr>\n",
       "      <td>137</td>\n",
       "      <td>0</td>\n",
       "      <td>0</td>\n",
       "      <td>1</td>\n",
       "      <td>1</td>\n",
       "      <td>0</td>\n",
       "      <td>0</td>\n",
       "      <td>0</td>\n",
       "      <td>0</td>\n",
       "      <td>0</td>\n",
       "      <td>1</td>\n",
       "      <td>...</td>\n",
       "      <td>0</td>\n",
       "      <td>0</td>\n",
       "      <td>0</td>\n",
       "      <td>0</td>\n",
       "      <td>0</td>\n",
       "      <td>0</td>\n",
       "      <td>0</td>\n",
       "      <td>0</td>\n",
       "      <td>0</td>\n",
       "      <td>0</td>\n",
       "    </tr>\n",
       "    <tr>\n",
       "      <td>138</td>\n",
       "      <td>0</td>\n",
       "      <td>0</td>\n",
       "      <td>1</td>\n",
       "      <td>1</td>\n",
       "      <td>0</td>\n",
       "      <td>0</td>\n",
       "      <td>0</td>\n",
       "      <td>0</td>\n",
       "      <td>0</td>\n",
       "      <td>1</td>\n",
       "      <td>...</td>\n",
       "      <td>0</td>\n",
       "      <td>0</td>\n",
       "      <td>0</td>\n",
       "      <td>0</td>\n",
       "      <td>0</td>\n",
       "      <td>0</td>\n",
       "      <td>0</td>\n",
       "      <td>0</td>\n",
       "      <td>0</td>\n",
       "      <td>0</td>\n",
       "    </tr>\n",
       "    <tr>\n",
       "      <td>169</td>\n",
       "      <td>0</td>\n",
       "      <td>0</td>\n",
       "      <td>1</td>\n",
       "      <td>1</td>\n",
       "      <td>0</td>\n",
       "      <td>0</td>\n",
       "      <td>0</td>\n",
       "      <td>0</td>\n",
       "      <td>0</td>\n",
       "      <td>1</td>\n",
       "      <td>...</td>\n",
       "      <td>0</td>\n",
       "      <td>0</td>\n",
       "      <td>0</td>\n",
       "      <td>0</td>\n",
       "      <td>0</td>\n",
       "      <td>0</td>\n",
       "      <td>0</td>\n",
       "      <td>0</td>\n",
       "      <td>0</td>\n",
       "      <td>0</td>\n",
       "    </tr>\n",
       "    <tr>\n",
       "      <td>243</td>\n",
       "      <td>0</td>\n",
       "      <td>0</td>\n",
       "      <td>1</td>\n",
       "      <td>0</td>\n",
       "      <td>0</td>\n",
       "      <td>0</td>\n",
       "      <td>0</td>\n",
       "      <td>0</td>\n",
       "      <td>0</td>\n",
       "      <td>0</td>\n",
       "      <td>...</td>\n",
       "      <td>0</td>\n",
       "      <td>0</td>\n",
       "      <td>0</td>\n",
       "      <td>0</td>\n",
       "      <td>0</td>\n",
       "      <td>0</td>\n",
       "      <td>0</td>\n",
       "      <td>0</td>\n",
       "      <td>0</td>\n",
       "      <td>0</td>\n",
       "    </tr>\n",
       "    <tr>\n",
       "      <td>311</td>\n",
       "      <td>0</td>\n",
       "      <td>0</td>\n",
       "      <td>1</td>\n",
       "      <td>1</td>\n",
       "      <td>0</td>\n",
       "      <td>0</td>\n",
       "      <td>0</td>\n",
       "      <td>0</td>\n",
       "      <td>0</td>\n",
       "      <td>1</td>\n",
       "      <td>...</td>\n",
       "      <td>0</td>\n",
       "      <td>0</td>\n",
       "      <td>0</td>\n",
       "      <td>0</td>\n",
       "      <td>0</td>\n",
       "      <td>0</td>\n",
       "      <td>0</td>\n",
       "      <td>0</td>\n",
       "      <td>0</td>\n",
       "      <td>0</td>\n",
       "    </tr>\n",
       "    <tr>\n",
       "      <td>...</td>\n",
       "      <td>...</td>\n",
       "      <td>...</td>\n",
       "      <td>...</td>\n",
       "      <td>...</td>\n",
       "      <td>...</td>\n",
       "      <td>...</td>\n",
       "      <td>...</td>\n",
       "      <td>...</td>\n",
       "      <td>...</td>\n",
       "      <td>...</td>\n",
       "      <td>...</td>\n",
       "      <td>...</td>\n",
       "      <td>...</td>\n",
       "      <td>...</td>\n",
       "      <td>...</td>\n",
       "      <td>...</td>\n",
       "      <td>...</td>\n",
       "      <td>...</td>\n",
       "      <td>...</td>\n",
       "      <td>...</td>\n",
       "      <td>...</td>\n",
       "    </tr>\n",
       "    <tr>\n",
       "      <td>9770</td>\n",
       "      <td>0</td>\n",
       "      <td>0</td>\n",
       "      <td>2</td>\n",
       "      <td>1</td>\n",
       "      <td>0</td>\n",
       "      <td>0</td>\n",
       "      <td>0</td>\n",
       "      <td>0</td>\n",
       "      <td>0</td>\n",
       "      <td>1</td>\n",
       "      <td>...</td>\n",
       "      <td>0</td>\n",
       "      <td>0</td>\n",
       "      <td>0</td>\n",
       "      <td>0</td>\n",
       "      <td>0</td>\n",
       "      <td>0</td>\n",
       "      <td>0</td>\n",
       "      <td>0</td>\n",
       "      <td>0</td>\n",
       "      <td>0</td>\n",
       "    </tr>\n",
       "    <tr>\n",
       "      <td>9861</td>\n",
       "      <td>0</td>\n",
       "      <td>0</td>\n",
       "      <td>2</td>\n",
       "      <td>1</td>\n",
       "      <td>0</td>\n",
       "      <td>0</td>\n",
       "      <td>0</td>\n",
       "      <td>0</td>\n",
       "      <td>0</td>\n",
       "      <td>0</td>\n",
       "      <td>...</td>\n",
       "      <td>0</td>\n",
       "      <td>0</td>\n",
       "      <td>0</td>\n",
       "      <td>0</td>\n",
       "      <td>0</td>\n",
       "      <td>0</td>\n",
       "      <td>0</td>\n",
       "      <td>0</td>\n",
       "      <td>0</td>\n",
       "      <td>0</td>\n",
       "    </tr>\n",
       "    <tr>\n",
       "      <td>9933</td>\n",
       "      <td>0</td>\n",
       "      <td>0</td>\n",
       "      <td>1</td>\n",
       "      <td>0</td>\n",
       "      <td>0</td>\n",
       "      <td>0</td>\n",
       "      <td>0</td>\n",
       "      <td>0</td>\n",
       "      <td>0</td>\n",
       "      <td>0</td>\n",
       "      <td>...</td>\n",
       "      <td>0</td>\n",
       "      <td>0</td>\n",
       "      <td>0</td>\n",
       "      <td>0</td>\n",
       "      <td>0</td>\n",
       "      <td>0</td>\n",
       "      <td>0</td>\n",
       "      <td>0</td>\n",
       "      <td>0</td>\n",
       "      <td>0</td>\n",
       "    </tr>\n",
       "    <tr>\n",
       "      <td>9987</td>\n",
       "      <td>0</td>\n",
       "      <td>0</td>\n",
       "      <td>2</td>\n",
       "      <td>1</td>\n",
       "      <td>0</td>\n",
       "      <td>0</td>\n",
       "      <td>0</td>\n",
       "      <td>0</td>\n",
       "      <td>0</td>\n",
       "      <td>0</td>\n",
       "      <td>...</td>\n",
       "      <td>0</td>\n",
       "      <td>0</td>\n",
       "      <td>0</td>\n",
       "      <td>0</td>\n",
       "      <td>0</td>\n",
       "      <td>0</td>\n",
       "      <td>0</td>\n",
       "      <td>0</td>\n",
       "      <td>0</td>\n",
       "      <td>0</td>\n",
       "    </tr>\n",
       "    <tr>\n",
       "      <td>14350</td>\n",
       "      <td>0</td>\n",
       "      <td>0</td>\n",
       "      <td>3</td>\n",
       "      <td>0</td>\n",
       "      <td>0</td>\n",
       "      <td>0</td>\n",
       "      <td>0</td>\n",
       "      <td>0</td>\n",
       "      <td>1</td>\n",
       "      <td>0</td>\n",
       "      <td>...</td>\n",
       "      <td>0</td>\n",
       "      <td>0</td>\n",
       "      <td>0</td>\n",
       "      <td>0</td>\n",
       "      <td>0</td>\n",
       "      <td>0</td>\n",
       "      <td>0</td>\n",
       "      <td>0</td>\n",
       "      <td>0</td>\n",
       "      <td>0</td>\n",
       "    </tr>\n",
       "  </tbody>\n",
       "</table>\n",
       "<p>99 rows × 900 columns</p>\n",
       "</div>"
      ],
      "text/plain": [
       "             0    1    2    3    4    5    6    7    8    9    ...  890  891  \\\n",
       "MATERIAL_ID                                                    ...             \n",
       "137            0    0    1    1    0    0    0    0    0    1  ...    0    0   \n",
       "138            0    0    1    1    0    0    0    0    0    1  ...    0    0   \n",
       "169            0    0    1    1    0    0    0    0    0    1  ...    0    0   \n",
       "243            0    0    1    0    0    0    0    0    0    0  ...    0    0   \n",
       "311            0    0    1    1    0    0    0    0    0    1  ...    0    0   \n",
       "...          ...  ...  ...  ...  ...  ...  ...  ...  ...  ...  ...  ...  ...   \n",
       "9770           0    0    2    1    0    0    0    0    0    1  ...    0    0   \n",
       "9861           0    0    2    1    0    0    0    0    0    0  ...    0    0   \n",
       "9933           0    0    1    0    0    0    0    0    0    0  ...    0    0   \n",
       "9987           0    0    2    1    0    0    0    0    0    0  ...    0    0   \n",
       "14350          0    0    3    0    0    0    0    0    1    0  ...    0    0   \n",
       "\n",
       "             892  893  894  895  896  897  898  899  \n",
       "MATERIAL_ID                                          \n",
       "137            0    0    0    0    0    0    0    0  \n",
       "138            0    0    0    0    0    0    0    0  \n",
       "169            0    0    0    0    0    0    0    0  \n",
       "243            0    0    0    0    0    0    0    0  \n",
       "311            0    0    0    0    0    0    0    0  \n",
       "...          ...  ...  ...  ...  ...  ...  ...  ...  \n",
       "9770           0    0    0    0    0    0    0    0  \n",
       "9861           0    0    0    0    0    0    0    0  \n",
       "9933           0    0    0    0    0    0    0    0  \n",
       "9987           0    0    0    0    0    0    0    0  \n",
       "14350          0    0    0    0    0    0    0    0  \n",
       "\n",
       "[99 rows x 900 columns]"
      ]
     },
     "execution_count": 3070,
     "metadata": {},
     "output_type": "execute_result"
    }
   ],
   "source": [
    "ctg_1_full_test_features = full_test_features.loc[full_test_data.CATEGORY == 1]\n",
    "ctg_1_full_test_features"
   ]
  },
  {
   "cell_type": "markdown",
   "metadata": {},
   "source": [
    "* Full feature of ctg_0 in test_data"
   ]
  },
  {
   "cell_type": "code",
   "execution_count": 3071,
   "metadata": {},
   "outputs": [
    {
     "data": {
      "text/html": [
       "<div>\n",
       "<style scoped>\n",
       "    .dataframe tbody tr th:only-of-type {\n",
       "        vertical-align: middle;\n",
       "    }\n",
       "\n",
       "    .dataframe tbody tr th {\n",
       "        vertical-align: top;\n",
       "    }\n",
       "\n",
       "    .dataframe thead th {\n",
       "        text-align: right;\n",
       "    }\n",
       "</style>\n",
       "<table border=\"1\" class=\"dataframe\">\n",
       "  <thead>\n",
       "    <tr style=\"text-align: right;\">\n",
       "      <th></th>\n",
       "      <th>0</th>\n",
       "      <th>1</th>\n",
       "      <th>2</th>\n",
       "      <th>3</th>\n",
       "      <th>4</th>\n",
       "      <th>5</th>\n",
       "      <th>6</th>\n",
       "      <th>7</th>\n",
       "      <th>8</th>\n",
       "      <th>9</th>\n",
       "      <th>...</th>\n",
       "      <th>890</th>\n",
       "      <th>891</th>\n",
       "      <th>892</th>\n",
       "      <th>893</th>\n",
       "      <th>894</th>\n",
       "      <th>895</th>\n",
       "      <th>896</th>\n",
       "      <th>897</th>\n",
       "      <th>898</th>\n",
       "      <th>899</th>\n",
       "    </tr>\n",
       "    <tr>\n",
       "      <th>MATERIAL_ID</th>\n",
       "      <th></th>\n",
       "      <th></th>\n",
       "      <th></th>\n",
       "      <th></th>\n",
       "      <th></th>\n",
       "      <th></th>\n",
       "      <th></th>\n",
       "      <th></th>\n",
       "      <th></th>\n",
       "      <th></th>\n",
       "      <th></th>\n",
       "      <th></th>\n",
       "      <th></th>\n",
       "      <th></th>\n",
       "      <th></th>\n",
       "      <th></th>\n",
       "      <th></th>\n",
       "      <th></th>\n",
       "      <th></th>\n",
       "      <th></th>\n",
       "      <th></th>\n",
       "    </tr>\n",
       "  </thead>\n",
       "  <tbody>\n",
       "    <tr>\n",
       "      <td>0</td>\n",
       "      <td>0</td>\n",
       "      <td>0</td>\n",
       "      <td>0</td>\n",
       "      <td>1</td>\n",
       "      <td>0</td>\n",
       "      <td>0</td>\n",
       "      <td>0</td>\n",
       "      <td>1</td>\n",
       "      <td>1</td>\n",
       "      <td>0</td>\n",
       "      <td>...</td>\n",
       "      <td>0</td>\n",
       "      <td>0</td>\n",
       "      <td>0</td>\n",
       "      <td>0</td>\n",
       "      <td>0</td>\n",
       "      <td>0</td>\n",
       "      <td>0</td>\n",
       "      <td>0</td>\n",
       "      <td>0</td>\n",
       "      <td>0</td>\n",
       "    </tr>\n",
       "    <tr>\n",
       "      <td>1</td>\n",
       "      <td>0</td>\n",
       "      <td>0</td>\n",
       "      <td>0</td>\n",
       "      <td>1</td>\n",
       "      <td>0</td>\n",
       "      <td>0</td>\n",
       "      <td>0</td>\n",
       "      <td>1</td>\n",
       "      <td>1</td>\n",
       "      <td>0</td>\n",
       "      <td>...</td>\n",
       "      <td>0</td>\n",
       "      <td>0</td>\n",
       "      <td>0</td>\n",
       "      <td>0</td>\n",
       "      <td>0</td>\n",
       "      <td>0</td>\n",
       "      <td>0</td>\n",
       "      <td>0</td>\n",
       "      <td>0</td>\n",
       "      <td>0</td>\n",
       "    </tr>\n",
       "    <tr>\n",
       "      <td>3</td>\n",
       "      <td>0</td>\n",
       "      <td>0</td>\n",
       "      <td>0</td>\n",
       "      <td>0</td>\n",
       "      <td>0</td>\n",
       "      <td>0</td>\n",
       "      <td>0</td>\n",
       "      <td>0</td>\n",
       "      <td>0</td>\n",
       "      <td>0</td>\n",
       "      <td>...</td>\n",
       "      <td>0</td>\n",
       "      <td>0</td>\n",
       "      <td>0</td>\n",
       "      <td>0</td>\n",
       "      <td>0</td>\n",
       "      <td>0</td>\n",
       "      <td>0</td>\n",
       "      <td>0</td>\n",
       "      <td>0</td>\n",
       "      <td>0</td>\n",
       "    </tr>\n",
       "    <tr>\n",
       "      <td>13</td>\n",
       "      <td>0</td>\n",
       "      <td>0</td>\n",
       "      <td>0</td>\n",
       "      <td>0</td>\n",
       "      <td>0</td>\n",
       "      <td>0</td>\n",
       "      <td>0</td>\n",
       "      <td>0</td>\n",
       "      <td>1</td>\n",
       "      <td>0</td>\n",
       "      <td>...</td>\n",
       "      <td>0</td>\n",
       "      <td>0</td>\n",
       "      <td>0</td>\n",
       "      <td>0</td>\n",
       "      <td>0</td>\n",
       "      <td>0</td>\n",
       "      <td>0</td>\n",
       "      <td>0</td>\n",
       "      <td>0</td>\n",
       "      <td>0</td>\n",
       "    </tr>\n",
       "    <tr>\n",
       "      <td>37</td>\n",
       "      <td>0</td>\n",
       "      <td>0</td>\n",
       "      <td>0</td>\n",
       "      <td>0</td>\n",
       "      <td>0</td>\n",
       "      <td>0</td>\n",
       "      <td>0</td>\n",
       "      <td>0</td>\n",
       "      <td>0</td>\n",
       "      <td>0</td>\n",
       "      <td>...</td>\n",
       "      <td>0</td>\n",
       "      <td>0</td>\n",
       "      <td>0</td>\n",
       "      <td>0</td>\n",
       "      <td>0</td>\n",
       "      <td>0</td>\n",
       "      <td>0</td>\n",
       "      <td>0</td>\n",
       "      <td>0</td>\n",
       "      <td>0</td>\n",
       "    </tr>\n",
       "    <tr>\n",
       "      <td>...</td>\n",
       "      <td>...</td>\n",
       "      <td>...</td>\n",
       "      <td>...</td>\n",
       "      <td>...</td>\n",
       "      <td>...</td>\n",
       "      <td>...</td>\n",
       "      <td>...</td>\n",
       "      <td>...</td>\n",
       "      <td>...</td>\n",
       "      <td>...</td>\n",
       "      <td>...</td>\n",
       "      <td>...</td>\n",
       "      <td>...</td>\n",
       "      <td>...</td>\n",
       "      <td>...</td>\n",
       "      <td>...</td>\n",
       "      <td>...</td>\n",
       "      <td>...</td>\n",
       "      <td>...</td>\n",
       "      <td>...</td>\n",
       "      <td>...</td>\n",
       "    </tr>\n",
       "    <tr>\n",
       "      <td>14530</td>\n",
       "      <td>0</td>\n",
       "      <td>0</td>\n",
       "      <td>0</td>\n",
       "      <td>2</td>\n",
       "      <td>0</td>\n",
       "      <td>0</td>\n",
       "      <td>0</td>\n",
       "      <td>0</td>\n",
       "      <td>0</td>\n",
       "      <td>0</td>\n",
       "      <td>...</td>\n",
       "      <td>0</td>\n",
       "      <td>0</td>\n",
       "      <td>0</td>\n",
       "      <td>0</td>\n",
       "      <td>0</td>\n",
       "      <td>0</td>\n",
       "      <td>0</td>\n",
       "      <td>0</td>\n",
       "      <td>0</td>\n",
       "      <td>0</td>\n",
       "    </tr>\n",
       "    <tr>\n",
       "      <td>14547</td>\n",
       "      <td>0</td>\n",
       "      <td>0</td>\n",
       "      <td>0</td>\n",
       "      <td>0</td>\n",
       "      <td>0</td>\n",
       "      <td>0</td>\n",
       "      <td>0</td>\n",
       "      <td>0</td>\n",
       "      <td>0</td>\n",
       "      <td>0</td>\n",
       "      <td>...</td>\n",
       "      <td>0</td>\n",
       "      <td>0</td>\n",
       "      <td>0</td>\n",
       "      <td>0</td>\n",
       "      <td>0</td>\n",
       "      <td>0</td>\n",
       "      <td>0</td>\n",
       "      <td>0</td>\n",
       "      <td>0</td>\n",
       "      <td>0</td>\n",
       "    </tr>\n",
       "    <tr>\n",
       "      <td>14549</td>\n",
       "      <td>0</td>\n",
       "      <td>0</td>\n",
       "      <td>0</td>\n",
       "      <td>0</td>\n",
       "      <td>0</td>\n",
       "      <td>0</td>\n",
       "      <td>0</td>\n",
       "      <td>0</td>\n",
       "      <td>0</td>\n",
       "      <td>0</td>\n",
       "      <td>...</td>\n",
       "      <td>0</td>\n",
       "      <td>0</td>\n",
       "      <td>0</td>\n",
       "      <td>0</td>\n",
       "      <td>0</td>\n",
       "      <td>0</td>\n",
       "      <td>0</td>\n",
       "      <td>0</td>\n",
       "      <td>0</td>\n",
       "      <td>0</td>\n",
       "    </tr>\n",
       "    <tr>\n",
       "      <td>14561</td>\n",
       "      <td>0</td>\n",
       "      <td>0</td>\n",
       "      <td>0</td>\n",
       "      <td>0</td>\n",
       "      <td>0</td>\n",
       "      <td>0</td>\n",
       "      <td>0</td>\n",
       "      <td>0</td>\n",
       "      <td>0</td>\n",
       "      <td>0</td>\n",
       "      <td>...</td>\n",
       "      <td>0</td>\n",
       "      <td>0</td>\n",
       "      <td>0</td>\n",
       "      <td>0</td>\n",
       "      <td>0</td>\n",
       "      <td>0</td>\n",
       "      <td>0</td>\n",
       "      <td>0</td>\n",
       "      <td>0</td>\n",
       "      <td>0</td>\n",
       "    </tr>\n",
       "    <tr>\n",
       "      <td>14571</td>\n",
       "      <td>1</td>\n",
       "      <td>0</td>\n",
       "      <td>0</td>\n",
       "      <td>0</td>\n",
       "      <td>0</td>\n",
       "      <td>0</td>\n",
       "      <td>0</td>\n",
       "      <td>0</td>\n",
       "      <td>0</td>\n",
       "      <td>0</td>\n",
       "      <td>...</td>\n",
       "      <td>0</td>\n",
       "      <td>0</td>\n",
       "      <td>0</td>\n",
       "      <td>0</td>\n",
       "      <td>0</td>\n",
       "      <td>0</td>\n",
       "      <td>0</td>\n",
       "      <td>0</td>\n",
       "      <td>0</td>\n",
       "      <td>0</td>\n",
       "    </tr>\n",
       "  </tbody>\n",
       "</table>\n",
       "<p>1352 rows × 900 columns</p>\n",
       "</div>"
      ],
      "text/plain": [
       "             0    1    2    3    4    5    6    7    8    9    ...  890  891  \\\n",
       "MATERIAL_ID                                                    ...             \n",
       "0              0    0    0    1    0    0    0    1    1    0  ...    0    0   \n",
       "1              0    0    0    1    0    0    0    1    1    0  ...    0    0   \n",
       "3              0    0    0    0    0    0    0    0    0    0  ...    0    0   \n",
       "13             0    0    0    0    0    0    0    0    1    0  ...    0    0   \n",
       "37             0    0    0    0    0    0    0    0    0    0  ...    0    0   \n",
       "...          ...  ...  ...  ...  ...  ...  ...  ...  ...  ...  ...  ...  ...   \n",
       "14530          0    0    0    2    0    0    0    0    0    0  ...    0    0   \n",
       "14547          0    0    0    0    0    0    0    0    0    0  ...    0    0   \n",
       "14549          0    0    0    0    0    0    0    0    0    0  ...    0    0   \n",
       "14561          0    0    0    0    0    0    0    0    0    0  ...    0    0   \n",
       "14571          1    0    0    0    0    0    0    0    0    0  ...    0    0   \n",
       "\n",
       "             892  893  894  895  896  897  898  899  \n",
       "MATERIAL_ID                                          \n",
       "0              0    0    0    0    0    0    0    0  \n",
       "1              0    0    0    0    0    0    0    0  \n",
       "3              0    0    0    0    0    0    0    0  \n",
       "13             0    0    0    0    0    0    0    0  \n",
       "37             0    0    0    0    0    0    0    0  \n",
       "...          ...  ...  ...  ...  ...  ...  ...  ...  \n",
       "14530          0    0    0    0    0    0    0    0  \n",
       "14547          0    0    0    0    0    0    0    0  \n",
       "14549          0    0    0    0    0    0    0    0  \n",
       "14561          0    0    0    0    0    0    0    0  \n",
       "14571          0    0    0    0    0    0    0    0  \n",
       "\n",
       "[1352 rows x 900 columns]"
      ]
     },
     "execution_count": 3071,
     "metadata": {},
     "output_type": "execute_result"
    }
   ],
   "source": [
    "ctg_0_full_test_features = full_test_features.loc[full_test_data.CATEGORY == 0]\n",
    "ctg_0_full_test_features"
   ]
  },
  {
   "cell_type": "markdown",
   "metadata": {},
   "source": [
    "#### Frequency of tokens in ctg_1 in test_data"
   ]
  },
  {
   "cell_type": "code",
   "execution_count": 3072,
   "metadata": {},
   "outputs": [
    {
     "data": {
      "text/plain": [
       "0        4\n",
       "1        1\n",
       "2      153\n",
       "3       47\n",
       "4        2\n",
       "      ... \n",
       "895      1\n",
       "896      1\n",
       "897      1\n",
       "898      1\n",
       "899      1\n",
       "Length: 900, dtype: int64"
      ]
     },
     "execution_count": 3072,
     "metadata": {},
     "output_type": "execute_result"
    }
   ],
   "source": [
    "summed_ctg_1_tokens_in_test_data = ctg_1_full_test_features.sum(axis = 0) +1 \n",
    "summed_ctg_1_tokens_in_test_data"
   ]
  },
  {
   "cell_type": "markdown",
   "metadata": {},
   "source": [
    "#### Frequency of tokens in ctg_0 in test_data"
   ]
  },
  {
   "cell_type": "code",
   "execution_count": 3073,
   "metadata": {},
   "outputs": [
    {
     "data": {
      "text/plain": [
       "0      227\n",
       "1      213\n",
       "2       39\n",
       "3      105\n",
       "4      157\n",
       "      ... \n",
       "895      2\n",
       "896      1\n",
       "897      1\n",
       "898      1\n",
       "899      1\n",
       "Length: 900, dtype: int64"
      ]
     },
     "execution_count": 3073,
     "metadata": {},
     "output_type": "execute_result"
    }
   ],
   "source": [
    "summed_ctg_0_tokens_in_test_data = ctg_0_full_test_features.sum(axis = 0) +1 \n",
    "summed_ctg_0_tokens_in_test_data"
   ]
  },
  {
   "cell_type": "markdown",
   "metadata": {},
   "source": [
    "## P of Test Set\n",
    "* ### P( Token | ctg_1 )"
   ]
  },
  {
   "cell_type": "code",
   "execution_count": 3074,
   "metadata": {},
   "outputs": [],
   "source": [
    "prob_tokens_ctg_1_test_set = summed_ctg_1_tokens_in_test_data / (ctg_1_token_in_test_data + VOCAB_SIZE)"
   ]
  },
  {
   "cell_type": "code",
   "execution_count": 3075,
   "metadata": {},
   "outputs": [
    {
     "data": {
      "text/plain": [
       "0      0.002427\n",
       "1      0.000607\n",
       "2      0.092840\n",
       "3      0.028519\n",
       "4      0.001214\n",
       "         ...   \n",
       "895    0.000607\n",
       "896    0.000607\n",
       "897    0.000607\n",
       "898    0.000607\n",
       "899    0.000607\n",
       "Length: 900, dtype: float64"
      ]
     },
     "execution_count": 3075,
     "metadata": {},
     "output_type": "execute_result"
    }
   ],
   "source": [
    "prob_tokens_ctg_1_test_set"
   ]
  },
  {
   "cell_type": "markdown",
   "metadata": {},
   "source": [
    "* ### P( Token | ctg_0 )"
   ]
  },
  {
   "cell_type": "code",
   "execution_count": 3076,
   "metadata": {},
   "outputs": [],
   "source": [
    "prob_tokens_ctg_0_test_set = summed_ctg_0_tokens_in_test_data / (ctg_0_token_in_test_data + VOCAB_SIZE)"
   ]
  },
  {
   "cell_type": "code",
   "execution_count": 3077,
   "metadata": {},
   "outputs": [
    {
     "data": {
      "text/plain": [
       "0      0.024981\n",
       "1      0.023440\n",
       "2      0.004292\n",
       "3      0.011555\n",
       "4      0.017277\n",
       "         ...   \n",
       "895    0.000220\n",
       "896    0.000110\n",
       "897    0.000110\n",
       "898    0.000110\n",
       "899    0.000110\n",
       "Length: 900, dtype: float64"
      ]
     },
     "execution_count": 3077,
     "metadata": {},
     "output_type": "execute_result"
    }
   ],
   "source": [
    "prob_tokens_ctg_0_test_set"
   ]
  },
  {
   "cell_type": "markdown",
   "metadata": {},
   "source": [
    "* ### P( Token )"
   ]
  },
  {
   "cell_type": "code",
   "execution_count": 3078,
   "metadata": {},
   "outputs": [],
   "source": [
    "prob_tokens_all_test_set = full_test_features.sum(axis = 0) / total_words_test_data"
   ]
  },
  {
   "cell_type": "code",
   "execution_count": 3079,
   "metadata": {},
   "outputs": [
    {
     "data": {
      "text/plain": [
       "0      0.025630\n",
       "1      0.023727\n",
       "2      0.021265\n",
       "3      0.016788\n",
       "4      0.017571\n",
       "         ...   \n",
       "895    0.000112\n",
       "896    0.000000\n",
       "897    0.000000\n",
       "898    0.000000\n",
       "899    0.000000\n",
       "Length: 900, dtype: float64"
      ]
     },
     "execution_count": 3079,
     "metadata": {},
     "output_type": "execute_result"
    }
   ],
   "source": [
    "prob_tokens_all_test_set"
   ]
  },
  {
   "cell_type": "code",
   "execution_count": 3080,
   "metadata": {},
   "outputs": [
    {
     "data": {
      "text/plain": [
       "1.0"
      ]
     },
     "execution_count": 3080,
     "metadata": {},
     "output_type": "execute_result"
    }
   ],
   "source": [
    "prob_tokens_all_test_set.sum()"
   ]
  },
  {
   "cell_type": "markdown",
   "metadata": {},
   "source": [
    "### Save the test Model\n",
    "* P( Token | ctg_1 )\n",
    "* P( Token | ctg_0 )\n",
    "* P ( Token )"
   ]
  },
  {
   "cell_type": "code",
   "execution_count": 3081,
   "metadata": {},
   "outputs": [],
   "source": [
    "np.savetxt('result/Trained Data/Test_set/' + SUBJECT + '_prob_tokens_ctg_1_in_test_data' ,prob_tokens_ctg_1_test_set)\n",
    "np.savetxt('result/Trained Data/Test_set/' + SUBJECT + '_prob_tokens_ctg_0_in_test_data', prob_tokens_ctg_0_test_set)\n",
    "np.savetxt('result/Trained Data/Test_set/' + SUBJECT + '_prob_tokens_all_in_test_data', prob_tokens_all_test_set)"
   ]
  },
  {
   "cell_type": "markdown",
   "metadata": {},
   "source": [
    "# Joint probability\n",
    "* Get the the full feature of test_set\n",
    "* Get full target of test_set\n",
    "* Take each cell in Full features of test_set times the probability of fabric in train_set"
   ]
  },
  {
   "cell_type": "markdown",
   "metadata": {},
   "source": [
    "### Full feature of test_set"
   ]
  },
  {
   "cell_type": "code",
   "execution_count": 3082,
   "metadata": {},
   "outputs": [
    {
     "data": {
      "text/html": [
       "<div>\n",
       "<style scoped>\n",
       "    .dataframe tbody tr th:only-of-type {\n",
       "        vertical-align: middle;\n",
       "    }\n",
       "\n",
       "    .dataframe tbody tr th {\n",
       "        vertical-align: top;\n",
       "    }\n",
       "\n",
       "    .dataframe thead th {\n",
       "        text-align: right;\n",
       "    }\n",
       "</style>\n",
       "<table border=\"1\" class=\"dataframe\">\n",
       "  <thead>\n",
       "    <tr style=\"text-align: right;\">\n",
       "      <th></th>\n",
       "      <th>0</th>\n",
       "      <th>1</th>\n",
       "      <th>2</th>\n",
       "      <th>3</th>\n",
       "      <th>4</th>\n",
       "      <th>5</th>\n",
       "      <th>6</th>\n",
       "      <th>7</th>\n",
       "      <th>8</th>\n",
       "      <th>9</th>\n",
       "      <th>...</th>\n",
       "      <th>890</th>\n",
       "      <th>891</th>\n",
       "      <th>892</th>\n",
       "      <th>893</th>\n",
       "      <th>894</th>\n",
       "      <th>895</th>\n",
       "      <th>896</th>\n",
       "      <th>897</th>\n",
       "      <th>898</th>\n",
       "      <th>899</th>\n",
       "    </tr>\n",
       "    <tr>\n",
       "      <th>MATERIAL_ID</th>\n",
       "      <th></th>\n",
       "      <th></th>\n",
       "      <th></th>\n",
       "      <th></th>\n",
       "      <th></th>\n",
       "      <th></th>\n",
       "      <th></th>\n",
       "      <th></th>\n",
       "      <th></th>\n",
       "      <th></th>\n",
       "      <th></th>\n",
       "      <th></th>\n",
       "      <th></th>\n",
       "      <th></th>\n",
       "      <th></th>\n",
       "      <th></th>\n",
       "      <th></th>\n",
       "      <th></th>\n",
       "      <th></th>\n",
       "      <th></th>\n",
       "      <th></th>\n",
       "    </tr>\n",
       "  </thead>\n",
       "  <tbody>\n",
       "    <tr>\n",
       "      <td>0</td>\n",
       "      <td>0</td>\n",
       "      <td>0</td>\n",
       "      <td>0</td>\n",
       "      <td>1</td>\n",
       "      <td>0</td>\n",
       "      <td>0</td>\n",
       "      <td>0</td>\n",
       "      <td>1</td>\n",
       "      <td>1</td>\n",
       "      <td>0</td>\n",
       "      <td>...</td>\n",
       "      <td>0</td>\n",
       "      <td>0</td>\n",
       "      <td>0</td>\n",
       "      <td>0</td>\n",
       "      <td>0</td>\n",
       "      <td>0</td>\n",
       "      <td>0</td>\n",
       "      <td>0</td>\n",
       "      <td>0</td>\n",
       "      <td>0</td>\n",
       "    </tr>\n",
       "    <tr>\n",
       "      <td>1</td>\n",
       "      <td>0</td>\n",
       "      <td>0</td>\n",
       "      <td>0</td>\n",
       "      <td>1</td>\n",
       "      <td>0</td>\n",
       "      <td>0</td>\n",
       "      <td>0</td>\n",
       "      <td>1</td>\n",
       "      <td>1</td>\n",
       "      <td>0</td>\n",
       "      <td>...</td>\n",
       "      <td>0</td>\n",
       "      <td>0</td>\n",
       "      <td>0</td>\n",
       "      <td>0</td>\n",
       "      <td>0</td>\n",
       "      <td>0</td>\n",
       "      <td>0</td>\n",
       "      <td>0</td>\n",
       "      <td>0</td>\n",
       "      <td>0</td>\n",
       "    </tr>\n",
       "    <tr>\n",
       "      <td>3</td>\n",
       "      <td>0</td>\n",
       "      <td>0</td>\n",
       "      <td>0</td>\n",
       "      <td>0</td>\n",
       "      <td>0</td>\n",
       "      <td>0</td>\n",
       "      <td>0</td>\n",
       "      <td>0</td>\n",
       "      <td>0</td>\n",
       "      <td>0</td>\n",
       "      <td>...</td>\n",
       "      <td>0</td>\n",
       "      <td>0</td>\n",
       "      <td>0</td>\n",
       "      <td>0</td>\n",
       "      <td>0</td>\n",
       "      <td>0</td>\n",
       "      <td>0</td>\n",
       "      <td>0</td>\n",
       "      <td>0</td>\n",
       "      <td>0</td>\n",
       "    </tr>\n",
       "    <tr>\n",
       "      <td>13</td>\n",
       "      <td>0</td>\n",
       "      <td>0</td>\n",
       "      <td>0</td>\n",
       "      <td>0</td>\n",
       "      <td>0</td>\n",
       "      <td>0</td>\n",
       "      <td>0</td>\n",
       "      <td>0</td>\n",
       "      <td>1</td>\n",
       "      <td>0</td>\n",
       "      <td>...</td>\n",
       "      <td>0</td>\n",
       "      <td>0</td>\n",
       "      <td>0</td>\n",
       "      <td>0</td>\n",
       "      <td>0</td>\n",
       "      <td>0</td>\n",
       "      <td>0</td>\n",
       "      <td>0</td>\n",
       "      <td>0</td>\n",
       "      <td>0</td>\n",
       "    </tr>\n",
       "    <tr>\n",
       "      <td>37</td>\n",
       "      <td>0</td>\n",
       "      <td>0</td>\n",
       "      <td>0</td>\n",
       "      <td>0</td>\n",
       "      <td>0</td>\n",
       "      <td>0</td>\n",
       "      <td>0</td>\n",
       "      <td>0</td>\n",
       "      <td>0</td>\n",
       "      <td>0</td>\n",
       "      <td>...</td>\n",
       "      <td>0</td>\n",
       "      <td>0</td>\n",
       "      <td>0</td>\n",
       "      <td>0</td>\n",
       "      <td>0</td>\n",
       "      <td>0</td>\n",
       "      <td>0</td>\n",
       "      <td>0</td>\n",
       "      <td>0</td>\n",
       "      <td>0</td>\n",
       "    </tr>\n",
       "    <tr>\n",
       "      <td>...</td>\n",
       "      <td>...</td>\n",
       "      <td>...</td>\n",
       "      <td>...</td>\n",
       "      <td>...</td>\n",
       "      <td>...</td>\n",
       "      <td>...</td>\n",
       "      <td>...</td>\n",
       "      <td>...</td>\n",
       "      <td>...</td>\n",
       "      <td>...</td>\n",
       "      <td>...</td>\n",
       "      <td>...</td>\n",
       "      <td>...</td>\n",
       "      <td>...</td>\n",
       "      <td>...</td>\n",
       "      <td>...</td>\n",
       "      <td>...</td>\n",
       "      <td>...</td>\n",
       "      <td>...</td>\n",
       "      <td>...</td>\n",
       "      <td>...</td>\n",
       "    </tr>\n",
       "    <tr>\n",
       "      <td>14530</td>\n",
       "      <td>0</td>\n",
       "      <td>0</td>\n",
       "      <td>0</td>\n",
       "      <td>2</td>\n",
       "      <td>0</td>\n",
       "      <td>0</td>\n",
       "      <td>0</td>\n",
       "      <td>0</td>\n",
       "      <td>0</td>\n",
       "      <td>0</td>\n",
       "      <td>...</td>\n",
       "      <td>0</td>\n",
       "      <td>0</td>\n",
       "      <td>0</td>\n",
       "      <td>0</td>\n",
       "      <td>0</td>\n",
       "      <td>0</td>\n",
       "      <td>0</td>\n",
       "      <td>0</td>\n",
       "      <td>0</td>\n",
       "      <td>0</td>\n",
       "    </tr>\n",
       "    <tr>\n",
       "      <td>14547</td>\n",
       "      <td>0</td>\n",
       "      <td>0</td>\n",
       "      <td>0</td>\n",
       "      <td>0</td>\n",
       "      <td>0</td>\n",
       "      <td>0</td>\n",
       "      <td>0</td>\n",
       "      <td>0</td>\n",
       "      <td>0</td>\n",
       "      <td>0</td>\n",
       "      <td>...</td>\n",
       "      <td>0</td>\n",
       "      <td>0</td>\n",
       "      <td>0</td>\n",
       "      <td>0</td>\n",
       "      <td>0</td>\n",
       "      <td>0</td>\n",
       "      <td>0</td>\n",
       "      <td>0</td>\n",
       "      <td>0</td>\n",
       "      <td>0</td>\n",
       "    </tr>\n",
       "    <tr>\n",
       "      <td>14549</td>\n",
       "      <td>0</td>\n",
       "      <td>0</td>\n",
       "      <td>0</td>\n",
       "      <td>0</td>\n",
       "      <td>0</td>\n",
       "      <td>0</td>\n",
       "      <td>0</td>\n",
       "      <td>0</td>\n",
       "      <td>0</td>\n",
       "      <td>0</td>\n",
       "      <td>...</td>\n",
       "      <td>0</td>\n",
       "      <td>0</td>\n",
       "      <td>0</td>\n",
       "      <td>0</td>\n",
       "      <td>0</td>\n",
       "      <td>0</td>\n",
       "      <td>0</td>\n",
       "      <td>0</td>\n",
       "      <td>0</td>\n",
       "      <td>0</td>\n",
       "    </tr>\n",
       "    <tr>\n",
       "      <td>14561</td>\n",
       "      <td>0</td>\n",
       "      <td>0</td>\n",
       "      <td>0</td>\n",
       "      <td>0</td>\n",
       "      <td>0</td>\n",
       "      <td>0</td>\n",
       "      <td>0</td>\n",
       "      <td>0</td>\n",
       "      <td>0</td>\n",
       "      <td>0</td>\n",
       "      <td>...</td>\n",
       "      <td>0</td>\n",
       "      <td>0</td>\n",
       "      <td>0</td>\n",
       "      <td>0</td>\n",
       "      <td>0</td>\n",
       "      <td>0</td>\n",
       "      <td>0</td>\n",
       "      <td>0</td>\n",
       "      <td>0</td>\n",
       "      <td>0</td>\n",
       "    </tr>\n",
       "    <tr>\n",
       "      <td>14571</td>\n",
       "      <td>1</td>\n",
       "      <td>0</td>\n",
       "      <td>0</td>\n",
       "      <td>0</td>\n",
       "      <td>0</td>\n",
       "      <td>0</td>\n",
       "      <td>0</td>\n",
       "      <td>0</td>\n",
       "      <td>0</td>\n",
       "      <td>0</td>\n",
       "      <td>...</td>\n",
       "      <td>0</td>\n",
       "      <td>0</td>\n",
       "      <td>0</td>\n",
       "      <td>0</td>\n",
       "      <td>0</td>\n",
       "      <td>0</td>\n",
       "      <td>0</td>\n",
       "      <td>0</td>\n",
       "      <td>0</td>\n",
       "      <td>0</td>\n",
       "    </tr>\n",
       "  </tbody>\n",
       "</table>\n",
       "<p>1451 rows × 900 columns</p>\n",
       "</div>"
      ],
      "text/plain": [
       "             0    1    2    3    4    5    6    7    8    9    ...  890  891  \\\n",
       "MATERIAL_ID                                                    ...             \n",
       "0              0    0    0    1    0    0    0    1    1    0  ...    0    0   \n",
       "1              0    0    0    1    0    0    0    1    1    0  ...    0    0   \n",
       "3              0    0    0    0    0    0    0    0    0    0  ...    0    0   \n",
       "13             0    0    0    0    0    0    0    0    1    0  ...    0    0   \n",
       "37             0    0    0    0    0    0    0    0    0    0  ...    0    0   \n",
       "...          ...  ...  ...  ...  ...  ...  ...  ...  ...  ...  ...  ...  ...   \n",
       "14530          0    0    0    2    0    0    0    0    0    0  ...    0    0   \n",
       "14547          0    0    0    0    0    0    0    0    0    0  ...    0    0   \n",
       "14549          0    0    0    0    0    0    0    0    0    0  ...    0    0   \n",
       "14561          0    0    0    0    0    0    0    0    0    0  ...    0    0   \n",
       "14571          1    0    0    0    0    0    0    0    0    0  ...    0    0   \n",
       "\n",
       "             892  893  894  895  896  897  898  899  \n",
       "MATERIAL_ID                                          \n",
       "0              0    0    0    0    0    0    0    0  \n",
       "1              0    0    0    0    0    0    0    0  \n",
       "3              0    0    0    0    0    0    0    0  \n",
       "13             0    0    0    0    0    0    0    0  \n",
       "37             0    0    0    0    0    0    0    0  \n",
       "...          ...  ...  ...  ...  ...  ...  ...  ...  \n",
       "14530          0    0    0    0    0    0    0    0  \n",
       "14547          0    0    0    0    0    0    0    0  \n",
       "14549          0    0    0    0    0    0    0    0  \n",
       "14561          0    0    0    0    0    0    0    0  \n",
       "14571          0    0    0    0    0    0    0    0  \n",
       "\n",
       "[1451 rows x 900 columns]"
      ]
     },
     "execution_count": 3082,
     "metadata": {},
     "output_type": "execute_result"
    }
   ],
   "source": [
    "full_test_features = full_test_data.loc[:, full_test_data.columns != 'CATEGORY']\n",
    "full_test_features"
   ]
  },
  {
   "cell_type": "markdown",
   "metadata": {},
   "source": [
    "### Full target of test_set"
   ]
  },
  {
   "cell_type": "code",
   "execution_count": 3083,
   "metadata": {},
   "outputs": [
    {
     "data": {
      "text/plain": [
       "MATERIAL_ID\n",
       "0        0\n",
       "1        0\n",
       "3        0\n",
       "13       0\n",
       "37       0\n",
       "        ..\n",
       "14530    0\n",
       "14547    0\n",
       "14549    0\n",
       "14561    0\n",
       "14571    0\n",
       "Name: CATEGORY, Length: 1451, dtype: int64"
      ]
     },
     "execution_count": 3083,
     "metadata": {},
     "output_type": "execute_result"
    }
   ],
   "source": [
    "full_test_target = full_test_data.CATEGORY\n",
    "full_test_target"
   ]
  },
  {
   "cell_type": "markdown",
   "metadata": {},
   "source": [
    "### Probability of ctg_1 of Test_set\n",
    "* The frequancy of tokens in test_set x The probability of tokens in train_set"
   ]
  },
  {
   "cell_type": "code",
   "execution_count": 3084,
   "metadata": {
    "scrolled": true
   },
   "outputs": [
    {
     "data": {
      "text/plain": [
       "0      0.006125\n",
       "1      0.000353\n",
       "2      0.169376\n",
       "3      0.048174\n",
       "4      0.001178\n",
       "         ...   \n",
       "895    0.000118\n",
       "896    0.000118\n",
       "897    0.000118\n",
       "898    0.000118\n",
       "899    0.000118\n",
       "Length: 900, dtype: float64"
      ]
     },
     "execution_count": 3084,
     "metadata": {},
     "output_type": "execute_result"
    }
   ],
   "source": [
    "prob_tokens_ctg_1_train_set"
   ]
  },
  {
   "cell_type": "code",
   "execution_count": 3085,
   "metadata": {},
   "outputs": [
    {
     "data": {
      "text/plain": [
       "MATERIAL_ID\n",
       "0        0.076678\n",
       "1        0.076678\n",
       "3        0.003769\n",
       "13       0.016608\n",
       "37       0.003062\n",
       "           ...   \n",
       "14530    0.096820\n",
       "14547    0.020377\n",
       "14549    0.013428\n",
       "14561    0.008127\n",
       "14571    0.006478\n",
       "Length: 1451, dtype: float64"
      ]
     },
     "execution_count": 3085,
     "metadata": {},
     "output_type": "execute_result"
    }
   ],
   "source": [
    "joint_pty = full_test_features.dot(prob_tokens_ctg_1_train_set)\n",
    "joint_pty"
   ]
  },
  {
   "cell_type": "markdown",
   "metadata": {},
   "source": [
    "# Prior\n",
    "* Prior is the percentage of event that we get from the datas.\n",
    "* If we want to count the fabric, Prior in this case is the probability of fabric.\n",
    "* numbers of fabric / total material.\n",
    "\n",
    "P( ctg_1 | documents )  = \n",
    "P( documentsl | ctg_1 ) * P( ctg_1) / P( document )\n"
   ]
  },
  {
   "cell_type": "markdown",
   "metadata": {},
   "source": [
    "# Joint probability in log format\n",
    "* Ctg_1 joint prob in log format"
   ]
  },
  {
   "cell_type": "code",
   "execution_count": 3086,
   "metadata": {},
   "outputs": [],
   "source": [
    "joint_log_ctg_1 = full_test_features.dot(np.log(prob_tokens_ctg_1_train_set) - np.log(prob_tokens_all_train_set)) + np.log(prob_ctg_1) "
   ]
  },
  {
   "cell_type": "code",
   "execution_count": 3087,
   "metadata": {},
   "outputs": [
    {
     "data": {
      "text/plain": [
       "MATERIAL_ID\n",
       "0    -48.541141\n",
       "1    -48.541141\n",
       "3     -9.687801\n",
       "13   -27.590780\n",
       "37   -16.733662\n",
       "dtype: float64"
      ]
     },
     "execution_count": 3087,
     "metadata": {},
     "output_type": "execute_result"
    }
   ],
   "source": [
    "joint_log_ctg_1[:5]"
   ]
  },
  {
   "cell_type": "markdown",
   "metadata": {},
   "source": [
    "* Ctg_0 joint prob in log format"
   ]
  },
  {
   "cell_type": "code",
   "execution_count": 3088,
   "metadata": {},
   "outputs": [],
   "source": [
    "joint_log_ctg_0 = full_test_features.dot(np.log(prob_tokens_ctg_0_train_set) - np.log(prob_tokens_all_train_set)) + np.log(1 - prob_ctg_1) "
   ]
  },
  {
   "cell_type": "code",
   "execution_count": 3089,
   "metadata": {},
   "outputs": [
    {
     "data": {
      "text/plain": [
       "MATERIAL_ID\n",
       "0     1.641071\n",
       "1     1.641071\n",
       "3     0.194337\n",
       "13    0.785866\n",
       "37    0.395175\n",
       "dtype: float64"
      ]
     },
     "execution_count": 3089,
     "metadata": {},
     "output_type": "execute_result"
    }
   ],
   "source": [
    "joint_log_ctg_0[:5]"
   ]
  },
  {
   "cell_type": "markdown",
   "metadata": {},
   "source": [
    "## Simplify Joint probability in log format\n",
    "* Only in the comparison situation can take away the snippet, in other condition, it will lead to a wrong result."
   ]
  },
  {
   "cell_type": "code",
   "execution_count": 3090,
   "metadata": {},
   "outputs": [],
   "source": [
    "joint_log_ctg_1 = full_test_features.dot(np.log(prob_tokens_ctg_1_train_set)) + np.log(prob_ctg_1)\n",
    "joint_log_ctg_0 = full_test_features.dot(np.log(prob_tokens_ctg_0_train_set)) + np.log(1-prob_ctg_1)"
   ]
  },
  {
   "cell_type": "markdown",
   "metadata": {},
   "source": [
    "# Prediction"
   ]
  },
  {
   "cell_type": "code",
   "execution_count": 3091,
   "metadata": {},
   "outputs": [],
   "source": [
    "prediction = joint_log_ctg_1 > joint_log_ctg_0"
   ]
  },
  {
   "cell_type": "markdown",
   "metadata": {},
   "source": [
    "* Check if the prediction got wrong.\n",
    "* If the joint_log_fabric bigger than joint_log_trim, show true. times 1 is for the boolean tured into numbrer 0 or 1.\n",
    "* If the material shows 1 means it is have more possibility as a fabric.\n",
    "* Then we compare the category list of the test_set to see if the prediction is same as the category of test_set"
   ]
  },
  {
   "cell_type": "code",
   "execution_count": 3092,
   "metadata": {},
   "outputs": [
    {
     "data": {
      "text/plain": [
       "-455.0837577340111"
      ]
     },
     "execution_count": 3092,
     "metadata": {},
     "output_type": "execute_result"
    }
   ],
   "source": [
    "joint_log_ctg_1.min()"
   ]
  },
  {
   "cell_type": "code",
   "execution_count": 3093,
   "metadata": {},
   "outputs": [
    {
     "data": {
      "text/plain": [
       "MATERIAL_ID\n",
       "14530    0\n",
       "14547    0\n",
       "14549    0\n",
       "14561    0\n",
       "14571    0\n",
       "dtype: int64"
      ]
     },
     "execution_count": 3093,
     "metadata": {},
     "output_type": "execute_result"
    }
   ],
   "source": [
    "prediction[-5:]*1"
   ]
  },
  {
   "cell_type": "code",
   "execution_count": 3094,
   "metadata": {},
   "outputs": [
    {
     "data": {
      "text/plain": [
       "MATERIAL_ID\n",
       "14530    0\n",
       "14547    0\n",
       "14549    0\n",
       "14561    0\n",
       "14571    0\n",
       "Name: CATEGORY, dtype: int64"
      ]
     },
     "execution_count": 3094,
     "metadata": {},
     "output_type": "execute_result"
    }
   ],
   "source": [
    "full_test_target[-5:]"
   ]
  },
  {
   "cell_type": "markdown",
   "metadata": {},
   "source": [
    "### Check the accuracy of this model"
   ]
  },
  {
   "cell_type": "code",
   "execution_count": 3095,
   "metadata": {
    "scrolled": true
   },
   "outputs": [
    {
     "name": "stdout",
     "output_type": "stream",
     "text": [
      "Does classified correctly 1420\n",
      "Does classfied incorrectly 31\n"
     ]
    }
   ],
   "source": [
    "correct_materials = (full_test_target == prediction).sum()\n",
    "print('Does classified correctly', correct_materials)\n",
    "num_materials_wrong = full_test_features.shape[0] - correct_materials\n",
    "print('Does classfied incorrectly', num_materials_wrong)"
   ]
  },
  {
   "cell_type": "markdown",
   "metadata": {},
   "source": [
    "### Accuracy %"
   ]
  },
  {
   "cell_type": "code",
   "execution_count": 3096,
   "metadata": {},
   "outputs": [
    {
     "data": {
      "text/plain": [
       "0.9786354238456237"
      ]
     },
     "execution_count": 3096,
     "metadata": {},
     "output_type": "execute_result"
    }
   ],
   "source": [
    "correct_materials / len(full_test_features)"
   ]
  },
  {
   "cell_type": "markdown",
   "metadata": {},
   "source": [
    "# Decision Boundary\n",
    "## Visualizing the results"
   ]
  },
  {
   "cell_type": "code",
   "execution_count": 3097,
   "metadata": {},
   "outputs": [],
   "source": [
    "yaxis_label = 'P(X | ' + SUBJECT + ')'\n",
    "xaxis_label = 'P(X | Others)'\n",
    "\n",
    "linedata = np.linspace(start = -14000, stop = 1, num = 1000)\n",
    "\n",
    "#Chart Styling\n",
    "sns.set_style('whitegrid')\n",
    "labels = 'Actual Category'\n",
    "\n",
    "summary_df = pd.DataFrame({xaxis_label: joint_log_ctg_1, \n",
    "                           yaxis_label: joint_log_ctg_0, \n",
    "                           labels: full_test_target})"
   ]
  },
  {
   "cell_type": "markdown",
   "metadata": {},
   "source": [
    "## The Decision Boundary\n",
    "* Since we transfored both joint probability, fabric and trim, into log format, so the value will be minus."
   ]
  },
  {
   "cell_type": "code",
   "execution_count": 3098,
   "metadata": {},
   "outputs": [
    {
     "data": {
      "image/png": "[encoded data removed]",
      "text/plain": [
       "<Figure size 468x468 with 1 Axes>"
      ]
     },
     "metadata": {},
     "output_type": "display_data"
    }
   ],
   "source": [
    "sns.lmplot(x = xaxis_label, y = yaxis_label, \n",
    "           data =summary_df, height = 6.5, \n",
    "           fit_reg=False, legend=False, scatter_kws={'alpha': 0.3, 's': 25}, \n",
    "           hue = labels, markers = ['o', 'x'], palette = 'Set2' )\n",
    "\n",
    "plt.xlim([joint_log_ctg_1.min() - 10, 1])\n",
    "plt.ylim([joint_log_ctg_1.min() - 10, 1])\n",
    "\n",
    "plt.plot(linedata, linedata, color = 'black')\n",
    "\n",
    "plt.legend(('Decision Boundary', SUBJECT , 'Other material'), \n",
    "           loc='lower right', fontsize = 14)\n",
    "\n",
    "plt.show()"
   ]
  },
  {
   "cell_type": "markdown",
   "metadata": {},
   "source": [
    "# False Positives and False Negatives\n",
    "* The function up.unique() shows the nubmer of value 0 is 2347, the value 1 is 650."
   ]
  },
  {
   "cell_type": "code",
   "execution_count": 3099,
   "metadata": {},
   "outputs": [
    {
     "data": {
      "text/plain": [
       "(array([False,  True]), array([1321,  130]))"
      ]
     },
     "execution_count": 3099,
     "metadata": {},
     "output_type": "execute_result"
    }
   ],
   "source": [
    "np.unique(prediction, return_counts = True)"
   ]
  },
  {
   "cell_type": "markdown",
   "metadata": {},
   "source": [
    "### True positives\n",
    "* It shows, the document is 1, the True, and model also predicts it as 1, True.\n",
    "* In this case, the material is fabric in CATEGORY, and the prediction also say it is fabric."
   ]
  },
  {
   "cell_type": "code",
   "execution_count": 3100,
   "metadata": {},
   "outputs": [],
   "source": [
    "true_pos = (y_test == 1)&(prediction == 1)"
   ]
  },
  {
   "cell_type": "code",
   "execution_count": 3101,
   "metadata": {},
   "outputs": [
    {
     "data": {
      "text/plain": [
       "99"
      ]
     },
     "execution_count": 3101,
     "metadata": {},
     "output_type": "execute_result"
    }
   ],
   "source": [
    "true_pos.sum()"
   ]
  },
  {
   "cell_type": "markdown",
   "metadata": {},
   "source": [
    "### True negatives\n",
    "* It shows, the document is 0, the False, and the model also predicts it as 0, False.\n",
    "* In this case, the material is actually trim in CATEGORY, and the prediction also say it is trim."
   ]
  },
  {
   "cell_type": "code",
   "execution_count": 3102,
   "metadata": {},
   "outputs": [],
   "source": [
    "true_neg = (y_test == 0)&(prediction ==0)"
   ]
  },
  {
   "cell_type": "code",
   "execution_count": 3103,
   "metadata": {},
   "outputs": [
    {
     "data": {
      "text/plain": [
       "1321"
      ]
     },
     "execution_count": 3103,
     "metadata": {},
     "output_type": "execute_result"
    }
   ],
   "source": [
    "true_neg.sum()"
   ]
  },
  {
   "cell_type": "markdown",
   "metadata": {},
   "source": [
    "### False positives\n",
    "* It shows, the document is 0, the False, and model predicts it as 1, True.\n",
    "* In this case, the material is trim in CATEGORY, and yet prediction says it is fabric."
   ]
  },
  {
   "cell_type": "code",
   "execution_count": 3104,
   "metadata": {},
   "outputs": [],
   "source": [
    "false_pos = (y_test == 0)&(prediction ==1)"
   ]
  },
  {
   "cell_type": "code",
   "execution_count": 3105,
   "metadata": {},
   "outputs": [
    {
     "data": {
      "text/plain": [
       "31"
      ]
     },
     "execution_count": 3105,
     "metadata": {},
     "output_type": "execute_result"
    }
   ],
   "source": [
    "false_pos.sum()"
   ]
  },
  {
   "cell_type": "markdown",
   "metadata": {},
   "source": [
    "### False negtives\n",
    "* It shows, the document is 1, the True, and model predicts it as 0, False.\n",
    "* In this case, the material is fabric in CATEGORY, and yet prediction says it is trim."
   ]
  },
  {
   "cell_type": "code",
   "execution_count": 3106,
   "metadata": {},
   "outputs": [],
   "source": [
    "false_neg = (y_test == 1)&(prediction == 0)"
   ]
  },
  {
   "cell_type": "code",
   "execution_count": 3107,
   "metadata": {},
   "outputs": [
    {
     "data": {
      "text/plain": [
       "0"
      ]
     },
     "execution_count": 3107,
     "metadata": {},
     "output_type": "execute_result"
    }
   ],
   "source": [
    "false_neg.sum()"
   ]
  },
  {
   "cell_type": "code",
   "execution_count": 3108,
   "metadata": {},
   "outputs": [
    {
     "data": {
      "text/plain": [
       "99"
      ]
     },
     "execution_count": 3108,
     "metadata": {},
     "output_type": "execute_result"
    }
   ],
   "source": [
    "(y_test == 1).sum()"
   ]
  },
  {
   "cell_type": "markdown",
   "metadata": {},
   "source": [
    "# Recall Score\n",
    "* It tells how much the model will omit the document. More the value close to 1, less the model will omit to fit document.\n",
    "* It tells the reliability of the model, in other words, how much the model resemble to the relevant documents.\n",
    "* More the value close to 1, less the model will omit any document."
   ]
  },
  {
   "cell_type": "code",
   "execution_count": 3109,
   "metadata": {},
   "outputs": [
    {
     "name": "stdout",
     "output_type": "stream",
     "text": [
      "Recall score is 100.00%\n"
     ]
    }
   ],
   "source": [
    "recall_score = true_pos.sum() / (y_test == 1).sum()\n",
    "print('Recall score is {:.2%}'. format(recall_score))"
   ]
  },
  {
   "cell_type": "markdown",
   "metadata": {},
   "source": [
    "# Precision Score\n",
    "* It tells how precisely the model predicting."
   ]
  },
  {
   "cell_type": "code",
   "execution_count": 3110,
   "metadata": {},
   "outputs": [
    {
     "name": "stdout",
     "output_type": "stream",
     "text": [
      "Precision score is 0.762\n"
     ]
    }
   ],
   "source": [
    "precision_score = true_pos.sum() / (true_pos.sum() + false_pos.sum())\n",
    "print('Precision score is {:.3}'.format(precision_score))"
   ]
  },
  {
   "cell_type": "markdown",
   "metadata": {},
   "source": [
    "# F-Score or F1 Score\n",
    "* Closer the value to 1, better the model is."
   ]
  },
  {
   "cell_type": "code",
   "execution_count": 3111,
   "metadata": {},
   "outputs": [
    {
     "name": "stdout",
     "output_type": "stream",
     "text": [
      "F Score is 0.86\n"
     ]
    }
   ],
   "source": [
    "f1_score = 2 * (precision_score * recall_score) / (precision_score + recall_score)\n",
    "print('F Score is {:.2}'.format(f1_score))"
   ]
  }
 ],
 "metadata": {
  "kernelspec": {
   "display_name": "Python 3",
   "language": "python",
   "name": "python3"
  },
  "language_info": {
   "codemirror_mode": {
    "name": "ipython",
    "version": 3
   },
   "file_extension": ".py",
   "mimetype": "text/x-python",
   "name": "python",
   "nbconvert_exporter": "python",
   "pygments_lexer": "ipython3",
   "version": "3.7.4"
  }
 },
 "nbformat": 4,
 "nbformat_minor": 2
}
