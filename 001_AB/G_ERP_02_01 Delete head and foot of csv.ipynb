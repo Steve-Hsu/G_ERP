{
 "cells": [
  {
   "cell_type": "markdown",
   "metadata": {},
   "source": [
    "# 02_01"
   ]
  },
  {
   "cell_type": "code",
   "execution_count": 300,
   "metadata": {},
   "outputs": [],
   "source": [
    "# 3rd pty modules\n",
    "import pandas as pd\n",
    "import numpy as np\n",
    "from openpyxl import load_workbook\n",
    "from os import walk\n",
    "from os.path import join\n",
    "\n",
    "# Custom modules\n",
    "from G_ERP_01_01 import get_xlsx, trim_None_col, trim_None_row\n",
    "\n",
    "FromDir = 'Bom datas/Airblaster/AB trimed BOM'\n",
    "ToDir = 'Bom datas/Airblaster/AB trimed head foot BOM'"
   ]
  },
  {
   "cell_type": "markdown",
   "metadata": {},
   "source": [
    "## Function_1\n",
    "### delete_head_foot_csv\n",
    "* Delete the head and foot of the bom in single csv file"
   ]
  },
  {
   "cell_type": "code",
   "execution_count": 346,
   "metadata": {},
   "outputs": [],
   "source": [
    "def delete_head_foot_csv(csv_file):\n",
    "    # import dataFrame by path of the csv file\n",
    "    bom = pd.read_csv(csv_file)\n",
    "    list_row = []\n",
    "    # delete the old index\n",
    "    bom.drop(columns = 'Unnamed: 0', inplace = True)\n",
    "    \n",
    "    # loop through the rows of the dataFrame\n",
    "    for row in bom.index:\n",
    "        # delete the rows that contain cell with value less than 6 cells\n",
    "        # by Airblaster's BOM it would find out the main area of the bom\n",
    "        # As we've turned all cell lowercase, the None will be turned into a string \"none\"\n",
    "        # Therefore, here we check nubmer of string 'none', to delete unwanted rows.\n",
    "        if bom.iloc[row].str.contains('none').sum() > 3:\n",
    "            list_row.append(row)\n",
    "        elif bom.iloc[row].str.contains('update').sum() > 0:\n",
    "            list_row.append(row)\n",
    "        \n",
    "    new_bom = bom.drop(list_row)\n",
    "    \n",
    "    # Add the \"label\" for the cell[0:1][0], \n",
    "    #it will be the first column header in the next step\n",
    "    new_bom.iloc[0]['0'] = 'label' \n",
    "    \n",
    "    # Double check if there any unwanted row.\n",
    "    # in this moment, this column should be with name \"none\"\n",
    "    # The column named 'none' should be last col if it exists.\n",
    "    if new_bom.iloc[0].str.contains('none').sum() > 0:\n",
    "        last_row = new_bom.shape[1]\n",
    "        new_bom = new_bom.drop(new_bom.columns[last_row - 1], axis = 1)\n",
    "            \n",
    "    return new_bom"
   ]
  },
  {
   "cell_type": "markdown",
   "metadata": {},
   "source": [
    "## Function_2\n",
    "### delete_head_foot_dir\n",
    "* Walk through a directory, the path(from_dir_path).\n",
    "* Delete the head and foot of the bom in a csv that in the diretory\n",
    "* Save all the trimed csv file to a directory, the path(to_dir_path)."
   ]
  },
  {
   "cell_type": "code",
   "execution_count": 347,
   "metadata": {},
   "outputs": [],
   "source": [
    "def delete_head_foot_dir(from_dir_path, to_dir_path):\n",
    "    for root, dirnames, filenames in walk(from_dir_path):\n",
    "        \n",
    "        # walk through each csv file\n",
    "        for file_name in filenames:\n",
    "            # get the path of the file\n",
    "            # To Avoid the method to work with Mac original useless data.\n",
    "            if file_name == '.DS_Store' or file_name.startswith('~$'):\n",
    "                print('Detect unwanted file format')\n",
    "            else:\n",
    "                filepath = join(root, file_name)\n",
    "                #Call the custom function to cut off the head and foot of the csv\n",
    "                new_bom = delete_head_foot_csv(filepath)\n",
    "                \n",
    "                #Take first row as the Column Header\n",
    "                new_bom.columns = new_bom.iloc[0]\n",
    "                  \n",
    "                #Delete all rows has same value as first row, \n",
    "                #as it still remain in the dataFrame\n",
    "                new_bom = new_bom.iloc[pd.RangeIndex(len(new_bom)).drop(0)]\n",
    "\n",
    "                #Save to the appointed directory\n",
    "                new_bom.to_csv(join(to_dir_path, file_name))\n",
    "                \n",
    "    return"
   ]
  },
  {
   "cell_type": "code",
   "execution_count": 348,
   "metadata": {},
   "outputs": [
    {
     "name": "stdout",
     "output_type": "stream",
     "text": [
      "Detect unwanted file format\n",
      "CPU times: user 3 µs, sys: 1 µs, total: 4 µs\n",
      "Wall time: 6.91 µs\n"
     ]
    }
   ],
   "source": [
    "delete_head_foot_dir(FromDir, ToDir)\n",
    "%time"
   ]
  },
  {
   "cell_type": "code",
   "execution_count": null,
   "metadata": {},
   "outputs": [],
   "source": []
  }
 ],
 "metadata": {
  "kernelspec": {
   "display_name": "Python 3",
   "language": "python",
   "name": "python3"
  },
  "language_info": {
   "codemirror_mode": {
    "name": "ipython",
    "version": 3
   },
   "file_extension": ".py",
   "mimetype": "text/x-python",
   "name": "python",
   "nbconvert_exporter": "python",
   "pygments_lexer": "ipython3",
   "version": "3.7.4"
  }
 },
 "nbformat": 4,
 "nbformat_minor": 2
}
