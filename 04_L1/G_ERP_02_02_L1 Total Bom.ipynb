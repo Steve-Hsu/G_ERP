{
 "cells": [
  {
   "cell_type": "code",
   "execution_count": 26,
   "metadata": {},
   "outputs": [],
   "source": [
    "# 3rd pty modules\n",
    "import pandas as pd\n",
    "import numpy as np\n",
    "from openpyxl import load_workbook\n",
    "from os import walk\n",
    "from os.path import join\n",
    "\n",
    "FromDir = 'Result_2'\n",
    "ToDir = 'Result_3'"
   ]
  },
  {
   "cell_type": "markdown",
   "metadata": {},
   "source": [
    "## Function_1\n",
    "### filter_col_csv\n",
    "* Delete the Unnamed columns of the bom in single csv file"
   ]
  },
  {
   "cell_type": "code",
   "execution_count": 27,
   "metadata": {},
   "outputs": [],
   "source": [
    "def filter_col_csv(csv_file, file_name):\n",
    "    bom = pd.read_csv(csv_file)\n",
    "    # Walk through each columns in the csv\n",
    "    bom.insert(0, 'Style', file_name, allow_duplicates = False)\n",
    "    for col in bom:\n",
    "        # filter out and delete the Unnamed use less columns\n",
    "        if str(col).startswith('Unnamed'): \n",
    "            bom = bom.drop([col], axis = 1)\n",
    "\n",
    "    return bom\n",
    "            "
   ]
  },
  {
   "cell_type": "markdown",
   "metadata": {},
   "source": [
    "## Function_2\n",
    "### fetch_col_dir\n",
    "* Walk through a dir, and combine all the datas of all bom into 1 single csv"
   ]
  },
  {
   "cell_type": "code",
   "execution_count": 50,
   "metadata": {},
   "outputs": [],
   "source": [
    "def fetch_col_dir(from_dir_path, to_dir_path):\n",
    "    for root, dirnames, filenames in walk(from_dir_path):\n",
    "        new_bom = pd.DataFrame([])\n",
    "        # walk through each csv file\n",
    "        for file_name in filenames:\n",
    "            # get the path of the file\n",
    "            # To Avoid the method to work with Mac original useless data.\n",
    "            if file_name == '.DS_Store' or file_name.startswith('~$'):\n",
    "                print('detect bad file')\n",
    "            else:\n",
    "                filepath = join(root, file_name)\n",
    "                #Access to the csv file\n",
    "                bom = filter_col_csv(filepath, file_name)\n",
    "                \n",
    "                new_bom = pd.concat([new_bom, bom], sort = True)\n",
    "                \n",
    "        new_bom.to_csv(to_dir_path + '/L1_BOM.csv')\n",
    "    return new_bom"
   ]
  },
  {
   "cell_type": "code",
   "execution_count": 57,
   "metadata": {},
   "outputs": [
    {
     "name": "stdout",
     "output_type": "stream",
     "text": [
      "detect bad file\n",
      "CPU times: user 1.02 s, sys: 31.8 ms, total: 1.05 s\n",
      "Wall time: 1.07 s\n"
     ]
    }
   ],
   "source": [
    "%%time\n",
    "x = fetch_col_dir(FromDir, ToDir)\n"
   ]
  },
  {
   "cell_type": "code",
   "execution_count": 58,
   "metadata": {},
   "outputs": [
    {
     "data": {
      "text/plain": [
       "(3540, 14)"
      ]
     },
     "execution_count": 58,
     "metadata": {},
     "output_type": "execute_result"
    }
   ],
   "source": [
    "x.shape"
   ]
  },
  {
   "cell_type": "code",
   "execution_count": null,
   "metadata": {},
   "outputs": [],
   "source": []
  }
 ],
 "metadata": {
  "kernelspec": {
   "display_name": "Python 3",
   "language": "python",
   "name": "python3"
  },
  "language_info": {
   "codemirror_mode": {
    "name": "ipython",
    "version": 3
   },
   "file_extension": ".py",
   "mimetype": "text/x-python",
   "name": "python",
   "nbconvert_exporter": "python",
   "pygments_lexer": "ipython3",
   "version": "3.7.4"
  }
 },
 "nbformat": 4,
 "nbformat_minor": 2
}
