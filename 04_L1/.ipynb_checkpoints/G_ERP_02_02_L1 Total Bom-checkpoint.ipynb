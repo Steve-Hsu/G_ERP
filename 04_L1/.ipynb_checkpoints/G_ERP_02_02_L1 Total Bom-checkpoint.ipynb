{
 "cells": [
  {
   "cell_type": "code",
   "execution_count": 1,
   "metadata": {},
   "outputs": [],
   "source": [
    "# 3rd pty modules\n",
    "import pandas as pd\n",
    "import numpy as np\n",
    "from openpyxl import load_workbook\n",
    "from os import walk\n",
    "from os.path import join\n",
    "\n",
    "FromDir = 'Result_2'\n",
    "ToDir = 'Result_3'"
   ]
  },
  {
   "cell_type": "markdown",
   "metadata": {},
   "source": [
    "## Function_1\n",
    "### filter_col_csv\n",
    "* Delete the Unnamed columns of the bom in single csv file"
   ]
  },
  {
   "cell_type": "code",
   "execution_count": 14,
   "metadata": {},
   "outputs": [],
   "source": [
    "def filter_col_csv(csv_file, file_name):\n",
    "    bom = pd.read_csv(csv_file)\n",
    "    # Walk through each columns in the csv\n",
    "    bom.insert(0, 'Style', file_name, allow_duplicates = False)\n",
    "    for col in bom:\n",
    "        # filter out and delete the Unnamed use less columns\n",
    "        if str(col).startswith('Unnamed'): \n",
    "            bom = bom.drop([col], axis = 1)\n",
    "\n",
    "    return bom\n",
    "            "
   ]
  },
  {
   "cell_type": "markdown",
   "metadata": {},
   "source": [
    "## Function_2\n",
    "### fetch_col_dir\n",
    "* Walk through a dir, and combine all the datas of all bom into 1 single csv"
   ]
  },
  {
   "cell_type": "code",
   "execution_count": 24,
   "metadata": {},
   "outputs": [],
   "source": [
    "def fetch_col_dir(from_dir_path, to_dir_path):\n",
    "    for root, dirnames, filenames in walk(from_dir_path):\n",
    "        new_bom = pd.DataFrame([])\n",
    "        # walk through each csv file\n",
    "        for file_name in filenames:\n",
    "            # get the path of the file\n",
    "            # To Avoid the method to work with Mac original useless data.\n",
    "            if file_name == '.DS_Store' or file_name.startswith('~$'):\n",
    "                print('detect bad file')\n",
    "            else:\n",
    "                filepath = join(root, file_name)\n",
    "                #Access to the csv file\n",
    "                bom = filter_col_csv(filepath, file_name)\n",
    "                \n",
    "                new_bom = pd.concat([new_bom, bom])\n",
    "                \n",
    "        new_bom.to_csv(to_dir_path + '/L1_BOM.csv')\n",
    "    return new_bom"
   ]
  },
  {
   "cell_type": "code",
   "execution_count": 25,
   "metadata": {},
   "outputs": [
    {
     "name": "stdout",
     "output_type": "stream",
     "text": [
      "ok L1-104-17_LEGACY_MARCH17_SHELL.csv\n",
      "ok L1-102-17_WINDSOR_TRIMS.csv\n",
      "ok L1TA-204-18_HEARTBREAKER_TWILL_04_05_17_SHELL.csv\n",
      "ok L1-103-18_GRIMEY_4-03-17_TRIMS.csv\n",
      "ok L1-206-17_STRAIGHT_LEG_CHINO_PANT_SHELL.csv\n",
      "ok L1-202-18_OVERALL_04_05_17_TRIMS.csv\n",
      "ok L1-101-18_ALPHA_4-7-17_SHELL.csv\n",
      "ok L1-111-18_STOOGE_4-06-17_TRIMS.csv\n",
      "ok L1-203-17_AMERICANA_TRIMS.csv\n",
      "ok L1-113-18_KENSINGTON_4-06-17_TRIMS.csv\n",
      "ok L1-105-18_AFTERSHOCK_4-07-17_SHELL.csv\n",
      "ok L1-107-18_WILCOX_4-7-17_SHELL.csv\n",
      "ok L1-101-17_ALPHA_SHELL.csv\n",
      "ok L1-109-18_ROCKEFELLER_4-07-17_SHELL.csv\n",
      "ok L1-102-18_SUTTON_4_7_17_TRIMS.csv\n",
      "ok L1-109-17_STOOGE_072616_SHELL.csv\n",
      "ok L1-209-18_SLIM_CARGO_04-04-17_SHELL.csv\n",
      "ok L1TA-203-18-B_SIREN_04_05_17_SHELL.csv\n",
      "ok L1-205-17_SLIM_CHINO_PANT_TRIMS.csv\n",
      "ok L1TA_202_17_LORETTA_DENIM_OVERALL_TRIMS.csv\n",
      "ok L1-202-17_OVERALL_TRIMS.csv\n",
      "ok L1TA-201-18_LORETTA_OVERALL_04_05_17_SHELL.csv\n",
      "detect bad file\n",
      "ok L1TA-102-18_TAMARYN_04-04-17_SHELL.csv\n",
      "ok L1TA-103-18_FAIRBANKS_04_12_17_TRIMS.csv\n",
      "ok L1TA-203-17_SIREN_PANT_TRIMS.csv\n",
      "ok L1-106-18_HASTING_4-12-17_SHELL.csv\n",
      "ok L1-104-16_LEGACY_JAN4_TRIMS.csv\n",
      "ok L1-208-17_SKINNY_TWILL_PANT_SHELL.csv\n",
      "ok L1-204-17_REGULAR_FIT_CARGO_PANT_SHELL.csv\n",
      "ok L1-209-17_SKINNY_DENIM_PANT_SHELL.csv\n",
      "ok L1-210-17_THUNDER_PANT_SHELL.csv\n",
      "ok L1TA-203-18-A_SIREN_04_05_17_TRIMS.csv\n"
     ]
    },
    {
     "name": "stderr",
     "output_type": "stream",
     "text": [
      "/Users/stevehsu/opt/anaconda3/lib/python3.7/site-packages/ipykernel_launcher.py:17: FutureWarning: Sorting because non-concatenation axis is not aligned. A future version\n",
      "of pandas will change to not sort by default.\n",
      "\n",
      "To accept the future behavior, pass 'sort=False'.\n",
      "\n",
      "To retain the current behavior and silence the warning, pass 'sort=True'.\n",
      "\n"
     ]
    },
    {
     "name": "stdout",
     "output_type": "stream",
     "text": [
      "ok L1TA_205_17_HEARTBREAKER_TWILL_PANT_TRIMS.csv\n",
      "ok L1TA-104-18_ANWEN_04-12-17_TRIMS.csv\n",
      "ok L1-104-18_LEGACY_4-07-17_TRIMS.csv\n",
      "ok L1TA-105-18_PROWLER_04-04-17_SHELL.csv\n",
      "ok L1-207-17_SLIM_BASIC_PANT_SHELL.csv\n",
      "ok L1TA_204_17_HEARTBREAKER_DENIM_PANT_TRIMS.csv\n",
      "ok L1-108-17_ROCKEFELLER_TRIMS.csv\n",
      "ok L1-201-17_GEMINI_2L_PANT_TRIMS.csv\n",
      "ok L1TA-101-18_EMMA_04-05-17_TRIMS.csv\n",
      "ok L1-207-18_STRAIGHT_STANDARD_04-04-17_SHELL.csv\n",
      "ok L1-108-18_TAXWOOD_JACKET_4-7-17_SHELL.csv\n",
      "ok L1-211-18_AFTERSHOCK_PANT_04-10-17_SHELL.csv\n",
      "ok L1TA-107-18_NIGHTINGALE_04_04_17_SHELL.csv\n",
      "ok L1-107-17_BARSTOW_MARCH17_SHELL.csv\n",
      "ok L1TA_201_17_LORETTA_TWILL_OVERALL_SHELL.csv\n",
      "ok L1-203-18_AMERICANA_03-30-17_SHELL.csv\n",
      "ok L1-206-18_TAXWOOD_PANT_04_10_17_TRIMS.csv\n",
      "ok L1TA-108-18_STRANGELOVE FLANNEL_32917_TRIMS.csv\n",
      "ok L1-106-17_HASTING_07_28_16_TRIMS.csv\n",
      "ok L1-103-17_BREWIN_TRIMS.csv\n",
      "ok L1-211-17_THE_ONE_PANT_BONDED_3L_TRIMS.csv\n",
      "ok L1-201-18_GEMINI_04-05-17_TRIMS.csv\n",
      "ok L1-208-18_SKINNY_TWILL_04-04-17_SHELL.csv\n",
      "ok L1TA-107-17_MOONAGE_090916_TRIMS.csv\n",
      "ok L1TA-205-18_HELLDIVER_04_05_17_SHELL.csv\n",
      "ok L1TA-106-18_LALENA_04_04_17_SHELL.csv\n",
      "ok L1-107-17_BARSTOW_SHELL.csv\n",
      "ok L1-205-18_SLIM_CHINO_04-04-17_TRIMS.csv\n",
      "ok L1-210-18_THUNDER_03-30-17_TRIMS.csv\n",
      "ok L1-105-17_LAWTON_TRIMS.csv\n",
      "ok L1-104-16_LEGACY_JAN4_SHELL.csv\n",
      "ok L1-106-18_HASTING_4-12-17_TRIMS.csv\n",
      "ok L1TA-203-17_SIREN_PANT_SHELL.csv\n",
      "ok L1TA-103-18_FAIRBANKS_04_12_17_SHELL.csv\n",
      "ok L1-208-17_SKINNY_TWILL_PANT_TRIMS.csv\n",
      "ok L1TA-203-18-B_SIREN_04_05_17_TRIMS.csv\n",
      "ok L1TA-102-18_TAMARYN_04-04-17_TRIMS.csv\n",
      "ok L1TA-201-18_LORETTA_OVERALL_04_05_17_TRIMS.csv\n",
      "ok L1-202-17_OVERALL_SHELL.csv\n",
      "ok L1TA_202_17_LORETTA_DENIM_OVERALL_SHELL.csv\n",
      "ok L1-205-17_SLIM_CHINO_PANT_SHELL.csv\n",
      "ok L1TA_205_17_HEARTBREAKER_TWILL_PANT_SHELL.csv\n",
      "ok L1TA-203-18-A_SIREN_04_05_17_SHELL.csv\n",
      "ok L1-104-18_LEGACY_4-07-17_SHELL.csv\n",
      "ok L1TA-104-18_ANWEN_04-12-17_SHELL.csv\n",
      "ok L1-209-17_SKINNY_DENIM_PANT_TRIMS.csv\n",
      "ok L1-204-17_REGULAR_FIT_CARGO_PANT_TRIMS.csv\n",
      "ok L1-210-17_THUNDER_PANT_TRIMS.csv\n",
      "ok L1-101-18_ALPHA_4-7-17_TRIMS.csv\n",
      "ok L1-102-17_WINDSOR_SHELL.csv\n",
      "ok L1-104-17_LEGACY_MARCH17_TRIMS.csv\n",
      "ok L1-202-18_OVERALL_04_05_17_SHELL.csv\n",
      "ok L1-206-17_STRAIGHT_LEG_CHINO_PANT_TRIMS.csv\n",
      "ok L1-103-18_GRIMEY_4-03-17_SHELL.csv\n",
      "ok L1TA-204-18_HEARTBREAKER_TWILL_04_05_17_TRIMS.csv\n",
      "ok L1-107-18_WILCOX_4-7-17_TRIMS.csv\n",
      "ok L1-105-18_AFTERSHOCK_4-07-17_TRIMS.csv\n",
      "ok L1-209-18_SLIM_CARGO_04-04-17_TRIMS.csv\n",
      "ok L1-109-17_STOOGE_072616_TRIMS.csv\n",
      "ok L1-102-18_SUTTON_4_7_17_SHELL.csv\n",
      "ok L1-109-18_ROCKEFELLER_4-07-17_TRIMS.csv\n",
      "ok L1-101-17_ALPHA_TRIMS.csv\n",
      "ok L1-203-17_AMERICANA_SHELL.csv\n",
      "ok L1-111-18_STOOGE_4-06-17_SHELL.csv\n",
      "ok L1-113-18_KENSINGTON_4-06-17_SHELL.csv\n",
      "ok L1TA-107-17_MOONAGE_090916_SHELL.csv\n",
      "ok L1-208-18_SKINNY_TWILL_04-04-17_TRIMS.csv\n",
      "ok L1-107-17_BARSTOW_TRIMS.csv\n",
      "ok L1TA-106-18_LALENA_04_04_17_TRIMS.csv\n",
      "ok L1TA-205-18_HELLDIVER_04_05_17_TRIMS.csv\n",
      "ok L1-103-17_BREWIN_SHELL.csv\n",
      "ok L1-201-18_GEMINI_04-05-17_SHELL.csv\n",
      "ok L1-211-17_THE_ONE_PANT_BONDED_3L_SHELL.csv\n",
      "ok L1-105-17_LAWTON_SHELL.csv\n",
      "ok L1-205-18_SLIM_CHINO_04-04-17_SHELL.csv\n",
      "ok L1-210-18_THUNDER_03-30-17_SHELL.csv\n",
      "ok L1TA-101-18_EMMA_04-05-17_SHELL.csv\n",
      "ok L1-201-17_GEMINI_2L_PANT_SHELL.csv\n",
      "ok L1-207-18_STRAIGHT_STANDARD_04-04-17_TRIMS.csv\n",
      "ok L1-207-17_SLIM_BASIC_PANT_TRIMS.csv\n",
      "ok L1TA-105-18_PROWLER_04-04-17_TRIMS.csv\n",
      "ok L1-108-17_ROCKEFELLER_SHELL.csv\n",
      "ok L1TA_204_17_HEARTBREAKER_DENIM_PANT_SHELL.csv\n",
      "ok L1-203-18_AMERICANA_03-30-17_TRIMS.csv\n",
      "ok L1-106-17_HASTING_07_28_16_SHELL.csv\n",
      "ok L1TA-108-18_STRANGELOVE FLANNEL_32917_SHELL.csv\n",
      "ok L1-206-18_TAXWOOD_PANT_04_10_17_SHELL.csv\n",
      "ok L1TA-107-18_NIGHTINGALE_04_04_17_TRIMS.csv\n",
      "ok L1-211-18_AFTERSHOCK_PANT_04-10-17_TRIMS.csv\n",
      "ok L1-108-18_TAXWOOD_JACKET_4-7-17_TRIMS.csv\n",
      "ok L1TA_201_17_LORETTA_TWILL_OVERALL_TRIMS.csv\n",
      "ok L1-107-17_BARSTOW_MARCH17_TRIMS.csv\n",
      "CPU times: user 1.02 s, sys: 66.9 ms, total: 1.09 s\n",
      "Wall time: 1.07 s\n"
     ]
    }
   ],
   "source": [
    "%%time\n",
    "x = fetch_col_dir(FromDir, ToDir)\n"
   ]
  },
  {
   "cell_type": "code",
   "execution_count": 23,
   "metadata": {},
   "outputs": [
    {
     "data": {
      "text/plain": [
       "(0, 0)"
      ]
     },
     "execution_count": 23,
     "metadata": {},
     "output_type": "execute_result"
    }
   ],
   "source": [
    "x.shape"
   ]
  },
  {
   "cell_type": "code",
   "execution_count": null,
   "metadata": {},
   "outputs": [],
   "source": []
  }
 ],
 "metadata": {
  "kernelspec": {
   "display_name": "Python 3",
   "language": "python",
   "name": "python3"
  },
  "language_info": {
   "codemirror_mode": {
    "name": "ipython",
    "version": 3
   },
   "file_extension": ".py",
   "mimetype": "text/x-python",
   "name": "python",
   "nbconvert_exporter": "python",
   "pygments_lexer": "ipython3",
   "version": "3.7.4"
  }
 },
 "nbformat": 4,
 "nbformat_minor": 2
}
