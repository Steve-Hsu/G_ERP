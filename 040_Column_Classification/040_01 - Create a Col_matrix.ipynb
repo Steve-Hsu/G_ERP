{
 "cells": [
  {
   "cell_type": "code",
   "execution_count": 62,
   "metadata": {},
   "outputs": [],
   "source": [
    "import pandas as pd\n",
    "import numpy as np\n",
    "\n",
    "source = [\n",
    "    'G_ERP_Matrix_BOM_v1.csv',\n",
    "    'G_ERP_database_v1_title_classify_v2_Add_missed_materials_v3.csv',\n",
    "         ]"
   ]
  },
  {
   "cell_type": "code",
   "execution_count": 63,
   "metadata": {},
   "outputs": [],
   "source": [
    "data = pd.read_csv('DataSource/'+source[1] ,encoding = 'ISO-8859-1', index_col = 0)"
   ]
  },
  {
   "cell_type": "markdown",
   "metadata": {},
   "source": [
    "# col_matrix()\n",
    "* This func basically, put all the datas in a column from each cell into 1 cell separated, separated by the style name."
   ]
  },
  {
   "cell_type": "code",
   "execution_count": 64,
   "metadata": {},
   "outputs": [],
   "source": [
    "\n",
    "def col_matrix(bom):\n",
    "    df = pd.DataFrame(columns = bom.columns)\n",
    "    styles = pd.unique(bom['style'])\n",
    "    col_name = bom.columns\n",
    "    x = 0\n",
    "    data_list = []\n",
    "    \n",
    "    for style in styles:\n",
    "        row_list = []\n",
    "        index = bom[bom['style'] == style].index\n",
    "        for col in col_name:\n",
    "            if col == 'style':\n",
    "                row_list.append(bom.at[index[0], 'style'])\n",
    "            elif col == 'brand':\n",
    "                row_list.append(bom.at[index[0], 'brand'])\n",
    "            else:\n",
    "                row_list.append((bom[bom['style'] == style][col]).tolist())\n",
    "                \n",
    "#         1 style for 1 row_list\n",
    "        data_list.append(row_list)\n",
    "#         print(len(data_list[0]))\n",
    "\n",
    "    new_bom = pd.DataFrame(data_list, columns = col_name)\n",
    "    \n",
    "    return new_bom"
   ]
  },
  {
   "cell_type": "code",
   "execution_count": 65,
   "metadata": {},
   "outputs": [
    {
     "name": "stdout",
     "output_type": "stream",
     "text": [
      "CPU times: user 36 s, sys: 128 ms, total: 36.2 s\n",
      "Wall time: 36.6 s\n"
     ]
    }
   ],
   "source": [
    "%%time\n",
    "col_matrix = col_matrix(data)"
   ]
  },
  {
   "cell_type": "code",
   "execution_count": 66,
   "metadata": {
    "scrolled": true
   },
   "outputs": [],
   "source": [
    "# col_matrix.to_csv('result/Col_Matrix/col_matrix.csv')"
   ]
  },
  {
   "cell_type": "code",
   "execution_count": 71,
   "metadata": {},
   "outputs": [],
   "source": [
    "col_matrix\n",
    "col_matrix.to_csv('result/Col_Matrix/col_matrix.csv')"
   ]
  },
  {
   "cell_type": "code",
   "execution_count": null,
   "metadata": {},
   "outputs": [],
   "source": []
  }
 ],
 "metadata": {
  "kernelspec": {
   "display_name": "Python 3",
   "language": "python",
   "name": "python3"
  },
  "language_info": {
   "codemirror_mode": {
    "name": "ipython",
    "version": 3
   },
   "file_extension": ".py",
   "mimetype": "text/x-python",
   "name": "python",
   "nbconvert_exporter": "python",
   "pygments_lexer": "ipython3",
   "version": "3.7.4"
  }
 },
 "nbformat": 4,
 "nbformat_minor": 2
}
