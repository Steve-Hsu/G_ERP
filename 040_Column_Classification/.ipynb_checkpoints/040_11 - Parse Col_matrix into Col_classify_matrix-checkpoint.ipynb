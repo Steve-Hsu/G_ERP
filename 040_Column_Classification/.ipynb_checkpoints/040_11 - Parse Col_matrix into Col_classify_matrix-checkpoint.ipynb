{
 "cells": [
  {
   "cell_type": "code",
   "execution_count": 8,
   "metadata": {},
   "outputs": [],
   "source": [
    "import pandas as pd\n",
    "import numpy as np\n",
    "from openpyxl import load_workbook\n",
    "from os import walk\n",
    "from os.path import join\n"
   ]
  },
  {
   "cell_type": "code",
   "execution_count": 9,
   "metadata": {},
   "outputs": [],
   "source": [
    "bom = pd.read_csv('result/Col_Matrix/col_matrix_trimed.csv', index_col = 0, encoding = 'ISO-8859-1')"
   ]
  },
  {
   "cell_type": "markdown",
   "metadata": {},
   "source": []
  },
  {
   "cell_type": "markdown",
   "metadata": {},
   "source": [
    "* This func is to parse the result of func \"col_matrix()\" into an available matrix, which with DOC_ID, feature, and target.\n",
    "* Notice, the column of feature in this func named as \"material\"."
   ]
  },
  {
   "cell_type": "code",
   "execution_count": 10,
   "metadata": {},
   "outputs": [],
   "source": [
    "def con(bom):\n",
    "    df = pd.DataFrame({ 'material':[]} )\n",
    "    df_list= []\n",
    "    for col in bom:\n",
    "        col_name = col\n",
    "        \n",
    "        # Take the column from the bom, and change it column name into \"material\"\n",
    "        col = pd.DataFrame({'material': bom[col]})\n",
    "        x = 1\n",
    "        \n",
    "        for y in bom:\n",
    "            # The column is named same as the current column, then add 1 as its value, the rest add 0 as its value.\n",
    "            if y == col_name:\n",
    "                col.insert(x, y, 1, allow_duplicates = True)\n",
    "            else:\n",
    "                col.insert(x, y, 0, allow_duplicates = True)\n",
    "            x = x + 1 \n",
    "        \n",
    "        # Append the dataFrame Col into the list.\n",
    "        df_list.append(col)\n",
    "        \n",
    "    # Concat all the df in the df_list in column direction, row to row.  \n",
    "    df = pd.concat(df_list)\n",
    "    return df"
   ]
  },
  {
   "cell_type": "code",
   "execution_count": 11,
   "metadata": {},
   "outputs": [],
   "source": [
    "x = con(bom)"
   ]
  },
  {
   "cell_type": "code",
   "execution_count": 12,
   "metadata": {},
   "outputs": [],
   "source": [
    "x.to_csv('result/Col_Classify_Matrix/col_classify_matrix.csv')"
   ]
  },
  {
   "cell_type": "code",
   "execution_count": null,
   "metadata": {},
   "outputs": [],
   "source": []
  }
 ],
 "metadata": {
  "kernelspec": {
   "display_name": "Python 3",
   "language": "python",
   "name": "python3"
  },
  "language_info": {
   "codemirror_mode": {
    "name": "ipython",
    "version": 3
   },
   "file_extension": ".py",
   "mimetype": "text/x-python",
   "name": "python",
   "nbconvert_exporter": "python",
   "pygments_lexer": "ipython3",
   "version": "3.7.4"
  }
 },
 "nbformat": 4,
 "nbformat_minor": 2
}
