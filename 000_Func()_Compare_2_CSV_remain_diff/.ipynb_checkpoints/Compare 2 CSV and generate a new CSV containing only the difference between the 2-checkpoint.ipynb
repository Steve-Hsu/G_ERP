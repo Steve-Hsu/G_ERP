{
 "cells": [
  {
   "cell_type": "markdown",
   "metadata": {},
   "source": [
    "# Compare boms\n",
    "* This page is for check the result of material classify\n",
    "* The way check is compare the mateiral ID in the result material_list and the original bom with ID added by funcion *B_with_ID()*.\n",
    "* Then generator another csv with on the difference material between tow data, by funciton *remain_diff()*"
   ]
  },
  {
   "cell_type": "code",
   "execution_count": 90,
   "metadata": {},
   "outputs": [],
   "source": [
    "import pandas as pd\n",
    "import numpy as np\n",
    "# File system\n",
    "from os import walk\n",
    "from os.path import join\n",
    "\n",
    "BOM ='DataSource/Original_BOM'\n",
    "CSV_1_DIR ='result/CSV_1_DIR'\n",
    "CSV_2_DIR = 'DataSource/Material_list'\n",
    "RESULT = 'result'\n",
    "SHEET_NAME_LIST = ['bom', 'trims', 'shell', 'fabric', 'accessories', 'spec']"
   ]
  },
  {
   "cell_type": "markdown",
   "metadata": {},
   "source": [
    "xl = pd.ExcelFile(TEST)"
   ]
  },
  {
   "cell_type": "markdown",
   "metadata": {},
   "source": [
    "## Convert bom to csv with ID\n",
    "* Comvert a bom into a csv with a column \"MATERIAL_ID\" with index numbers"
   ]
  },
  {
   "cell_type": "code",
   "execution_count": 91,
   "metadata": {},
   "outputs": [],
   "source": [
    "def B_with_ID(filepath, TO_DIR, file_name):\n",
    "    xl = pd.ExcelFile(filepath)\n",
    "    for sheet in xl.sheet_names:\n",
    "        name = str(sheet).lower()\n",
    "        if any(x in name for x in SHEET_NAME_LIST): \n",
    "            bom = xl.parse(sheet, index_col = None, header = None)\n",
    "            \n",
    "            bom.index.name = 'MATERIAL_ID'\n",
    "            # Delete empty columns\n",
    "            for col in bom:\n",
    "                if bom[col].count() == 0:\n",
    "                    bom = bom.drop(col, axis = 1)\n",
    "                    \n",
    "            bom.to_csv(TO_DIR + '/' + file_name + '_'+ sheet + '.csv')  \n",
    "    return"
   ]
  },
  {
   "cell_type": "markdown",
   "metadata": {},
   "source": [
    "* Walk through a dir"
   ]
  },
  {
   "cell_type": "code",
   "execution_count": 92,
   "metadata": {},
   "outputs": [],
   "source": [
    "def B_with_ID_walk_DIR(FROM_DIR, TO_DIR):\n",
    "    converted_xlsm_num = 0\n",
    "    for root, dirnames, filenames in walk(FROM_DIR):\n",
    "        # walk through each xlsx file\n",
    "        for file_name in filenames:\n",
    "             # get the path of the file\n",
    "            # Appoint the method only work with .xlsx file.\n",
    "            if file_name.endswith('.xlsx') :\n",
    "                converted_xlsm_num = converted_xlsm_num + 1\n",
    "                filepath = join(root, file_name)\n",
    "                # Custom function\n",
    "                B_with_ID(filepath, TO_DIR, file_name[0:-5])\n",
    "    print('Converted ', converted_xlsm_num, ' files')"
   ]
  },
  {
   "cell_type": "code",
   "execution_count": 93,
   "metadata": {},
   "outputs": [
    {
     "name": "stdout",
     "output_type": "stream",
     "text": [
      "Converted  15  files\n",
      "CPU times: user 1.27 s, sys: 26.3 ms, total: 1.29 s\n",
      "Wall time: 1.34 s\n"
     ]
    }
   ],
   "source": [
    "%%time\n",
    "B_with_ID_walk_DIR(BOM, CSV_1_DIR)"
   ]
  },
  {
   "cell_type": "markdown",
   "metadata": {},
   "source": [
    "## Compare two csv and remain the difference"
   ]
  },
  {
   "cell_type": "code",
   "execution_count": 94,
   "metadata": {},
   "outputs": [],
   "source": [
    "def remain_diff(CSV_1, CSV_2, filename, TO_DIR):\n",
    "    csv_1 = pd.read_csv(CSV_1, index_col = 0)\n",
    "    csv_2 = pd.read_csv(CSV_2 + '/' + filename + '_material_list.csv', index_col = 0)\n",
    "    diff_df = pd.concat([csv_1, csv_2], sort = False).drop_duplicates(keep = False)\n",
    "    diff_df.to_csv(TO_DIR + '/_diff_' + filename + '.csv' )"
   ]
  },
  {
   "cell_type": "markdown",
   "metadata": {},
   "source": [
    "* Walk through a dir"
   ]
  },
  {
   "cell_type": "code",
   "execution_count": 95,
   "metadata": {},
   "outputs": [],
   "source": [
    "def remain_diff_walk_DIR(FROM_DIR_1, FROM_DIR_2, TO_DIR):\n",
    "    converted_xlsm_num = 0\n",
    "    for root, dirnames, filenames in walk(FROM_DIR_1):\n",
    "        # walk through each xlsx file\n",
    "        for file_name in filenames:\n",
    "             # get the path of the file\n",
    "            # Appoint the method only work with .xlsx file.\n",
    "            if file_name.endswith('.csv') :\n",
    "                converted_xlsm_num = converted_xlsm_num + 1\n",
    "                CSV_1_filepath = join(root, file_name)\n",
    "                # Custom function\n",
    "                remain_diff(CSV_1_filepath, FROM_DIR_2, file_name[0:-4], TO_DIR)\n",
    "    print('Converted ', converted_xlsm_num, ' files')"
   ]
  },
  {
   "cell_type": "code",
   "execution_count": 96,
   "metadata": {},
   "outputs": [
    {
     "name": "stdout",
     "output_type": "stream",
     "text": [
      "Converted  0  files\n",
      "CPU times: user 364 µs, sys: 354 µs, total: 718 µs\n",
      "Wall time: 408 µs\n"
     ]
    }
   ],
   "source": [
    "%%time\n",
    "remain_diff_walk_DIR(CSV_1_DIR, CSV_2_DIR, RESULT)"
   ]
  },
  {
   "cell_type": "code",
   "execution_count": null,
   "metadata": {},
   "outputs": [],
   "source": []
  },
  {
   "cell_type": "code",
   "execution_count": null,
   "metadata": {},
   "outputs": [],
   "source": []
  },
  {
   "cell_type": "code",
   "execution_count": null,
   "metadata": {},
   "outputs": [],
   "source": []
  }
 ],
 "metadata": {
  "kernelspec": {
   "display_name": "Python 3",
   "language": "python",
   "name": "python3"
  },
  "language_info": {
   "codemirror_mode": {
    "name": "ipython",
    "version": 3
   },
   "file_extension": ".py",
   "mimetype": "text/x-python",
   "name": "python",
   "nbconvert_exporter": "python",
   "pygments_lexer": "ipython3",
   "version": "3.7.4"
  }
 },
 "nbformat": 4,
 "nbformat_minor": 2
}
