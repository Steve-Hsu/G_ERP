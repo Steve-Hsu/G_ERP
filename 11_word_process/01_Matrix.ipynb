{
 "cells": [
  {
   "cell_type": "code",
   "execution_count": 1,
   "metadata": {},
   "outputs": [],
   "source": [
    "import pandas as pd\n",
    "import numpy as np\n",
    "from openpyxl import load_workbook\n",
    "from os import walk\n",
    "from os.path import join\n"
   ]
  },
  {
   "cell_type": "code",
   "execution_count": 3,
   "metadata": {},
   "outputs": [],
   "source": [
    "bom = pd.read_csv('Matrix/G_ERP_Matrix_BOM.csv', index_col = 0)"
   ]
  },
  {
   "cell_type": "code",
   "execution_count": null,
   "metadata": {},
   "outputs": [],
   "source": [
    "description = bom['item'] + ' ' + bom['description'] + ' ' + bom['spec'] + ' ' + bom['width:'] + ' ' + bom['weight:']\n",
    "colorway = bom['colorway-1'] + ' ' + bom['colorway-2'] + ' ' + bom['colorway-3'] + ' ' + bom['colorway-4'] + ' ' + bom['colorway-5'] + ' ' + bom['colorway-6']+ ' ' + bom['colorway-7']+ ' ' + bom['colorway-8']\n"
   ]
  }
 ],
 "metadata": {
  "kernelspec": {
   "display_name": "Python 3",
   "language": "python",
   "name": "python3"
  },
  "language_info": {
   "codemirror_mode": {
    "name": "ipython",
    "version": 3
   },
   "file_extension": ".py",
   "mimetype": "text/x-python",
   "name": "python",
   "nbconvert_exporter": "python",
   "pygments_lexer": "ipython3",
   "version": "3.7.4"
  }
 },
 "nbformat": 4,
 "nbformat_minor": 2
}
